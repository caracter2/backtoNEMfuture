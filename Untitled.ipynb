{
 "cells": [
  {
   "cell_type": "code",
   "execution_count": 1,
   "id": "f475e90b-9ef9-4b47-919d-754111c01e94",
   "metadata": {
    "ExecuteTime": {
     "end_time": "2022-10-21T06:42:55.309012Z",
     "start_time": "2022-10-21T06:42:53.745909Z"
    },
    "execution": {
     "iopub.execute_input": "2022-10-11T05:17:36.950559Z",
     "iopub.status.busy": "2022-10-11T05:17:36.949558Z",
     "iopub.status.idle": "2022-10-11T05:17:37.543012Z",
     "shell.execute_reply": "2022-10-11T05:17:37.542319Z",
     "shell.execute_reply.started": "2022-10-11T05:17:36.950559Z"
    },
    "tags": []
   },
   "outputs": [],
   "source": [
    "import pandas as pd\n",
    "import numpy as np\n",
    "import predispatch_daily"
   ]
  },
  {
   "cell_type": "code",
   "execution_count": 2,
   "id": "dde124d1-5859-4c7b-bd9a-51a9520252b7",
   "metadata": {
    "ExecuteTime": {
     "end_time": "2022-10-21T06:42:55.325088Z",
     "start_time": "2022-10-21T06:42:55.310950Z"
    },
    "execution": {
     "iopub.execute_input": "2022-10-11T05:17:37.544035Z",
     "iopub.status.busy": "2022-10-11T05:17:37.544035Z",
     "iopub.status.idle": "2022-10-11T05:17:37.559049Z",
     "shell.execute_reply": "2022-10-11T05:17:37.558054Z",
     "shell.execute_reply.started": "2022-10-11T05:17:37.544035Z"
    },
    "tags": []
   },
   "outputs": [],
   "source": [
    "pd.options.display.max_colwidth = 500"
   ]
  },
  {
   "cell_type": "code",
   "execution_count": 3,
   "id": "4ecd5448-2f76-49f0-ab8a-f429c8cad6a4",
   "metadata": {
    "execution": {
     "iopub.execute_input": "2022-10-11T05:17:40.475539Z",
     "iopub.status.busy": "2022-10-11T05:17:40.475539Z",
     "iopub.status.idle": "2022-10-11T05:19:57.837001Z",
     "shell.execute_reply": "2022-10-11T05:19:57.836086Z",
     "shell.execute_reply.started": "2022-10-11T05:17:40.475539Z"
    },
    "tags": []
   },
   "outputs": [
    {
     "name": "stderr",
     "output_type": "stream",
     "text": [
      "0it [00:00, ?it/s]"
     ]
    },
    {
     "data": {
      "text/html": [
       "<div>\n",
       "<style scoped>\n",
       "    .dataframe tbody tr th:only-of-type {\n",
       "        vertical-align: middle;\n",
       "    }\n",
       "\n",
       "    .dataframe tbody tr th {\n",
       "        vertical-align: top;\n",
       "    }\n",
       "\n",
       "    .dataframe thead th {\n",
       "        text-align: right;\n",
       "    }\n",
       "</style>\n",
       "<table border=\"1\" class=\"dataframe\">\n",
       "  <thead>\n",
       "    <tr style=\"text-align: right;\">\n",
       "      <th></th>\n",
       "      <th>filename</th>\n",
       "    </tr>\n",
       "  </thead>\n",
       "  <tbody>\n",
       "    <tr>\n",
       "      <th>0</th>\n",
       "      <td>PUBLIC_PREDISPATCHIS_202209250030_20220925000400.zip</td>\n",
       "    </tr>\n",
       "    <tr>\n",
       "      <th>1</th>\n",
       "      <td>PUBLIC_PREDISPATCHIS_202209250100_20220925003351.zip</td>\n",
       "    </tr>\n",
       "    <tr>\n",
       "      <th>2</th>\n",
       "      <td>PUBLIC_PREDISPATCHIS_202209250130_20220925010346.zip</td>\n",
       "    </tr>\n",
       "    <tr>\n",
       "      <th>3</th>\n",
       "      <td>PUBLIC_PREDISPATCHIS_202209250200_20220925013325.zip</td>\n",
       "    </tr>\n",
       "    <tr>\n",
       "      <th>4</th>\n",
       "      <td>PUBLIC_PREDISPATCHIS_202209250230_20220925020344.zip</td>\n",
       "    </tr>\n",
       "    <tr>\n",
       "      <th>...</th>\n",
       "      <td>...</td>\n",
       "    </tr>\n",
       "    <tr>\n",
       "      <th>331</th>\n",
       "      <td>PUBLIC_PREDISPATCHIS_202210012200_20221001213421.zip</td>\n",
       "    </tr>\n",
       "    <tr>\n",
       "      <th>332</th>\n",
       "      <td>PUBLIC_PREDISPATCHIS_202210012230_20221001220439.zip</td>\n",
       "    </tr>\n",
       "    <tr>\n",
       "      <th>333</th>\n",
       "      <td>PUBLIC_PREDISPATCHIS_202210012300_20221001223334.zip</td>\n",
       "    </tr>\n",
       "    <tr>\n",
       "      <th>334</th>\n",
       "      <td>PUBLIC_PREDISPATCHIS_202210012330_20221001230346.zip</td>\n",
       "    </tr>\n",
       "    <tr>\n",
       "      <th>335</th>\n",
       "      <td>PUBLIC_PREDISPATCHIS_202210020000_20221001233339.zip</td>\n",
       "    </tr>\n",
       "  </tbody>\n",
       "</table>\n",
       "<p>336 rows × 1 columns</p>\n",
       "</div>"
      ],
      "text/plain": [
       "                                                 filename\n",
       "0    PUBLIC_PREDISPATCHIS_202209250030_20220925000400.zip\n",
       "1    PUBLIC_PREDISPATCHIS_202209250100_20220925003351.zip\n",
       "2    PUBLIC_PREDISPATCHIS_202209250130_20220925010346.zip\n",
       "3    PUBLIC_PREDISPATCHIS_202209250200_20220925013325.zip\n",
       "4    PUBLIC_PREDISPATCHIS_202209250230_20220925020344.zip\n",
       "..                                                    ...\n",
       "331  PUBLIC_PREDISPATCHIS_202210012200_20221001213421.zip\n",
       "332  PUBLIC_PREDISPATCHIS_202210012230_20221001220439.zip\n",
       "333  PUBLIC_PREDISPATCHIS_202210012300_20221001223334.zip\n",
       "334  PUBLIC_PREDISPATCHIS_202210012330_20221001230346.zip\n",
       "335  PUBLIC_PREDISPATCHIS_202210020000_20221001233339.zip\n",
       "\n",
       "[336 rows x 1 columns]"
      ]
     },
     "metadata": {},
     "output_type": "display_data"
    },
    {
     "data": {
      "text/html": [
       "<div>\n",
       "<style scoped>\n",
       "    .dataframe tbody tr th:only-of-type {\n",
       "        vertical-align: middle;\n",
       "    }\n",
       "\n",
       "    .dataframe tbody tr th {\n",
       "        vertical-align: top;\n",
       "    }\n",
       "\n",
       "    .dataframe thead th {\n",
       "        text-align: right;\n",
       "    }\n",
       "</style>\n",
       "<table border=\"1\" class=\"dataframe\">\n",
       "  <thead>\n",
       "    <tr style=\"text-align: right;\">\n",
       "      <th></th>\n",
       "      <th>filename</th>\n",
       "    </tr>\n",
       "  </thead>\n",
       "  <tbody>\n",
       "    <tr>\n",
       "      <th>287</th>\n",
       "      <td>PUBLIC_PREDISPATCHIS_202210010000_20220930233416.zip</td>\n",
       "    </tr>\n",
       "    <tr>\n",
       "      <th>288</th>\n",
       "      <td>PUBLIC_PREDISPATCHIS_202210010030_20221001000305.zip</td>\n",
       "    </tr>\n",
       "    <tr>\n",
       "      <th>289</th>\n",
       "      <td>PUBLIC_PREDISPATCHIS_202210010100_20221001003308.zip</td>\n",
       "    </tr>\n",
       "    <tr>\n",
       "      <th>290</th>\n",
       "      <td>PUBLIC_PREDISPATCHIS_202210010130_20221001010313.zip</td>\n",
       "    </tr>\n",
       "    <tr>\n",
       "      <th>291</th>\n",
       "      <td>PUBLIC_PREDISPATCHIS_202210010200_20221001013303.zip</td>\n",
       "    </tr>\n",
       "    <tr>\n",
       "      <th>292</th>\n",
       "      <td>PUBLIC_PREDISPATCHIS_202210010230_20221001020254.zip</td>\n",
       "    </tr>\n",
       "    <tr>\n",
       "      <th>293</th>\n",
       "      <td>PUBLIC_PREDISPATCHIS_202210010300_20221001023310.zip</td>\n",
       "    </tr>\n",
       "    <tr>\n",
       "      <th>294</th>\n",
       "      <td>PUBLIC_PREDISPATCHIS_202210010330_20221001030422.zip</td>\n",
       "    </tr>\n",
       "    <tr>\n",
       "      <th>295</th>\n",
       "      <td>PUBLIC_PREDISPATCHIS_202210010400_20221001033325.zip</td>\n",
       "    </tr>\n",
       "    <tr>\n",
       "      <th>296</th>\n",
       "      <td>PUBLIC_PREDISPATCHIS_202210010430_20221001040252.zip</td>\n",
       "    </tr>\n",
       "    <tr>\n",
       "      <th>297</th>\n",
       "      <td>PUBLIC_PREDISPATCHIS_202210010500_20221001043252.zip</td>\n",
       "    </tr>\n",
       "    <tr>\n",
       "      <th>298</th>\n",
       "      <td>PUBLIC_PREDISPATCHIS_202210010530_20221001050304.zip</td>\n",
       "    </tr>\n",
       "    <tr>\n",
       "      <th>299</th>\n",
       "      <td>PUBLIC_PREDISPATCHIS_202210010600_20221001053259.zip</td>\n",
       "    </tr>\n",
       "    <tr>\n",
       "      <th>300</th>\n",
       "      <td>PUBLIC_PREDISPATCHIS_202210010630_20221001060258.zip</td>\n",
       "    </tr>\n",
       "    <tr>\n",
       "      <th>301</th>\n",
       "      <td>PUBLIC_PREDISPATCHIS_202210010700_20221001063326.zip</td>\n",
       "    </tr>\n",
       "    <tr>\n",
       "      <th>302</th>\n",
       "      <td>PUBLIC_PREDISPATCHIS_202210010730_20221001070221.zip</td>\n",
       "    </tr>\n",
       "    <tr>\n",
       "      <th>303</th>\n",
       "      <td>PUBLIC_PREDISPATCHIS_202210010800_20221001073301.zip</td>\n",
       "    </tr>\n",
       "    <tr>\n",
       "      <th>304</th>\n",
       "      <td>PUBLIC_PREDISPATCHIS_202210010830_20221001080305.zip</td>\n",
       "    </tr>\n",
       "    <tr>\n",
       "      <th>305</th>\n",
       "      <td>PUBLIC_PREDISPATCHIS_202210010900_20221001083237.zip</td>\n",
       "    </tr>\n",
       "    <tr>\n",
       "      <th>306</th>\n",
       "      <td>PUBLIC_PREDISPATCHIS_202210010930_20221001090239.zip</td>\n",
       "    </tr>\n",
       "    <tr>\n",
       "      <th>307</th>\n",
       "      <td>PUBLIC_PREDISPATCHIS_202210011000_20221001093237.zip</td>\n",
       "    </tr>\n",
       "    <tr>\n",
       "      <th>308</th>\n",
       "      <td>PUBLIC_PREDISPATCHIS_202210011030_20221001100309.zip</td>\n",
       "    </tr>\n",
       "    <tr>\n",
       "      <th>309</th>\n",
       "      <td>PUBLIC_PREDISPATCHIS_202210011100_20221001103258.zip</td>\n",
       "    </tr>\n",
       "    <tr>\n",
       "      <th>310</th>\n",
       "      <td>PUBLIC_PREDISPATCHIS_202210011130_20221001110230.zip</td>\n",
       "    </tr>\n",
       "    <tr>\n",
       "      <th>311</th>\n",
       "      <td>PUBLIC_PREDISPATCHIS_202210011200_20221001113250.zip</td>\n",
       "    </tr>\n",
       "    <tr>\n",
       "      <th>312</th>\n",
       "      <td>PUBLIC_PREDISPATCHIS_202210011230_20221001120259.zip</td>\n",
       "    </tr>\n",
       "    <tr>\n",
       "      <th>313</th>\n",
       "      <td>PUBLIC_PREDISPATCHIS_202210011300_20221001123738.zip</td>\n",
       "    </tr>\n",
       "    <tr>\n",
       "      <th>314</th>\n",
       "      <td>PUBLIC_PREDISPATCHIS_202210011330_20221001130508.zip</td>\n",
       "    </tr>\n",
       "    <tr>\n",
       "      <th>315</th>\n",
       "      <td>PUBLIC_PREDISPATCHIS_202210011400_20221001133455.zip</td>\n",
       "    </tr>\n",
       "    <tr>\n",
       "      <th>316</th>\n",
       "      <td>PUBLIC_PREDISPATCHIS_202210011430_20221001140510.zip</td>\n",
       "    </tr>\n",
       "    <tr>\n",
       "      <th>317</th>\n",
       "      <td>PUBLIC_PREDISPATCHIS_202210011500_20221001143439.zip</td>\n",
       "    </tr>\n",
       "    <tr>\n",
       "      <th>318</th>\n",
       "      <td>PUBLIC_PREDISPATCHIS_202210011530_20221001150357.zip</td>\n",
       "    </tr>\n",
       "    <tr>\n",
       "      <th>319</th>\n",
       "      <td>PUBLIC_PREDISPATCHIS_202210011600_20221001153434.zip</td>\n",
       "    </tr>\n",
       "    <tr>\n",
       "      <th>320</th>\n",
       "      <td>PUBLIC_PREDISPATCHIS_202210011630_20221001160524.zip</td>\n",
       "    </tr>\n",
       "    <tr>\n",
       "      <th>321</th>\n",
       "      <td>PUBLIC_PREDISPATCHIS_202210011700_20221001163451.zip</td>\n",
       "    </tr>\n",
       "    <tr>\n",
       "      <th>322</th>\n",
       "      <td>PUBLIC_PREDISPATCHIS_202210011730_20221001170358.zip</td>\n",
       "    </tr>\n",
       "    <tr>\n",
       "      <th>323</th>\n",
       "      <td>PUBLIC_PREDISPATCHIS_202210011800_20221001173409.zip</td>\n",
       "    </tr>\n",
       "    <tr>\n",
       "      <th>324</th>\n",
       "      <td>PUBLIC_PREDISPATCHIS_202210011830_20221001180403.zip</td>\n",
       "    </tr>\n",
       "    <tr>\n",
       "      <th>325</th>\n",
       "      <td>PUBLIC_PREDISPATCHIS_202210011900_20221001183523.zip</td>\n",
       "    </tr>\n",
       "    <tr>\n",
       "      <th>326</th>\n",
       "      <td>PUBLIC_PREDISPATCHIS_202210011930_20221001190512.zip</td>\n",
       "    </tr>\n",
       "    <tr>\n",
       "      <th>327</th>\n",
       "      <td>PUBLIC_PREDISPATCHIS_202210012000_20221001193535.zip</td>\n",
       "    </tr>\n",
       "    <tr>\n",
       "      <th>328</th>\n",
       "      <td>PUBLIC_PREDISPATCHIS_202210012030_20221001200505.zip</td>\n",
       "    </tr>\n",
       "    <tr>\n",
       "      <th>329</th>\n",
       "      <td>PUBLIC_PREDISPATCHIS_202210012100_20221001203554.zip</td>\n",
       "    </tr>\n",
       "    <tr>\n",
       "      <th>330</th>\n",
       "      <td>PUBLIC_PREDISPATCHIS_202210012130_20221001210428.zip</td>\n",
       "    </tr>\n",
       "    <tr>\n",
       "      <th>331</th>\n",
       "      <td>PUBLIC_PREDISPATCHIS_202210012200_20221001213421.zip</td>\n",
       "    </tr>\n",
       "    <tr>\n",
       "      <th>332</th>\n",
       "      <td>PUBLIC_PREDISPATCHIS_202210012230_20221001220439.zip</td>\n",
       "    </tr>\n",
       "    <tr>\n",
       "      <th>333</th>\n",
       "      <td>PUBLIC_PREDISPATCHIS_202210012300_20221001223334.zip</td>\n",
       "    </tr>\n",
       "    <tr>\n",
       "      <th>334</th>\n",
       "      <td>PUBLIC_PREDISPATCHIS_202210012330_20221001230346.zip</td>\n",
       "    </tr>\n",
       "    <tr>\n",
       "      <th>335</th>\n",
       "      <td>PUBLIC_PREDISPATCHIS_202210020000_20221001233339.zip</td>\n",
       "    </tr>\n",
       "  </tbody>\n",
       "</table>\n",
       "</div>"
      ],
      "text/plain": [
       "                                                 filename\n",
       "287  PUBLIC_PREDISPATCHIS_202210010000_20220930233416.zip\n",
       "288  PUBLIC_PREDISPATCHIS_202210010030_20221001000305.zip\n",
       "289  PUBLIC_PREDISPATCHIS_202210010100_20221001003308.zip\n",
       "290  PUBLIC_PREDISPATCHIS_202210010130_20221001010313.zip\n",
       "291  PUBLIC_PREDISPATCHIS_202210010200_20221001013303.zip\n",
       "292  PUBLIC_PREDISPATCHIS_202210010230_20221001020254.zip\n",
       "293  PUBLIC_PREDISPATCHIS_202210010300_20221001023310.zip\n",
       "294  PUBLIC_PREDISPATCHIS_202210010330_20221001030422.zip\n",
       "295  PUBLIC_PREDISPATCHIS_202210010400_20221001033325.zip\n",
       "296  PUBLIC_PREDISPATCHIS_202210010430_20221001040252.zip\n",
       "297  PUBLIC_PREDISPATCHIS_202210010500_20221001043252.zip\n",
       "298  PUBLIC_PREDISPATCHIS_202210010530_20221001050304.zip\n",
       "299  PUBLIC_PREDISPATCHIS_202210010600_20221001053259.zip\n",
       "300  PUBLIC_PREDISPATCHIS_202210010630_20221001060258.zip\n",
       "301  PUBLIC_PREDISPATCHIS_202210010700_20221001063326.zip\n",
       "302  PUBLIC_PREDISPATCHIS_202210010730_20221001070221.zip\n",
       "303  PUBLIC_PREDISPATCHIS_202210010800_20221001073301.zip\n",
       "304  PUBLIC_PREDISPATCHIS_202210010830_20221001080305.zip\n",
       "305  PUBLIC_PREDISPATCHIS_202210010900_20221001083237.zip\n",
       "306  PUBLIC_PREDISPATCHIS_202210010930_20221001090239.zip\n",
       "307  PUBLIC_PREDISPATCHIS_202210011000_20221001093237.zip\n",
       "308  PUBLIC_PREDISPATCHIS_202210011030_20221001100309.zip\n",
       "309  PUBLIC_PREDISPATCHIS_202210011100_20221001103258.zip\n",
       "310  PUBLIC_PREDISPATCHIS_202210011130_20221001110230.zip\n",
       "311  PUBLIC_PREDISPATCHIS_202210011200_20221001113250.zip\n",
       "312  PUBLIC_PREDISPATCHIS_202210011230_20221001120259.zip\n",
       "313  PUBLIC_PREDISPATCHIS_202210011300_20221001123738.zip\n",
       "314  PUBLIC_PREDISPATCHIS_202210011330_20221001130508.zip\n",
       "315  PUBLIC_PREDISPATCHIS_202210011400_20221001133455.zip\n",
       "316  PUBLIC_PREDISPATCHIS_202210011430_20221001140510.zip\n",
       "317  PUBLIC_PREDISPATCHIS_202210011500_20221001143439.zip\n",
       "318  PUBLIC_PREDISPATCHIS_202210011530_20221001150357.zip\n",
       "319  PUBLIC_PREDISPATCHIS_202210011600_20221001153434.zip\n",
       "320  PUBLIC_PREDISPATCHIS_202210011630_20221001160524.zip\n",
       "321  PUBLIC_PREDISPATCHIS_202210011700_20221001163451.zip\n",
       "322  PUBLIC_PREDISPATCHIS_202210011730_20221001170358.zip\n",
       "323  PUBLIC_PREDISPATCHIS_202210011800_20221001173409.zip\n",
       "324  PUBLIC_PREDISPATCHIS_202210011830_20221001180403.zip\n",
       "325  PUBLIC_PREDISPATCHIS_202210011900_20221001183523.zip\n",
       "326  PUBLIC_PREDISPATCHIS_202210011930_20221001190512.zip\n",
       "327  PUBLIC_PREDISPATCHIS_202210012000_20221001193535.zip\n",
       "328  PUBLIC_PREDISPATCHIS_202210012030_20221001200505.zip\n",
       "329  PUBLIC_PREDISPATCHIS_202210012100_20221001203554.zip\n",
       "330  PUBLIC_PREDISPATCHIS_202210012130_20221001210428.zip\n",
       "331  PUBLIC_PREDISPATCHIS_202210012200_20221001213421.zip\n",
       "332  PUBLIC_PREDISPATCHIS_202210012230_20221001220439.zip\n",
       "333  PUBLIC_PREDISPATCHIS_202210012300_20221001223334.zip\n",
       "334  PUBLIC_PREDISPATCHIS_202210012330_20221001230346.zip\n",
       "335  PUBLIC_PREDISPATCHIS_202210020000_20221001233339.zip"
      ]
     },
     "metadata": {},
     "output_type": "display_data"
    },
    {
     "name": "stdout",
     "output_type": "stream",
     "text": [
      "PUBLIC_PREDISPATCHIS_202210010000_20220930233416.zip\n",
      "PUBLIC_PREDISPATCHIS_202210010030_20221001000305.zip\n",
      "PUBLIC_PREDISPATCHIS_202210010100_20221001003308.zip\n",
      "PUBLIC_PREDISPATCHIS_202210010130_20221001010313.zip\n",
      "PUBLIC_PREDISPATCHIS_202210010200_20221001013303.zip\n",
      "PUBLIC_PREDISPATCHIS_202210010230_20221001020254.zip\n",
      "PUBLIC_PREDISPATCHIS_202210010300_20221001023310.zip\n",
      "PUBLIC_PREDISPATCHIS_202210010330_20221001030422.zip\n",
      "PUBLIC_PREDISPATCHIS_202210010400_20221001033325.zip\n",
      "PUBLIC_PREDISPATCHIS_202210010430_20221001040252.zip\n",
      "PUBLIC_PREDISPATCHIS_202210010500_20221001043252.zip\n",
      "PUBLIC_PREDISPATCHIS_202210010530_20221001050304.zip\n",
      "PUBLIC_PREDISPATCHIS_202210010600_20221001053259.zip\n",
      "PUBLIC_PREDISPATCHIS_202210010630_20221001060258.zip\n",
      "PUBLIC_PREDISPATCHIS_202210010700_20221001063326.zip\n",
      "PUBLIC_PREDISPATCHIS_202210010730_20221001070221.zip\n",
      "PUBLIC_PREDISPATCHIS_202210010800_20221001073301.zip\n",
      "PUBLIC_PREDISPATCHIS_202210010830_20221001080305.zip\n",
      "PUBLIC_PREDISPATCHIS_202210010900_20221001083237.zip\n",
      "PUBLIC_PREDISPATCHIS_202210010930_20221001090239.zip\n",
      "PUBLIC_PREDISPATCHIS_202210011000_20221001093237.zip\n",
      "PUBLIC_PREDISPATCHIS_202210011030_20221001100309.zip\n",
      "PUBLIC_PREDISPATCHIS_202210011100_20221001103258.zip\n",
      "PUBLIC_PREDISPATCHIS_202210011130_20221001110230.zip\n",
      "PUBLIC_PREDISPATCHIS_202210011200_20221001113250.zip\n",
      "PUBLIC_PREDISPATCHIS_202210011230_20221001120259.zip\n",
      "PUBLIC_PREDISPATCHIS_202210011300_20221001123738.zip\n",
      "PUBLIC_PREDISPATCHIS_202210011330_20221001130508.zip\n",
      "PUBLIC_PREDISPATCHIS_202210011400_20221001133455.zip\n",
      "PUBLIC_PREDISPATCHIS_202210011430_20221001140510.zip\n",
      "PUBLIC_PREDISPATCHIS_202210011500_20221001143439.zip\n",
      "PUBLIC_PREDISPATCHIS_202210011530_20221001150357.zip\n",
      "PUBLIC_PREDISPATCHIS_202210011600_20221001153434.zip\n",
      "PUBLIC_PREDISPATCHIS_202210011630_20221001160524.zip\n",
      "PUBLIC_PREDISPATCHIS_202210011700_20221001163451.zip\n",
      "PUBLIC_PREDISPATCHIS_202210011730_20221001170358.zip\n",
      "PUBLIC_PREDISPATCHIS_202210011800_20221001173409.zip\n",
      "PUBLIC_PREDISPATCHIS_202210011830_20221001180403.zip\n",
      "PUBLIC_PREDISPATCHIS_202210011900_20221001183523.zip\n",
      "PUBLIC_PREDISPATCHIS_202210011930_20221001190512.zip\n",
      "PUBLIC_PREDISPATCHIS_202210012000_20221001193535.zip\n",
      "PUBLIC_PREDISPATCHIS_202210012030_20221001200505.zip\n",
      "PUBLIC_PREDISPATCHIS_202210012100_20221001203554.zip\n",
      "PUBLIC_PREDISPATCHIS_202210012130_20221001210428.zip\n",
      "PUBLIC_PREDISPATCHIS_202210012200_20221001213421.zip\n",
      "PUBLIC_PREDISPATCHIS_202210012230_20221001220439.zip\n",
      "PUBLIC_PREDISPATCHIS_202210012300_20221001223334.zip\n",
      "PUBLIC_PREDISPATCHIS_202210012330_20221001230346.zip\n",
      "PUBLIC_PREDISPATCHIS_202210020000_20221001233339.zip\n"
     ]
    },
    {
     "name": "stderr",
     "output_type": "stream",
     "text": [
      "1it [01:15, 75.09s/it]"
     ]
    },
    {
     "data": {
      "text/html": [
       "<div>\n",
       "<style scoped>\n",
       "    .dataframe tbody tr th:only-of-type {\n",
       "        vertical-align: middle;\n",
       "    }\n",
       "\n",
       "    .dataframe tbody tr th {\n",
       "        vertical-align: top;\n",
       "    }\n",
       "\n",
       "    .dataframe thead th {\n",
       "        text-align: right;\n",
       "    }\n",
       "</style>\n",
       "<table border=\"1\" class=\"dataframe\">\n",
       "  <thead>\n",
       "    <tr style=\"text-align: right;\">\n",
       "      <th></th>\n",
       "      <th>filename</th>\n",
       "    </tr>\n",
       "  </thead>\n",
       "  <tbody>\n",
       "    <tr>\n",
       "      <th>0</th>\n",
       "      <td>PUBLIC_PREDISPATCHIS_202210010030_20221001000305.CSV</td>\n",
       "    </tr>\n",
       "  </tbody>\n",
       "</table>\n",
       "</div>"
      ],
      "text/plain": [
       "                                               filename\n",
       "0  PUBLIC_PREDISPATCHIS_202210010030_20221001000305.CSV"
      ]
     },
     "metadata": {},
     "output_type": "display_data"
    },
    {
     "name": "stderr",
     "output_type": "stream",
     "text": [
      "C:\\Users\\Gerry.Flores\\AppData\\Roaming\\Python\\Python38\\site-packages\\dateutil\\parser\\_parser.py:1207: UnknownTimezoneWarning: tzname CSV identified but not understood.  Pass `tzinfos` argument in order to correctly return a timezone-aware datetime.  In a future version, this will raise an exception.\n",
      "  warnings.warn(\"tzname {tzname} identified but not understood.  \"\n"
     ]
    },
    {
     "data": {
      "text/html": [
       "<div>\n",
       "<style scoped>\n",
       "    .dataframe tbody tr th:only-of-type {\n",
       "        vertical-align: middle;\n",
       "    }\n",
       "\n",
       "    .dataframe tbody tr th {\n",
       "        vertical-align: top;\n",
       "    }\n",
       "\n",
       "    .dataframe thead th {\n",
       "        text-align: right;\n",
       "    }\n",
       "</style>\n",
       "<table border=\"1\" class=\"dataframe\">\n",
       "  <thead>\n",
       "    <tr style=\"text-align: right;\">\n",
       "      <th></th>\n",
       "      <th>filename</th>\n",
       "    </tr>\n",
       "  </thead>\n",
       "  <tbody>\n",
       "    <tr>\n",
       "      <th>0</th>\n",
       "      <td>PUBLIC_PREDISPATCHIS_202210010030_20221001000305.CSV</td>\n",
       "    </tr>\n",
       "  </tbody>\n",
       "</table>\n",
       "</div>"
      ],
      "text/plain": [
       "                                               filename\n",
       "0  PUBLIC_PREDISPATCHIS_202210010030_20221001000305.CSV"
      ]
     },
     "metadata": {},
     "output_type": "display_data"
    },
    {
     "name": "stdout",
     "output_type": "stream",
     "text": [
      "PUBLIC_PREDISPATCHIS_202210010030_20221001000305.CSV\n"
     ]
    },
    {
     "name": "stderr",
     "output_type": "stream",
     "text": [
      "2it [01:16, 31.66s/it]"
     ]
    },
    {
     "data": {
      "text/html": [
       "<div>\n",
       "<style scoped>\n",
       "    .dataframe tbody tr th:only-of-type {\n",
       "        vertical-align: middle;\n",
       "    }\n",
       "\n",
       "    .dataframe tbody tr th {\n",
       "        vertical-align: top;\n",
       "    }\n",
       "\n",
       "    .dataframe thead th {\n",
       "        text-align: right;\n",
       "    }\n",
       "</style>\n",
       "<table border=\"1\" class=\"dataframe\">\n",
       "  <thead>\n",
       "    <tr style=\"text-align: right;\">\n",
       "      <th></th>\n",
       "      <th>filename</th>\n",
       "    </tr>\n",
       "  </thead>\n",
       "  <tbody>\n",
       "    <tr>\n",
       "      <th>0</th>\n",
       "      <td>PUBLIC_PREDISPATCHIS_202210010100_20221001003308.CSV</td>\n",
       "    </tr>\n",
       "  </tbody>\n",
       "</table>\n",
       "</div>"
      ],
      "text/plain": [
       "                                               filename\n",
       "0  PUBLIC_PREDISPATCHIS_202210010100_20221001003308.CSV"
      ]
     },
     "metadata": {},
     "output_type": "display_data"
    },
    {
     "name": "stderr",
     "output_type": "stream",
     "text": [
      "C:\\Users\\Gerry.Flores\\AppData\\Roaming\\Python\\Python38\\site-packages\\dateutil\\parser\\_parser.py:1207: UnknownTimezoneWarning: tzname CSV identified but not understood.  Pass `tzinfos` argument in order to correctly return a timezone-aware datetime.  In a future version, this will raise an exception.\n",
      "  warnings.warn(\"tzname {tzname} identified but not understood.  \"\n"
     ]
    },
    {
     "data": {
      "text/html": [
       "<div>\n",
       "<style scoped>\n",
       "    .dataframe tbody tr th:only-of-type {\n",
       "        vertical-align: middle;\n",
       "    }\n",
       "\n",
       "    .dataframe tbody tr th {\n",
       "        vertical-align: top;\n",
       "    }\n",
       "\n",
       "    .dataframe thead th {\n",
       "        text-align: right;\n",
       "    }\n",
       "</style>\n",
       "<table border=\"1\" class=\"dataframe\">\n",
       "  <thead>\n",
       "    <tr style=\"text-align: right;\">\n",
       "      <th></th>\n",
       "      <th>filename</th>\n",
       "    </tr>\n",
       "  </thead>\n",
       "  <tbody>\n",
       "    <tr>\n",
       "      <th>0</th>\n",
       "      <td>PUBLIC_PREDISPATCHIS_202210010100_20221001003308.CSV</td>\n",
       "    </tr>\n",
       "  </tbody>\n",
       "</table>\n",
       "</div>"
      ],
      "text/plain": [
       "                                               filename\n",
       "0  PUBLIC_PREDISPATCHIS_202210010100_20221001003308.CSV"
      ]
     },
     "metadata": {},
     "output_type": "display_data"
    },
    {
     "name": "stdout",
     "output_type": "stream",
     "text": [
      "PUBLIC_PREDISPATCHIS_202210010100_20221001003308.CSV\n"
     ]
    },
    {
     "name": "stderr",
     "output_type": "stream",
     "text": [
      "3it [01:17, 17.78s/it]"
     ]
    },
    {
     "data": {
      "text/html": [
       "<div>\n",
       "<style scoped>\n",
       "    .dataframe tbody tr th:only-of-type {\n",
       "        vertical-align: middle;\n",
       "    }\n",
       "\n",
       "    .dataframe tbody tr th {\n",
       "        vertical-align: top;\n",
       "    }\n",
       "\n",
       "    .dataframe thead th {\n",
       "        text-align: right;\n",
       "    }\n",
       "</style>\n",
       "<table border=\"1\" class=\"dataframe\">\n",
       "  <thead>\n",
       "    <tr style=\"text-align: right;\">\n",
       "      <th></th>\n",
       "      <th>filename</th>\n",
       "    </tr>\n",
       "  </thead>\n",
       "  <tbody>\n",
       "    <tr>\n",
       "      <th>0</th>\n",
       "      <td>PUBLIC_PREDISPATCHIS_202210010130_20221001010313.CSV</td>\n",
       "    </tr>\n",
       "  </tbody>\n",
       "</table>\n",
       "</div>"
      ],
      "text/plain": [
       "                                               filename\n",
       "0  PUBLIC_PREDISPATCHIS_202210010130_20221001010313.CSV"
      ]
     },
     "metadata": {},
     "output_type": "display_data"
    },
    {
     "name": "stderr",
     "output_type": "stream",
     "text": [
      "C:\\Users\\Gerry.Flores\\AppData\\Roaming\\Python\\Python38\\site-packages\\dateutil\\parser\\_parser.py:1207: UnknownTimezoneWarning: tzname CSV identified but not understood.  Pass `tzinfos` argument in order to correctly return a timezone-aware datetime.  In a future version, this will raise an exception.\n",
      "  warnings.warn(\"tzname {tzname} identified but not understood.  \"\n"
     ]
    },
    {
     "data": {
      "text/html": [
       "<div>\n",
       "<style scoped>\n",
       "    .dataframe tbody tr th:only-of-type {\n",
       "        vertical-align: middle;\n",
       "    }\n",
       "\n",
       "    .dataframe tbody tr th {\n",
       "        vertical-align: top;\n",
       "    }\n",
       "\n",
       "    .dataframe thead th {\n",
       "        text-align: right;\n",
       "    }\n",
       "</style>\n",
       "<table border=\"1\" class=\"dataframe\">\n",
       "  <thead>\n",
       "    <tr style=\"text-align: right;\">\n",
       "      <th></th>\n",
       "      <th>filename</th>\n",
       "    </tr>\n",
       "  </thead>\n",
       "  <tbody>\n",
       "    <tr>\n",
       "      <th>0</th>\n",
       "      <td>PUBLIC_PREDISPATCHIS_202210010130_20221001010313.CSV</td>\n",
       "    </tr>\n",
       "  </tbody>\n",
       "</table>\n",
       "</div>"
      ],
      "text/plain": [
       "                                               filename\n",
       "0  PUBLIC_PREDISPATCHIS_202210010130_20221001010313.CSV"
      ]
     },
     "metadata": {},
     "output_type": "display_data"
    },
    {
     "name": "stdout",
     "output_type": "stream",
     "text": [
      "PUBLIC_PREDISPATCHIS_202210010130_20221001010313.CSV\n"
     ]
    },
    {
     "name": "stderr",
     "output_type": "stream",
     "text": [
      "4it [01:18, 11.23s/it]"
     ]
    },
    {
     "data": {
      "text/html": [
       "<div>\n",
       "<style scoped>\n",
       "    .dataframe tbody tr th:only-of-type {\n",
       "        vertical-align: middle;\n",
       "    }\n",
       "\n",
       "    .dataframe tbody tr th {\n",
       "        vertical-align: top;\n",
       "    }\n",
       "\n",
       "    .dataframe thead th {\n",
       "        text-align: right;\n",
       "    }\n",
       "</style>\n",
       "<table border=\"1\" class=\"dataframe\">\n",
       "  <thead>\n",
       "    <tr style=\"text-align: right;\">\n",
       "      <th></th>\n",
       "      <th>filename</th>\n",
       "    </tr>\n",
       "  </thead>\n",
       "  <tbody>\n",
       "    <tr>\n",
       "      <th>0</th>\n",
       "      <td>PUBLIC_PREDISPATCHIS_202210010200_20221001013303.CSV</td>\n",
       "    </tr>\n",
       "  </tbody>\n",
       "</table>\n",
       "</div>"
      ],
      "text/plain": [
       "                                               filename\n",
       "0  PUBLIC_PREDISPATCHIS_202210010200_20221001013303.CSV"
      ]
     },
     "metadata": {},
     "output_type": "display_data"
    },
    {
     "name": "stderr",
     "output_type": "stream",
     "text": [
      "C:\\Users\\Gerry.Flores\\AppData\\Roaming\\Python\\Python38\\site-packages\\dateutil\\parser\\_parser.py:1207: UnknownTimezoneWarning: tzname CSV identified but not understood.  Pass `tzinfos` argument in order to correctly return a timezone-aware datetime.  In a future version, this will raise an exception.\n",
      "  warnings.warn(\"tzname {tzname} identified but not understood.  \"\n"
     ]
    },
    {
     "data": {
      "text/html": [
       "<div>\n",
       "<style scoped>\n",
       "    .dataframe tbody tr th:only-of-type {\n",
       "        vertical-align: middle;\n",
       "    }\n",
       "\n",
       "    .dataframe tbody tr th {\n",
       "        vertical-align: top;\n",
       "    }\n",
       "\n",
       "    .dataframe thead th {\n",
       "        text-align: right;\n",
       "    }\n",
       "</style>\n",
       "<table border=\"1\" class=\"dataframe\">\n",
       "  <thead>\n",
       "    <tr style=\"text-align: right;\">\n",
       "      <th></th>\n",
       "      <th>filename</th>\n",
       "    </tr>\n",
       "  </thead>\n",
       "  <tbody>\n",
       "    <tr>\n",
       "      <th>0</th>\n",
       "      <td>PUBLIC_PREDISPATCHIS_202210010200_20221001013303.CSV</td>\n",
       "    </tr>\n",
       "  </tbody>\n",
       "</table>\n",
       "</div>"
      ],
      "text/plain": [
       "                                               filename\n",
       "0  PUBLIC_PREDISPATCHIS_202210010200_20221001013303.CSV"
      ]
     },
     "metadata": {},
     "output_type": "display_data"
    },
    {
     "name": "stdout",
     "output_type": "stream",
     "text": [
      "PUBLIC_PREDISPATCHIS_202210010200_20221001013303.CSV\n"
     ]
    },
    {
     "name": "stderr",
     "output_type": "stream",
     "text": [
      "5it [01:19,  7.61s/it]"
     ]
    },
    {
     "data": {
      "text/html": [
       "<div>\n",
       "<style scoped>\n",
       "    .dataframe tbody tr th:only-of-type {\n",
       "        vertical-align: middle;\n",
       "    }\n",
       "\n",
       "    .dataframe tbody tr th {\n",
       "        vertical-align: top;\n",
       "    }\n",
       "\n",
       "    .dataframe thead th {\n",
       "        text-align: right;\n",
       "    }\n",
       "</style>\n",
       "<table border=\"1\" class=\"dataframe\">\n",
       "  <thead>\n",
       "    <tr style=\"text-align: right;\">\n",
       "      <th></th>\n",
       "      <th>filename</th>\n",
       "    </tr>\n",
       "  </thead>\n",
       "  <tbody>\n",
       "    <tr>\n",
       "      <th>0</th>\n",
       "      <td>PUBLIC_PREDISPATCHIS_202210010230_20221001020254.CSV</td>\n",
       "    </tr>\n",
       "  </tbody>\n",
       "</table>\n",
       "</div>"
      ],
      "text/plain": [
       "                                               filename\n",
       "0  PUBLIC_PREDISPATCHIS_202210010230_20221001020254.CSV"
      ]
     },
     "metadata": {},
     "output_type": "display_data"
    },
    {
     "name": "stderr",
     "output_type": "stream",
     "text": [
      "C:\\Users\\Gerry.Flores\\AppData\\Roaming\\Python\\Python38\\site-packages\\dateutil\\parser\\_parser.py:1207: UnknownTimezoneWarning: tzname CSV identified but not understood.  Pass `tzinfos` argument in order to correctly return a timezone-aware datetime.  In a future version, this will raise an exception.\n",
      "  warnings.warn(\"tzname {tzname} identified but not understood.  \"\n"
     ]
    },
    {
     "data": {
      "text/html": [
       "<div>\n",
       "<style scoped>\n",
       "    .dataframe tbody tr th:only-of-type {\n",
       "        vertical-align: middle;\n",
       "    }\n",
       "\n",
       "    .dataframe tbody tr th {\n",
       "        vertical-align: top;\n",
       "    }\n",
       "\n",
       "    .dataframe thead th {\n",
       "        text-align: right;\n",
       "    }\n",
       "</style>\n",
       "<table border=\"1\" class=\"dataframe\">\n",
       "  <thead>\n",
       "    <tr style=\"text-align: right;\">\n",
       "      <th></th>\n",
       "      <th>filename</th>\n",
       "    </tr>\n",
       "  </thead>\n",
       "  <tbody>\n",
       "    <tr>\n",
       "      <th>0</th>\n",
       "      <td>PUBLIC_PREDISPATCHIS_202210010230_20221001020254.CSV</td>\n",
       "    </tr>\n",
       "  </tbody>\n",
       "</table>\n",
       "</div>"
      ],
      "text/plain": [
       "                                               filename\n",
       "0  PUBLIC_PREDISPATCHIS_202210010230_20221001020254.CSV"
      ]
     },
     "metadata": {},
     "output_type": "display_data"
    },
    {
     "name": "stdout",
     "output_type": "stream",
     "text": [
      "PUBLIC_PREDISPATCHIS_202210010230_20221001020254.CSV\n"
     ]
    },
    {
     "name": "stderr",
     "output_type": "stream",
     "text": [
      "6it [01:21,  5.40s/it]"
     ]
    },
    {
     "data": {
      "text/html": [
       "<div>\n",
       "<style scoped>\n",
       "    .dataframe tbody tr th:only-of-type {\n",
       "        vertical-align: middle;\n",
       "    }\n",
       "\n",
       "    .dataframe tbody tr th {\n",
       "        vertical-align: top;\n",
       "    }\n",
       "\n",
       "    .dataframe thead th {\n",
       "        text-align: right;\n",
       "    }\n",
       "</style>\n",
       "<table border=\"1\" class=\"dataframe\">\n",
       "  <thead>\n",
       "    <tr style=\"text-align: right;\">\n",
       "      <th></th>\n",
       "      <th>filename</th>\n",
       "    </tr>\n",
       "  </thead>\n",
       "  <tbody>\n",
       "    <tr>\n",
       "      <th>0</th>\n",
       "      <td>PUBLIC_PREDISPATCHIS_202210010300_20221001023310.CSV</td>\n",
       "    </tr>\n",
       "  </tbody>\n",
       "</table>\n",
       "</div>"
      ],
      "text/plain": [
       "                                               filename\n",
       "0  PUBLIC_PREDISPATCHIS_202210010300_20221001023310.CSV"
      ]
     },
     "metadata": {},
     "output_type": "display_data"
    },
    {
     "name": "stderr",
     "output_type": "stream",
     "text": [
      "C:\\Users\\Gerry.Flores\\AppData\\Roaming\\Python\\Python38\\site-packages\\dateutil\\parser\\_parser.py:1207: UnknownTimezoneWarning: tzname CSV identified but not understood.  Pass `tzinfos` argument in order to correctly return a timezone-aware datetime.  In a future version, this will raise an exception.\n",
      "  warnings.warn(\"tzname {tzname} identified but not understood.  \"\n"
     ]
    },
    {
     "data": {
      "text/html": [
       "<div>\n",
       "<style scoped>\n",
       "    .dataframe tbody tr th:only-of-type {\n",
       "        vertical-align: middle;\n",
       "    }\n",
       "\n",
       "    .dataframe tbody tr th {\n",
       "        vertical-align: top;\n",
       "    }\n",
       "\n",
       "    .dataframe thead th {\n",
       "        text-align: right;\n",
       "    }\n",
       "</style>\n",
       "<table border=\"1\" class=\"dataframe\">\n",
       "  <thead>\n",
       "    <tr style=\"text-align: right;\">\n",
       "      <th></th>\n",
       "      <th>filename</th>\n",
       "    </tr>\n",
       "  </thead>\n",
       "  <tbody>\n",
       "    <tr>\n",
       "      <th>0</th>\n",
       "      <td>PUBLIC_PREDISPATCHIS_202210010300_20221001023310.CSV</td>\n",
       "    </tr>\n",
       "  </tbody>\n",
       "</table>\n",
       "</div>"
      ],
      "text/plain": [
       "                                               filename\n",
       "0  PUBLIC_PREDISPATCHIS_202210010300_20221001023310.CSV"
      ]
     },
     "metadata": {},
     "output_type": "display_data"
    },
    {
     "name": "stdout",
     "output_type": "stream",
     "text": [
      "PUBLIC_PREDISPATCHIS_202210010300_20221001023310.CSV\n"
     ]
    },
    {
     "name": "stderr",
     "output_type": "stream",
     "text": [
      "7it [01:22,  4.01s/it]"
     ]
    },
    {
     "data": {
      "text/html": [
       "<div>\n",
       "<style scoped>\n",
       "    .dataframe tbody tr th:only-of-type {\n",
       "        vertical-align: middle;\n",
       "    }\n",
       "\n",
       "    .dataframe tbody tr th {\n",
       "        vertical-align: top;\n",
       "    }\n",
       "\n",
       "    .dataframe thead th {\n",
       "        text-align: right;\n",
       "    }\n",
       "</style>\n",
       "<table border=\"1\" class=\"dataframe\">\n",
       "  <thead>\n",
       "    <tr style=\"text-align: right;\">\n",
       "      <th></th>\n",
       "      <th>filename</th>\n",
       "    </tr>\n",
       "  </thead>\n",
       "  <tbody>\n",
       "    <tr>\n",
       "      <th>0</th>\n",
       "      <td>PUBLIC_PREDISPATCHIS_202210010330_20221001030422.CSV</td>\n",
       "    </tr>\n",
       "  </tbody>\n",
       "</table>\n",
       "</div>"
      ],
      "text/plain": [
       "                                               filename\n",
       "0  PUBLIC_PREDISPATCHIS_202210010330_20221001030422.CSV"
      ]
     },
     "metadata": {},
     "output_type": "display_data"
    },
    {
     "name": "stderr",
     "output_type": "stream",
     "text": [
      "C:\\Users\\Gerry.Flores\\AppData\\Roaming\\Python\\Python38\\site-packages\\dateutil\\parser\\_parser.py:1207: UnknownTimezoneWarning: tzname CSV identified but not understood.  Pass `tzinfos` argument in order to correctly return a timezone-aware datetime.  In a future version, this will raise an exception.\n",
      "  warnings.warn(\"tzname {tzname} identified but not understood.  \"\n"
     ]
    },
    {
     "data": {
      "text/html": [
       "<div>\n",
       "<style scoped>\n",
       "    .dataframe tbody tr th:only-of-type {\n",
       "        vertical-align: middle;\n",
       "    }\n",
       "\n",
       "    .dataframe tbody tr th {\n",
       "        vertical-align: top;\n",
       "    }\n",
       "\n",
       "    .dataframe thead th {\n",
       "        text-align: right;\n",
       "    }\n",
       "</style>\n",
       "<table border=\"1\" class=\"dataframe\">\n",
       "  <thead>\n",
       "    <tr style=\"text-align: right;\">\n",
       "      <th></th>\n",
       "      <th>filename</th>\n",
       "    </tr>\n",
       "  </thead>\n",
       "  <tbody>\n",
       "    <tr>\n",
       "      <th>0</th>\n",
       "      <td>PUBLIC_PREDISPATCHIS_202210010330_20221001030422.CSV</td>\n",
       "    </tr>\n",
       "  </tbody>\n",
       "</table>\n",
       "</div>"
      ],
      "text/plain": [
       "                                               filename\n",
       "0  PUBLIC_PREDISPATCHIS_202210010330_20221001030422.CSV"
      ]
     },
     "metadata": {},
     "output_type": "display_data"
    },
    {
     "name": "stdout",
     "output_type": "stream",
     "text": [
      "PUBLIC_PREDISPATCHIS_202210010330_20221001030422.CSV\n"
     ]
    },
    {
     "name": "stderr",
     "output_type": "stream",
     "text": [
      "8it [01:23,  3.07s/it]"
     ]
    },
    {
     "data": {
      "text/html": [
       "<div>\n",
       "<style scoped>\n",
       "    .dataframe tbody tr th:only-of-type {\n",
       "        vertical-align: middle;\n",
       "    }\n",
       "\n",
       "    .dataframe tbody tr th {\n",
       "        vertical-align: top;\n",
       "    }\n",
       "\n",
       "    .dataframe thead th {\n",
       "        text-align: right;\n",
       "    }\n",
       "</style>\n",
       "<table border=\"1\" class=\"dataframe\">\n",
       "  <thead>\n",
       "    <tr style=\"text-align: right;\">\n",
       "      <th></th>\n",
       "      <th>filename</th>\n",
       "    </tr>\n",
       "  </thead>\n",
       "  <tbody>\n",
       "    <tr>\n",
       "      <th>0</th>\n",
       "      <td>PUBLIC_PREDISPATCHIS_202210010400_20221001033325.CSV</td>\n",
       "    </tr>\n",
       "  </tbody>\n",
       "</table>\n",
       "</div>"
      ],
      "text/plain": [
       "                                               filename\n",
       "0  PUBLIC_PREDISPATCHIS_202210010400_20221001033325.CSV"
      ]
     },
     "metadata": {},
     "output_type": "display_data"
    },
    {
     "name": "stderr",
     "output_type": "stream",
     "text": [
      "C:\\Users\\Gerry.Flores\\AppData\\Roaming\\Python\\Python38\\site-packages\\dateutil\\parser\\_parser.py:1207: UnknownTimezoneWarning: tzname CSV identified but not understood.  Pass `tzinfos` argument in order to correctly return a timezone-aware datetime.  In a future version, this will raise an exception.\n",
      "  warnings.warn(\"tzname {tzname} identified but not understood.  \"\n"
     ]
    },
    {
     "data": {
      "text/html": [
       "<div>\n",
       "<style scoped>\n",
       "    .dataframe tbody tr th:only-of-type {\n",
       "        vertical-align: middle;\n",
       "    }\n",
       "\n",
       "    .dataframe tbody tr th {\n",
       "        vertical-align: top;\n",
       "    }\n",
       "\n",
       "    .dataframe thead th {\n",
       "        text-align: right;\n",
       "    }\n",
       "</style>\n",
       "<table border=\"1\" class=\"dataframe\">\n",
       "  <thead>\n",
       "    <tr style=\"text-align: right;\">\n",
       "      <th></th>\n",
       "      <th>filename</th>\n",
       "    </tr>\n",
       "  </thead>\n",
       "  <tbody>\n",
       "    <tr>\n",
       "      <th>0</th>\n",
       "      <td>PUBLIC_PREDISPATCHIS_202210010400_20221001033325.CSV</td>\n",
       "    </tr>\n",
       "  </tbody>\n",
       "</table>\n",
       "</div>"
      ],
      "text/plain": [
       "                                               filename\n",
       "0  PUBLIC_PREDISPATCHIS_202210010400_20221001033325.CSV"
      ]
     },
     "metadata": {},
     "output_type": "display_data"
    },
    {
     "name": "stdout",
     "output_type": "stream",
     "text": [
      "PUBLIC_PREDISPATCHIS_202210010400_20221001033325.CSV\n"
     ]
    },
    {
     "name": "stderr",
     "output_type": "stream",
     "text": [
      "9it [01:24,  2.45s/it]"
     ]
    },
    {
     "data": {
      "text/html": [
       "<div>\n",
       "<style scoped>\n",
       "    .dataframe tbody tr th:only-of-type {\n",
       "        vertical-align: middle;\n",
       "    }\n",
       "\n",
       "    .dataframe tbody tr th {\n",
       "        vertical-align: top;\n",
       "    }\n",
       "\n",
       "    .dataframe thead th {\n",
       "        text-align: right;\n",
       "    }\n",
       "</style>\n",
       "<table border=\"1\" class=\"dataframe\">\n",
       "  <thead>\n",
       "    <tr style=\"text-align: right;\">\n",
       "      <th></th>\n",
       "      <th>filename</th>\n",
       "    </tr>\n",
       "  </thead>\n",
       "  <tbody>\n",
       "    <tr>\n",
       "      <th>0</th>\n",
       "      <td>PUBLIC_PREDISPATCHIS_202210010430_20221001040252.CSV</td>\n",
       "    </tr>\n",
       "  </tbody>\n",
       "</table>\n",
       "</div>"
      ],
      "text/plain": [
       "                                               filename\n",
       "0  PUBLIC_PREDISPATCHIS_202210010430_20221001040252.CSV"
      ]
     },
     "metadata": {},
     "output_type": "display_data"
    },
    {
     "name": "stderr",
     "output_type": "stream",
     "text": [
      "C:\\Users\\Gerry.Flores\\AppData\\Roaming\\Python\\Python38\\site-packages\\dateutil\\parser\\_parser.py:1207: UnknownTimezoneWarning: tzname CSV identified but not understood.  Pass `tzinfos` argument in order to correctly return a timezone-aware datetime.  In a future version, this will raise an exception.\n",
      "  warnings.warn(\"tzname {tzname} identified but not understood.  \"\n"
     ]
    },
    {
     "data": {
      "text/html": [
       "<div>\n",
       "<style scoped>\n",
       "    .dataframe tbody tr th:only-of-type {\n",
       "        vertical-align: middle;\n",
       "    }\n",
       "\n",
       "    .dataframe tbody tr th {\n",
       "        vertical-align: top;\n",
       "    }\n",
       "\n",
       "    .dataframe thead th {\n",
       "        text-align: right;\n",
       "    }\n",
       "</style>\n",
       "<table border=\"1\" class=\"dataframe\">\n",
       "  <thead>\n",
       "    <tr style=\"text-align: right;\">\n",
       "      <th></th>\n",
       "      <th>filename</th>\n",
       "    </tr>\n",
       "  </thead>\n",
       "  <tbody>\n",
       "    <tr>\n",
       "      <th>0</th>\n",
       "      <td>PUBLIC_PREDISPATCHIS_202210010430_20221001040252.CSV</td>\n",
       "    </tr>\n",
       "  </tbody>\n",
       "</table>\n",
       "</div>"
      ],
      "text/plain": [
       "                                               filename\n",
       "0  PUBLIC_PREDISPATCHIS_202210010430_20221001040252.CSV"
      ]
     },
     "metadata": {},
     "output_type": "display_data"
    },
    {
     "name": "stdout",
     "output_type": "stream",
     "text": [
      "PUBLIC_PREDISPATCHIS_202210010430_20221001040252.CSV\n"
     ]
    },
    {
     "name": "stderr",
     "output_type": "stream",
     "text": [
      "10it [01:25,  2.02s/it]"
     ]
    },
    {
     "data": {
      "text/html": [
       "<div>\n",
       "<style scoped>\n",
       "    .dataframe tbody tr th:only-of-type {\n",
       "        vertical-align: middle;\n",
       "    }\n",
       "\n",
       "    .dataframe tbody tr th {\n",
       "        vertical-align: top;\n",
       "    }\n",
       "\n",
       "    .dataframe thead th {\n",
       "        text-align: right;\n",
       "    }\n",
       "</style>\n",
       "<table border=\"1\" class=\"dataframe\">\n",
       "  <thead>\n",
       "    <tr style=\"text-align: right;\">\n",
       "      <th></th>\n",
       "      <th>filename</th>\n",
       "    </tr>\n",
       "  </thead>\n",
       "  <tbody>\n",
       "    <tr>\n",
       "      <th>0</th>\n",
       "      <td>PUBLIC_PREDISPATCHIS_202210010500_20221001043252.CSV</td>\n",
       "    </tr>\n",
       "  </tbody>\n",
       "</table>\n",
       "</div>"
      ],
      "text/plain": [
       "                                               filename\n",
       "0  PUBLIC_PREDISPATCHIS_202210010500_20221001043252.CSV"
      ]
     },
     "metadata": {},
     "output_type": "display_data"
    },
    {
     "name": "stderr",
     "output_type": "stream",
     "text": [
      "C:\\Users\\Gerry.Flores\\AppData\\Roaming\\Python\\Python38\\site-packages\\dateutil\\parser\\_parser.py:1207: UnknownTimezoneWarning: tzname CSV identified but not understood.  Pass `tzinfos` argument in order to correctly return a timezone-aware datetime.  In a future version, this will raise an exception.\n",
      "  warnings.warn(\"tzname {tzname} identified but not understood.  \"\n"
     ]
    },
    {
     "data": {
      "text/html": [
       "<div>\n",
       "<style scoped>\n",
       "    .dataframe tbody tr th:only-of-type {\n",
       "        vertical-align: middle;\n",
       "    }\n",
       "\n",
       "    .dataframe tbody tr th {\n",
       "        vertical-align: top;\n",
       "    }\n",
       "\n",
       "    .dataframe thead th {\n",
       "        text-align: right;\n",
       "    }\n",
       "</style>\n",
       "<table border=\"1\" class=\"dataframe\">\n",
       "  <thead>\n",
       "    <tr style=\"text-align: right;\">\n",
       "      <th></th>\n",
       "      <th>filename</th>\n",
       "    </tr>\n",
       "  </thead>\n",
       "  <tbody>\n",
       "    <tr>\n",
       "      <th>0</th>\n",
       "      <td>PUBLIC_PREDISPATCHIS_202210010500_20221001043252.CSV</td>\n",
       "    </tr>\n",
       "  </tbody>\n",
       "</table>\n",
       "</div>"
      ],
      "text/plain": [
       "                                               filename\n",
       "0  PUBLIC_PREDISPATCHIS_202210010500_20221001043252.CSV"
      ]
     },
     "metadata": {},
     "output_type": "display_data"
    },
    {
     "name": "stdout",
     "output_type": "stream",
     "text": [
      "PUBLIC_PREDISPATCHIS_202210010500_20221001043252.CSV\n"
     ]
    },
    {
     "name": "stderr",
     "output_type": "stream",
     "text": [
      "11it [01:26,  1.72s/it]"
     ]
    },
    {
     "data": {
      "text/html": [
       "<div>\n",
       "<style scoped>\n",
       "    .dataframe tbody tr th:only-of-type {\n",
       "        vertical-align: middle;\n",
       "    }\n",
       "\n",
       "    .dataframe tbody tr th {\n",
       "        vertical-align: top;\n",
       "    }\n",
       "\n",
       "    .dataframe thead th {\n",
       "        text-align: right;\n",
       "    }\n",
       "</style>\n",
       "<table border=\"1\" class=\"dataframe\">\n",
       "  <thead>\n",
       "    <tr style=\"text-align: right;\">\n",
       "      <th></th>\n",
       "      <th>filename</th>\n",
       "    </tr>\n",
       "  </thead>\n",
       "  <tbody>\n",
       "    <tr>\n",
       "      <th>0</th>\n",
       "      <td>PUBLIC_PREDISPATCHIS_202210010530_20221001050304.CSV</td>\n",
       "    </tr>\n",
       "  </tbody>\n",
       "</table>\n",
       "</div>"
      ],
      "text/plain": [
       "                                               filename\n",
       "0  PUBLIC_PREDISPATCHIS_202210010530_20221001050304.CSV"
      ]
     },
     "metadata": {},
     "output_type": "display_data"
    },
    {
     "name": "stderr",
     "output_type": "stream",
     "text": [
      "C:\\Users\\Gerry.Flores\\AppData\\Roaming\\Python\\Python38\\site-packages\\dateutil\\parser\\_parser.py:1207: UnknownTimezoneWarning: tzname CSV identified but not understood.  Pass `tzinfos` argument in order to correctly return a timezone-aware datetime.  In a future version, this will raise an exception.\n",
      "  warnings.warn(\"tzname {tzname} identified but not understood.  \"\n"
     ]
    },
    {
     "data": {
      "text/html": [
       "<div>\n",
       "<style scoped>\n",
       "    .dataframe tbody tr th:only-of-type {\n",
       "        vertical-align: middle;\n",
       "    }\n",
       "\n",
       "    .dataframe tbody tr th {\n",
       "        vertical-align: top;\n",
       "    }\n",
       "\n",
       "    .dataframe thead th {\n",
       "        text-align: right;\n",
       "    }\n",
       "</style>\n",
       "<table border=\"1\" class=\"dataframe\">\n",
       "  <thead>\n",
       "    <tr style=\"text-align: right;\">\n",
       "      <th></th>\n",
       "      <th>filename</th>\n",
       "    </tr>\n",
       "  </thead>\n",
       "  <tbody>\n",
       "    <tr>\n",
       "      <th>0</th>\n",
       "      <td>PUBLIC_PREDISPATCHIS_202210010530_20221001050304.CSV</td>\n",
       "    </tr>\n",
       "  </tbody>\n",
       "</table>\n",
       "</div>"
      ],
      "text/plain": [
       "                                               filename\n",
       "0  PUBLIC_PREDISPATCHIS_202210010530_20221001050304.CSV"
      ]
     },
     "metadata": {},
     "output_type": "display_data"
    },
    {
     "name": "stdout",
     "output_type": "stream",
     "text": [
      "PUBLIC_PREDISPATCHIS_202210010530_20221001050304.CSV\n"
     ]
    },
    {
     "name": "stderr",
     "output_type": "stream",
     "text": [
      "12it [01:27,  1.52s/it]"
     ]
    },
    {
     "data": {
      "text/html": [
       "<div>\n",
       "<style scoped>\n",
       "    .dataframe tbody tr th:only-of-type {\n",
       "        vertical-align: middle;\n",
       "    }\n",
       "\n",
       "    .dataframe tbody tr th {\n",
       "        vertical-align: top;\n",
       "    }\n",
       "\n",
       "    .dataframe thead th {\n",
       "        text-align: right;\n",
       "    }\n",
       "</style>\n",
       "<table border=\"1\" class=\"dataframe\">\n",
       "  <thead>\n",
       "    <tr style=\"text-align: right;\">\n",
       "      <th></th>\n",
       "      <th>filename</th>\n",
       "    </tr>\n",
       "  </thead>\n",
       "  <tbody>\n",
       "    <tr>\n",
       "      <th>0</th>\n",
       "      <td>PUBLIC_PREDISPATCHIS_202210010600_20221001053259.CSV</td>\n",
       "    </tr>\n",
       "  </tbody>\n",
       "</table>\n",
       "</div>"
      ],
      "text/plain": [
       "                                               filename\n",
       "0  PUBLIC_PREDISPATCHIS_202210010600_20221001053259.CSV"
      ]
     },
     "metadata": {},
     "output_type": "display_data"
    },
    {
     "name": "stderr",
     "output_type": "stream",
     "text": [
      "C:\\Users\\Gerry.Flores\\AppData\\Roaming\\Python\\Python38\\site-packages\\dateutil\\parser\\_parser.py:1207: UnknownTimezoneWarning: tzname CSV identified but not understood.  Pass `tzinfos` argument in order to correctly return a timezone-aware datetime.  In a future version, this will raise an exception.\n",
      "  warnings.warn(\"tzname {tzname} identified but not understood.  \"\n"
     ]
    },
    {
     "data": {
      "text/html": [
       "<div>\n",
       "<style scoped>\n",
       "    .dataframe tbody tr th:only-of-type {\n",
       "        vertical-align: middle;\n",
       "    }\n",
       "\n",
       "    .dataframe tbody tr th {\n",
       "        vertical-align: top;\n",
       "    }\n",
       "\n",
       "    .dataframe thead th {\n",
       "        text-align: right;\n",
       "    }\n",
       "</style>\n",
       "<table border=\"1\" class=\"dataframe\">\n",
       "  <thead>\n",
       "    <tr style=\"text-align: right;\">\n",
       "      <th></th>\n",
       "      <th>filename</th>\n",
       "    </tr>\n",
       "  </thead>\n",
       "  <tbody>\n",
       "    <tr>\n",
       "      <th>0</th>\n",
       "      <td>PUBLIC_PREDISPATCHIS_202210010600_20221001053259.CSV</td>\n",
       "    </tr>\n",
       "  </tbody>\n",
       "</table>\n",
       "</div>"
      ],
      "text/plain": [
       "                                               filename\n",
       "0  PUBLIC_PREDISPATCHIS_202210010600_20221001053259.CSV"
      ]
     },
     "metadata": {},
     "output_type": "display_data"
    },
    {
     "name": "stdout",
     "output_type": "stream",
     "text": [
      "PUBLIC_PREDISPATCHIS_202210010600_20221001053259.CSV\n"
     ]
    },
    {
     "name": "stderr",
     "output_type": "stream",
     "text": [
      "13it [01:28,  1.37s/it]"
     ]
    },
    {
     "data": {
      "text/html": [
       "<div>\n",
       "<style scoped>\n",
       "    .dataframe tbody tr th:only-of-type {\n",
       "        vertical-align: middle;\n",
       "    }\n",
       "\n",
       "    .dataframe tbody tr th {\n",
       "        vertical-align: top;\n",
       "    }\n",
       "\n",
       "    .dataframe thead th {\n",
       "        text-align: right;\n",
       "    }\n",
       "</style>\n",
       "<table border=\"1\" class=\"dataframe\">\n",
       "  <thead>\n",
       "    <tr style=\"text-align: right;\">\n",
       "      <th></th>\n",
       "      <th>filename</th>\n",
       "    </tr>\n",
       "  </thead>\n",
       "  <tbody>\n",
       "    <tr>\n",
       "      <th>0</th>\n",
       "      <td>PUBLIC_PREDISPATCHIS_202210010630_20221001060258.CSV</td>\n",
       "    </tr>\n",
       "  </tbody>\n",
       "</table>\n",
       "</div>"
      ],
      "text/plain": [
       "                                               filename\n",
       "0  PUBLIC_PREDISPATCHIS_202210010630_20221001060258.CSV"
      ]
     },
     "metadata": {},
     "output_type": "display_data"
    },
    {
     "name": "stderr",
     "output_type": "stream",
     "text": [
      "C:\\Users\\Gerry.Flores\\AppData\\Roaming\\Python\\Python38\\site-packages\\dateutil\\parser\\_parser.py:1207: UnknownTimezoneWarning: tzname CSV identified but not understood.  Pass `tzinfos` argument in order to correctly return a timezone-aware datetime.  In a future version, this will raise an exception.\n",
      "  warnings.warn(\"tzname {tzname} identified but not understood.  \"\n"
     ]
    },
    {
     "data": {
      "text/html": [
       "<div>\n",
       "<style scoped>\n",
       "    .dataframe tbody tr th:only-of-type {\n",
       "        vertical-align: middle;\n",
       "    }\n",
       "\n",
       "    .dataframe tbody tr th {\n",
       "        vertical-align: top;\n",
       "    }\n",
       "\n",
       "    .dataframe thead th {\n",
       "        text-align: right;\n",
       "    }\n",
       "</style>\n",
       "<table border=\"1\" class=\"dataframe\">\n",
       "  <thead>\n",
       "    <tr style=\"text-align: right;\">\n",
       "      <th></th>\n",
       "      <th>filename</th>\n",
       "    </tr>\n",
       "  </thead>\n",
       "  <tbody>\n",
       "    <tr>\n",
       "      <th>0</th>\n",
       "      <td>PUBLIC_PREDISPATCHIS_202210010630_20221001060258.CSV</td>\n",
       "    </tr>\n",
       "  </tbody>\n",
       "</table>\n",
       "</div>"
      ],
      "text/plain": [
       "                                               filename\n",
       "0  PUBLIC_PREDISPATCHIS_202210010630_20221001060258.CSV"
      ]
     },
     "metadata": {},
     "output_type": "display_data"
    },
    {
     "name": "stdout",
     "output_type": "stream",
     "text": [
      "PUBLIC_PREDISPATCHIS_202210010630_20221001060258.CSV\n"
     ]
    },
    {
     "name": "stderr",
     "output_type": "stream",
     "text": [
      "14it [01:29,  1.25s/it]"
     ]
    },
    {
     "data": {
      "text/html": [
       "<div>\n",
       "<style scoped>\n",
       "    .dataframe tbody tr th:only-of-type {\n",
       "        vertical-align: middle;\n",
       "    }\n",
       "\n",
       "    .dataframe tbody tr th {\n",
       "        vertical-align: top;\n",
       "    }\n",
       "\n",
       "    .dataframe thead th {\n",
       "        text-align: right;\n",
       "    }\n",
       "</style>\n",
       "<table border=\"1\" class=\"dataframe\">\n",
       "  <thead>\n",
       "    <tr style=\"text-align: right;\">\n",
       "      <th></th>\n",
       "      <th>filename</th>\n",
       "    </tr>\n",
       "  </thead>\n",
       "  <tbody>\n",
       "    <tr>\n",
       "      <th>0</th>\n",
       "      <td>PUBLIC_PREDISPATCHIS_202210010700_20221001063326.CSV</td>\n",
       "    </tr>\n",
       "  </tbody>\n",
       "</table>\n",
       "</div>"
      ],
      "text/plain": [
       "                                               filename\n",
       "0  PUBLIC_PREDISPATCHIS_202210010700_20221001063326.CSV"
      ]
     },
     "metadata": {},
     "output_type": "display_data"
    },
    {
     "name": "stderr",
     "output_type": "stream",
     "text": [
      "C:\\Users\\Gerry.Flores\\AppData\\Roaming\\Python\\Python38\\site-packages\\dateutil\\parser\\_parser.py:1207: UnknownTimezoneWarning: tzname CSV identified but not understood.  Pass `tzinfos` argument in order to correctly return a timezone-aware datetime.  In a future version, this will raise an exception.\n",
      "  warnings.warn(\"tzname {tzname} identified but not understood.  \"\n"
     ]
    },
    {
     "data": {
      "text/html": [
       "<div>\n",
       "<style scoped>\n",
       "    .dataframe tbody tr th:only-of-type {\n",
       "        vertical-align: middle;\n",
       "    }\n",
       "\n",
       "    .dataframe tbody tr th {\n",
       "        vertical-align: top;\n",
       "    }\n",
       "\n",
       "    .dataframe thead th {\n",
       "        text-align: right;\n",
       "    }\n",
       "</style>\n",
       "<table border=\"1\" class=\"dataframe\">\n",
       "  <thead>\n",
       "    <tr style=\"text-align: right;\">\n",
       "      <th></th>\n",
       "      <th>filename</th>\n",
       "    </tr>\n",
       "  </thead>\n",
       "  <tbody>\n",
       "    <tr>\n",
       "      <th>0</th>\n",
       "      <td>PUBLIC_PREDISPATCHIS_202210010700_20221001063326.CSV</td>\n",
       "    </tr>\n",
       "  </tbody>\n",
       "</table>\n",
       "</div>"
      ],
      "text/plain": [
       "                                               filename\n",
       "0  PUBLIC_PREDISPATCHIS_202210010700_20221001063326.CSV"
      ]
     },
     "metadata": {},
     "output_type": "display_data"
    },
    {
     "name": "stdout",
     "output_type": "stream",
     "text": [
      "PUBLIC_PREDISPATCHIS_202210010700_20221001063326.CSV\n"
     ]
    },
    {
     "name": "stderr",
     "output_type": "stream",
     "text": [
      "15it [01:30,  1.16s/it]"
     ]
    },
    {
     "data": {
      "text/html": [
       "<div>\n",
       "<style scoped>\n",
       "    .dataframe tbody tr th:only-of-type {\n",
       "        vertical-align: middle;\n",
       "    }\n",
       "\n",
       "    .dataframe tbody tr th {\n",
       "        vertical-align: top;\n",
       "    }\n",
       "\n",
       "    .dataframe thead th {\n",
       "        text-align: right;\n",
       "    }\n",
       "</style>\n",
       "<table border=\"1\" class=\"dataframe\">\n",
       "  <thead>\n",
       "    <tr style=\"text-align: right;\">\n",
       "      <th></th>\n",
       "      <th>filename</th>\n",
       "    </tr>\n",
       "  </thead>\n",
       "  <tbody>\n",
       "    <tr>\n",
       "      <th>0</th>\n",
       "      <td>PUBLIC_PREDISPATCHIS_202210010730_20221001070221.CSV</td>\n",
       "    </tr>\n",
       "  </tbody>\n",
       "</table>\n",
       "</div>"
      ],
      "text/plain": [
       "                                               filename\n",
       "0  PUBLIC_PREDISPATCHIS_202210010730_20221001070221.CSV"
      ]
     },
     "metadata": {},
     "output_type": "display_data"
    },
    {
     "name": "stderr",
     "output_type": "stream",
     "text": [
      "C:\\Users\\Gerry.Flores\\AppData\\Roaming\\Python\\Python38\\site-packages\\dateutil\\parser\\_parser.py:1207: UnknownTimezoneWarning: tzname CSV identified but not understood.  Pass `tzinfos` argument in order to correctly return a timezone-aware datetime.  In a future version, this will raise an exception.\n",
      "  warnings.warn(\"tzname {tzname} identified but not understood.  \"\n"
     ]
    },
    {
     "data": {
      "text/html": [
       "<div>\n",
       "<style scoped>\n",
       "    .dataframe tbody tr th:only-of-type {\n",
       "        vertical-align: middle;\n",
       "    }\n",
       "\n",
       "    .dataframe tbody tr th {\n",
       "        vertical-align: top;\n",
       "    }\n",
       "\n",
       "    .dataframe thead th {\n",
       "        text-align: right;\n",
       "    }\n",
       "</style>\n",
       "<table border=\"1\" class=\"dataframe\">\n",
       "  <thead>\n",
       "    <tr style=\"text-align: right;\">\n",
       "      <th></th>\n",
       "      <th>filename</th>\n",
       "    </tr>\n",
       "  </thead>\n",
       "  <tbody>\n",
       "    <tr>\n",
       "      <th>0</th>\n",
       "      <td>PUBLIC_PREDISPATCHIS_202210010730_20221001070221.CSV</td>\n",
       "    </tr>\n",
       "  </tbody>\n",
       "</table>\n",
       "</div>"
      ],
      "text/plain": [
       "                                               filename\n",
       "0  PUBLIC_PREDISPATCHIS_202210010730_20221001070221.CSV"
      ]
     },
     "metadata": {},
     "output_type": "display_data"
    },
    {
     "name": "stdout",
     "output_type": "stream",
     "text": [
      "PUBLIC_PREDISPATCHIS_202210010730_20221001070221.CSV\n"
     ]
    },
    {
     "name": "stderr",
     "output_type": "stream",
     "text": [
      "16it [01:31,  1.10s/it]"
     ]
    },
    {
     "data": {
      "text/html": [
       "<div>\n",
       "<style scoped>\n",
       "    .dataframe tbody tr th:only-of-type {\n",
       "        vertical-align: middle;\n",
       "    }\n",
       "\n",
       "    .dataframe tbody tr th {\n",
       "        vertical-align: top;\n",
       "    }\n",
       "\n",
       "    .dataframe thead th {\n",
       "        text-align: right;\n",
       "    }\n",
       "</style>\n",
       "<table border=\"1\" class=\"dataframe\">\n",
       "  <thead>\n",
       "    <tr style=\"text-align: right;\">\n",
       "      <th></th>\n",
       "      <th>filename</th>\n",
       "    </tr>\n",
       "  </thead>\n",
       "  <tbody>\n",
       "    <tr>\n",
       "      <th>0</th>\n",
       "      <td>PUBLIC_PREDISPATCHIS_202210010800_20221001073301.CSV</td>\n",
       "    </tr>\n",
       "  </tbody>\n",
       "</table>\n",
       "</div>"
      ],
      "text/plain": [
       "                                               filename\n",
       "0  PUBLIC_PREDISPATCHIS_202210010800_20221001073301.CSV"
      ]
     },
     "metadata": {},
     "output_type": "display_data"
    },
    {
     "name": "stderr",
     "output_type": "stream",
     "text": [
      "C:\\Users\\Gerry.Flores\\AppData\\Roaming\\Python\\Python38\\site-packages\\dateutil\\parser\\_parser.py:1207: UnknownTimezoneWarning: tzname CSV identified but not understood.  Pass `tzinfos` argument in order to correctly return a timezone-aware datetime.  In a future version, this will raise an exception.\n",
      "  warnings.warn(\"tzname {tzname} identified but not understood.  \"\n"
     ]
    },
    {
     "data": {
      "text/html": [
       "<div>\n",
       "<style scoped>\n",
       "    .dataframe tbody tr th:only-of-type {\n",
       "        vertical-align: middle;\n",
       "    }\n",
       "\n",
       "    .dataframe tbody tr th {\n",
       "        vertical-align: top;\n",
       "    }\n",
       "\n",
       "    .dataframe thead th {\n",
       "        text-align: right;\n",
       "    }\n",
       "</style>\n",
       "<table border=\"1\" class=\"dataframe\">\n",
       "  <thead>\n",
       "    <tr style=\"text-align: right;\">\n",
       "      <th></th>\n",
       "      <th>filename</th>\n",
       "    </tr>\n",
       "  </thead>\n",
       "  <tbody>\n",
       "    <tr>\n",
       "      <th>0</th>\n",
       "      <td>PUBLIC_PREDISPATCHIS_202210010800_20221001073301.CSV</td>\n",
       "    </tr>\n",
       "  </tbody>\n",
       "</table>\n",
       "</div>"
      ],
      "text/plain": [
       "                                               filename\n",
       "0  PUBLIC_PREDISPATCHIS_202210010800_20221001073301.CSV"
      ]
     },
     "metadata": {},
     "output_type": "display_data"
    },
    {
     "name": "stdout",
     "output_type": "stream",
     "text": [
      "PUBLIC_PREDISPATCHIS_202210010800_20221001073301.CSV\n"
     ]
    },
    {
     "name": "stderr",
     "output_type": "stream",
     "text": [
      "17it [01:32,  1.04s/it]"
     ]
    },
    {
     "data": {
      "text/html": [
       "<div>\n",
       "<style scoped>\n",
       "    .dataframe tbody tr th:only-of-type {\n",
       "        vertical-align: middle;\n",
       "    }\n",
       "\n",
       "    .dataframe tbody tr th {\n",
       "        vertical-align: top;\n",
       "    }\n",
       "\n",
       "    .dataframe thead th {\n",
       "        text-align: right;\n",
       "    }\n",
       "</style>\n",
       "<table border=\"1\" class=\"dataframe\">\n",
       "  <thead>\n",
       "    <tr style=\"text-align: right;\">\n",
       "      <th></th>\n",
       "      <th>filename</th>\n",
       "    </tr>\n",
       "  </thead>\n",
       "  <tbody>\n",
       "    <tr>\n",
       "      <th>0</th>\n",
       "      <td>PUBLIC_PREDISPATCHIS_202210010830_20221001080305.CSV</td>\n",
       "    </tr>\n",
       "  </tbody>\n",
       "</table>\n",
       "</div>"
      ],
      "text/plain": [
       "                                               filename\n",
       "0  PUBLIC_PREDISPATCHIS_202210010830_20221001080305.CSV"
      ]
     },
     "metadata": {},
     "output_type": "display_data"
    },
    {
     "name": "stderr",
     "output_type": "stream",
     "text": [
      "C:\\Users\\Gerry.Flores\\AppData\\Roaming\\Python\\Python38\\site-packages\\dateutil\\parser\\_parser.py:1207: UnknownTimezoneWarning: tzname CSV identified but not understood.  Pass `tzinfos` argument in order to correctly return a timezone-aware datetime.  In a future version, this will raise an exception.\n",
      "  warnings.warn(\"tzname {tzname} identified but not understood.  \"\n"
     ]
    },
    {
     "data": {
      "text/html": [
       "<div>\n",
       "<style scoped>\n",
       "    .dataframe tbody tr th:only-of-type {\n",
       "        vertical-align: middle;\n",
       "    }\n",
       "\n",
       "    .dataframe tbody tr th {\n",
       "        vertical-align: top;\n",
       "    }\n",
       "\n",
       "    .dataframe thead th {\n",
       "        text-align: right;\n",
       "    }\n",
       "</style>\n",
       "<table border=\"1\" class=\"dataframe\">\n",
       "  <thead>\n",
       "    <tr style=\"text-align: right;\">\n",
       "      <th></th>\n",
       "      <th>filename</th>\n",
       "    </tr>\n",
       "  </thead>\n",
       "  <tbody>\n",
       "    <tr>\n",
       "      <th>0</th>\n",
       "      <td>PUBLIC_PREDISPATCHIS_202210010830_20221001080305.CSV</td>\n",
       "    </tr>\n",
       "  </tbody>\n",
       "</table>\n",
       "</div>"
      ],
      "text/plain": [
       "                                               filename\n",
       "0  PUBLIC_PREDISPATCHIS_202210010830_20221001080305.CSV"
      ]
     },
     "metadata": {},
     "output_type": "display_data"
    },
    {
     "name": "stdout",
     "output_type": "stream",
     "text": [
      "PUBLIC_PREDISPATCHIS_202210010830_20221001080305.CSV\n"
     ]
    },
    {
     "name": "stderr",
     "output_type": "stream",
     "text": [
      "18it [01:33,  1.00it/s]"
     ]
    },
    {
     "data": {
      "text/html": [
       "<div>\n",
       "<style scoped>\n",
       "    .dataframe tbody tr th:only-of-type {\n",
       "        vertical-align: middle;\n",
       "    }\n",
       "\n",
       "    .dataframe tbody tr th {\n",
       "        vertical-align: top;\n",
       "    }\n",
       "\n",
       "    .dataframe thead th {\n",
       "        text-align: right;\n",
       "    }\n",
       "</style>\n",
       "<table border=\"1\" class=\"dataframe\">\n",
       "  <thead>\n",
       "    <tr style=\"text-align: right;\">\n",
       "      <th></th>\n",
       "      <th>filename</th>\n",
       "    </tr>\n",
       "  </thead>\n",
       "  <tbody>\n",
       "    <tr>\n",
       "      <th>0</th>\n",
       "      <td>PUBLIC_PREDISPATCHIS_202210010900_20221001083237.CSV</td>\n",
       "    </tr>\n",
       "  </tbody>\n",
       "</table>\n",
       "</div>"
      ],
      "text/plain": [
       "                                               filename\n",
       "0  PUBLIC_PREDISPATCHIS_202210010900_20221001083237.CSV"
      ]
     },
     "metadata": {},
     "output_type": "display_data"
    },
    {
     "name": "stderr",
     "output_type": "stream",
     "text": [
      "C:\\Users\\Gerry.Flores\\AppData\\Roaming\\Python\\Python38\\site-packages\\dateutil\\parser\\_parser.py:1207: UnknownTimezoneWarning: tzname CSV identified but not understood.  Pass `tzinfos` argument in order to correctly return a timezone-aware datetime.  In a future version, this will raise an exception.\n",
      "  warnings.warn(\"tzname {tzname} identified but not understood.  \"\n"
     ]
    },
    {
     "data": {
      "text/html": [
       "<div>\n",
       "<style scoped>\n",
       "    .dataframe tbody tr th:only-of-type {\n",
       "        vertical-align: middle;\n",
       "    }\n",
       "\n",
       "    .dataframe tbody tr th {\n",
       "        vertical-align: top;\n",
       "    }\n",
       "\n",
       "    .dataframe thead th {\n",
       "        text-align: right;\n",
       "    }\n",
       "</style>\n",
       "<table border=\"1\" class=\"dataframe\">\n",
       "  <thead>\n",
       "    <tr style=\"text-align: right;\">\n",
       "      <th></th>\n",
       "      <th>filename</th>\n",
       "    </tr>\n",
       "  </thead>\n",
       "  <tbody>\n",
       "    <tr>\n",
       "      <th>0</th>\n",
       "      <td>PUBLIC_PREDISPATCHIS_202210010900_20221001083237.CSV</td>\n",
       "    </tr>\n",
       "  </tbody>\n",
       "</table>\n",
       "</div>"
      ],
      "text/plain": [
       "                                               filename\n",
       "0  PUBLIC_PREDISPATCHIS_202210010900_20221001083237.CSV"
      ]
     },
     "metadata": {},
     "output_type": "display_data"
    },
    {
     "name": "stdout",
     "output_type": "stream",
     "text": [
      "PUBLIC_PREDISPATCHIS_202210010900_20221001083237.CSV\n"
     ]
    },
    {
     "name": "stderr",
     "output_type": "stream",
     "text": [
      "19it [01:34,  1.04it/s]"
     ]
    },
    {
     "data": {
      "text/html": [
       "<div>\n",
       "<style scoped>\n",
       "    .dataframe tbody tr th:only-of-type {\n",
       "        vertical-align: middle;\n",
       "    }\n",
       "\n",
       "    .dataframe tbody tr th {\n",
       "        vertical-align: top;\n",
       "    }\n",
       "\n",
       "    .dataframe thead th {\n",
       "        text-align: right;\n",
       "    }\n",
       "</style>\n",
       "<table border=\"1\" class=\"dataframe\">\n",
       "  <thead>\n",
       "    <tr style=\"text-align: right;\">\n",
       "      <th></th>\n",
       "      <th>filename</th>\n",
       "    </tr>\n",
       "  </thead>\n",
       "  <tbody>\n",
       "    <tr>\n",
       "      <th>0</th>\n",
       "      <td>PUBLIC_PREDISPATCHIS_202210010930_20221001090239.CSV</td>\n",
       "    </tr>\n",
       "  </tbody>\n",
       "</table>\n",
       "</div>"
      ],
      "text/plain": [
       "                                               filename\n",
       "0  PUBLIC_PREDISPATCHIS_202210010930_20221001090239.CSV"
      ]
     },
     "metadata": {},
     "output_type": "display_data"
    },
    {
     "name": "stderr",
     "output_type": "stream",
     "text": [
      "C:\\Users\\Gerry.Flores\\AppData\\Roaming\\Python\\Python38\\site-packages\\dateutil\\parser\\_parser.py:1207: UnknownTimezoneWarning: tzname CSV identified but not understood.  Pass `tzinfos` argument in order to correctly return a timezone-aware datetime.  In a future version, this will raise an exception.\n",
      "  warnings.warn(\"tzname {tzname} identified but not understood.  \"\n"
     ]
    },
    {
     "data": {
      "text/html": [
       "<div>\n",
       "<style scoped>\n",
       "    .dataframe tbody tr th:only-of-type {\n",
       "        vertical-align: middle;\n",
       "    }\n",
       "\n",
       "    .dataframe tbody tr th {\n",
       "        vertical-align: top;\n",
       "    }\n",
       "\n",
       "    .dataframe thead th {\n",
       "        text-align: right;\n",
       "    }\n",
       "</style>\n",
       "<table border=\"1\" class=\"dataframe\">\n",
       "  <thead>\n",
       "    <tr style=\"text-align: right;\">\n",
       "      <th></th>\n",
       "      <th>filename</th>\n",
       "    </tr>\n",
       "  </thead>\n",
       "  <tbody>\n",
       "    <tr>\n",
       "      <th>0</th>\n",
       "      <td>PUBLIC_PREDISPATCHIS_202210010930_20221001090239.CSV</td>\n",
       "    </tr>\n",
       "  </tbody>\n",
       "</table>\n",
       "</div>"
      ],
      "text/plain": [
       "                                               filename\n",
       "0  PUBLIC_PREDISPATCHIS_202210010930_20221001090239.CSV"
      ]
     },
     "metadata": {},
     "output_type": "display_data"
    },
    {
     "name": "stdout",
     "output_type": "stream",
     "text": [
      "PUBLIC_PREDISPATCHIS_202210010930_20221001090239.CSV\n"
     ]
    },
    {
     "name": "stderr",
     "output_type": "stream",
     "text": [
      "20it [01:35,  1.07it/s]"
     ]
    },
    {
     "data": {
      "text/html": [
       "<div>\n",
       "<style scoped>\n",
       "    .dataframe tbody tr th:only-of-type {\n",
       "        vertical-align: middle;\n",
       "    }\n",
       "\n",
       "    .dataframe tbody tr th {\n",
       "        vertical-align: top;\n",
       "    }\n",
       "\n",
       "    .dataframe thead th {\n",
       "        text-align: right;\n",
       "    }\n",
       "</style>\n",
       "<table border=\"1\" class=\"dataframe\">\n",
       "  <thead>\n",
       "    <tr style=\"text-align: right;\">\n",
       "      <th></th>\n",
       "      <th>filename</th>\n",
       "    </tr>\n",
       "  </thead>\n",
       "  <tbody>\n",
       "    <tr>\n",
       "      <th>0</th>\n",
       "      <td>PUBLIC_PREDISPATCHIS_202210011000_20221001093237.CSV</td>\n",
       "    </tr>\n",
       "  </tbody>\n",
       "</table>\n",
       "</div>"
      ],
      "text/plain": [
       "                                               filename\n",
       "0  PUBLIC_PREDISPATCHIS_202210011000_20221001093237.CSV"
      ]
     },
     "metadata": {},
     "output_type": "display_data"
    },
    {
     "name": "stderr",
     "output_type": "stream",
     "text": [
      "C:\\Users\\Gerry.Flores\\AppData\\Roaming\\Python\\Python38\\site-packages\\dateutil\\parser\\_parser.py:1207: UnknownTimezoneWarning: tzname CSV identified but not understood.  Pass `tzinfos` argument in order to correctly return a timezone-aware datetime.  In a future version, this will raise an exception.\n",
      "  warnings.warn(\"tzname {tzname} identified but not understood.  \"\n"
     ]
    },
    {
     "data": {
      "text/html": [
       "<div>\n",
       "<style scoped>\n",
       "    .dataframe tbody tr th:only-of-type {\n",
       "        vertical-align: middle;\n",
       "    }\n",
       "\n",
       "    .dataframe tbody tr th {\n",
       "        vertical-align: top;\n",
       "    }\n",
       "\n",
       "    .dataframe thead th {\n",
       "        text-align: right;\n",
       "    }\n",
       "</style>\n",
       "<table border=\"1\" class=\"dataframe\">\n",
       "  <thead>\n",
       "    <tr style=\"text-align: right;\">\n",
       "      <th></th>\n",
       "      <th>filename</th>\n",
       "    </tr>\n",
       "  </thead>\n",
       "  <tbody>\n",
       "    <tr>\n",
       "      <th>0</th>\n",
       "      <td>PUBLIC_PREDISPATCHIS_202210011000_20221001093237.CSV</td>\n",
       "    </tr>\n",
       "  </tbody>\n",
       "</table>\n",
       "</div>"
      ],
      "text/plain": [
       "                                               filename\n",
       "0  PUBLIC_PREDISPATCHIS_202210011000_20221001093237.CSV"
      ]
     },
     "metadata": {},
     "output_type": "display_data"
    },
    {
     "name": "stdout",
     "output_type": "stream",
     "text": [
      "PUBLIC_PREDISPATCHIS_202210011000_20221001093237.CSV\n"
     ]
    },
    {
     "name": "stderr",
     "output_type": "stream",
     "text": [
      "21it [01:35,  1.09it/s]"
     ]
    },
    {
     "data": {
      "text/html": [
       "<div>\n",
       "<style scoped>\n",
       "    .dataframe tbody tr th:only-of-type {\n",
       "        vertical-align: middle;\n",
       "    }\n",
       "\n",
       "    .dataframe tbody tr th {\n",
       "        vertical-align: top;\n",
       "    }\n",
       "\n",
       "    .dataframe thead th {\n",
       "        text-align: right;\n",
       "    }\n",
       "</style>\n",
       "<table border=\"1\" class=\"dataframe\">\n",
       "  <thead>\n",
       "    <tr style=\"text-align: right;\">\n",
       "      <th></th>\n",
       "      <th>filename</th>\n",
       "    </tr>\n",
       "  </thead>\n",
       "  <tbody>\n",
       "    <tr>\n",
       "      <th>0</th>\n",
       "      <td>PUBLIC_PREDISPATCHIS_202210011030_20221001100309.CSV</td>\n",
       "    </tr>\n",
       "  </tbody>\n",
       "</table>\n",
       "</div>"
      ],
      "text/plain": [
       "                                               filename\n",
       "0  PUBLIC_PREDISPATCHIS_202210011030_20221001100309.CSV"
      ]
     },
     "metadata": {},
     "output_type": "display_data"
    },
    {
     "name": "stderr",
     "output_type": "stream",
     "text": [
      "C:\\Users\\Gerry.Flores\\AppData\\Roaming\\Python\\Python38\\site-packages\\dateutil\\parser\\_parser.py:1207: UnknownTimezoneWarning: tzname CSV identified but not understood.  Pass `tzinfos` argument in order to correctly return a timezone-aware datetime.  In a future version, this will raise an exception.\n",
      "  warnings.warn(\"tzname {tzname} identified but not understood.  \"\n"
     ]
    },
    {
     "data": {
      "text/html": [
       "<div>\n",
       "<style scoped>\n",
       "    .dataframe tbody tr th:only-of-type {\n",
       "        vertical-align: middle;\n",
       "    }\n",
       "\n",
       "    .dataframe tbody tr th {\n",
       "        vertical-align: top;\n",
       "    }\n",
       "\n",
       "    .dataframe thead th {\n",
       "        text-align: right;\n",
       "    }\n",
       "</style>\n",
       "<table border=\"1\" class=\"dataframe\">\n",
       "  <thead>\n",
       "    <tr style=\"text-align: right;\">\n",
       "      <th></th>\n",
       "      <th>filename</th>\n",
       "    </tr>\n",
       "  </thead>\n",
       "  <tbody>\n",
       "    <tr>\n",
       "      <th>0</th>\n",
       "      <td>PUBLIC_PREDISPATCHIS_202210011030_20221001100309.CSV</td>\n",
       "    </tr>\n",
       "  </tbody>\n",
       "</table>\n",
       "</div>"
      ],
      "text/plain": [
       "                                               filename\n",
       "0  PUBLIC_PREDISPATCHIS_202210011030_20221001100309.CSV"
      ]
     },
     "metadata": {},
     "output_type": "display_data"
    },
    {
     "name": "stdout",
     "output_type": "stream",
     "text": [
      "PUBLIC_PREDISPATCHIS_202210011030_20221001100309.CSV\n"
     ]
    },
    {
     "name": "stderr",
     "output_type": "stream",
     "text": [
      "22it [01:36,  1.14it/s]"
     ]
    },
    {
     "data": {
      "text/html": [
       "<div>\n",
       "<style scoped>\n",
       "    .dataframe tbody tr th:only-of-type {\n",
       "        vertical-align: middle;\n",
       "    }\n",
       "\n",
       "    .dataframe tbody tr th {\n",
       "        vertical-align: top;\n",
       "    }\n",
       "\n",
       "    .dataframe thead th {\n",
       "        text-align: right;\n",
       "    }\n",
       "</style>\n",
       "<table border=\"1\" class=\"dataframe\">\n",
       "  <thead>\n",
       "    <tr style=\"text-align: right;\">\n",
       "      <th></th>\n",
       "      <th>filename</th>\n",
       "    </tr>\n",
       "  </thead>\n",
       "  <tbody>\n",
       "    <tr>\n",
       "      <th>0</th>\n",
       "      <td>PUBLIC_PREDISPATCHIS_202210011100_20221001103258.CSV</td>\n",
       "    </tr>\n",
       "  </tbody>\n",
       "</table>\n",
       "</div>"
      ],
      "text/plain": [
       "                                               filename\n",
       "0  PUBLIC_PREDISPATCHIS_202210011100_20221001103258.CSV"
      ]
     },
     "metadata": {},
     "output_type": "display_data"
    },
    {
     "name": "stderr",
     "output_type": "stream",
     "text": [
      "C:\\Users\\Gerry.Flores\\AppData\\Roaming\\Python\\Python38\\site-packages\\dateutil\\parser\\_parser.py:1207: UnknownTimezoneWarning: tzname CSV identified but not understood.  Pass `tzinfos` argument in order to correctly return a timezone-aware datetime.  In a future version, this will raise an exception.\n",
      "  warnings.warn(\"tzname {tzname} identified but not understood.  \"\n"
     ]
    },
    {
     "data": {
      "text/html": [
       "<div>\n",
       "<style scoped>\n",
       "    .dataframe tbody tr th:only-of-type {\n",
       "        vertical-align: middle;\n",
       "    }\n",
       "\n",
       "    .dataframe tbody tr th {\n",
       "        vertical-align: top;\n",
       "    }\n",
       "\n",
       "    .dataframe thead th {\n",
       "        text-align: right;\n",
       "    }\n",
       "</style>\n",
       "<table border=\"1\" class=\"dataframe\">\n",
       "  <thead>\n",
       "    <tr style=\"text-align: right;\">\n",
       "      <th></th>\n",
       "      <th>filename</th>\n",
       "    </tr>\n",
       "  </thead>\n",
       "  <tbody>\n",
       "    <tr>\n",
       "      <th>0</th>\n",
       "      <td>PUBLIC_PREDISPATCHIS_202210011100_20221001103258.CSV</td>\n",
       "    </tr>\n",
       "  </tbody>\n",
       "</table>\n",
       "</div>"
      ],
      "text/plain": [
       "                                               filename\n",
       "0  PUBLIC_PREDISPATCHIS_202210011100_20221001103258.CSV"
      ]
     },
     "metadata": {},
     "output_type": "display_data"
    },
    {
     "name": "stdout",
     "output_type": "stream",
     "text": [
      "PUBLIC_PREDISPATCHIS_202210011100_20221001103258.CSV\n"
     ]
    },
    {
     "name": "stderr",
     "output_type": "stream",
     "text": [
      "23it [01:37,  1.18it/s]"
     ]
    },
    {
     "data": {
      "text/html": [
       "<div>\n",
       "<style scoped>\n",
       "    .dataframe tbody tr th:only-of-type {\n",
       "        vertical-align: middle;\n",
       "    }\n",
       "\n",
       "    .dataframe tbody tr th {\n",
       "        vertical-align: top;\n",
       "    }\n",
       "\n",
       "    .dataframe thead th {\n",
       "        text-align: right;\n",
       "    }\n",
       "</style>\n",
       "<table border=\"1\" class=\"dataframe\">\n",
       "  <thead>\n",
       "    <tr style=\"text-align: right;\">\n",
       "      <th></th>\n",
       "      <th>filename</th>\n",
       "    </tr>\n",
       "  </thead>\n",
       "  <tbody>\n",
       "    <tr>\n",
       "      <th>0</th>\n",
       "      <td>PUBLIC_PREDISPATCHIS_202210011130_20221001110230.CSV</td>\n",
       "    </tr>\n",
       "  </tbody>\n",
       "</table>\n",
       "</div>"
      ],
      "text/plain": [
       "                                               filename\n",
       "0  PUBLIC_PREDISPATCHIS_202210011130_20221001110230.CSV"
      ]
     },
     "metadata": {},
     "output_type": "display_data"
    },
    {
     "name": "stderr",
     "output_type": "stream",
     "text": [
      "C:\\Users\\Gerry.Flores\\AppData\\Roaming\\Python\\Python38\\site-packages\\dateutil\\parser\\_parser.py:1207: UnknownTimezoneWarning: tzname CSV identified but not understood.  Pass `tzinfos` argument in order to correctly return a timezone-aware datetime.  In a future version, this will raise an exception.\n",
      "  warnings.warn(\"tzname {tzname} identified but not understood.  \"\n"
     ]
    },
    {
     "data": {
      "text/html": [
       "<div>\n",
       "<style scoped>\n",
       "    .dataframe tbody tr th:only-of-type {\n",
       "        vertical-align: middle;\n",
       "    }\n",
       "\n",
       "    .dataframe tbody tr th {\n",
       "        vertical-align: top;\n",
       "    }\n",
       "\n",
       "    .dataframe thead th {\n",
       "        text-align: right;\n",
       "    }\n",
       "</style>\n",
       "<table border=\"1\" class=\"dataframe\">\n",
       "  <thead>\n",
       "    <tr style=\"text-align: right;\">\n",
       "      <th></th>\n",
       "      <th>filename</th>\n",
       "    </tr>\n",
       "  </thead>\n",
       "  <tbody>\n",
       "    <tr>\n",
       "      <th>0</th>\n",
       "      <td>PUBLIC_PREDISPATCHIS_202210011130_20221001110230.CSV</td>\n",
       "    </tr>\n",
       "  </tbody>\n",
       "</table>\n",
       "</div>"
      ],
      "text/plain": [
       "                                               filename\n",
       "0  PUBLIC_PREDISPATCHIS_202210011130_20221001110230.CSV"
      ]
     },
     "metadata": {},
     "output_type": "display_data"
    },
    {
     "name": "stdout",
     "output_type": "stream",
     "text": [
      "PUBLIC_PREDISPATCHIS_202210011130_20221001110230.CSV\n"
     ]
    },
    {
     "name": "stderr",
     "output_type": "stream",
     "text": [
      "24it [01:38,  1.20it/s]"
     ]
    },
    {
     "data": {
      "text/html": [
       "<div>\n",
       "<style scoped>\n",
       "    .dataframe tbody tr th:only-of-type {\n",
       "        vertical-align: middle;\n",
       "    }\n",
       "\n",
       "    .dataframe tbody tr th {\n",
       "        vertical-align: top;\n",
       "    }\n",
       "\n",
       "    .dataframe thead th {\n",
       "        text-align: right;\n",
       "    }\n",
       "</style>\n",
       "<table border=\"1\" class=\"dataframe\">\n",
       "  <thead>\n",
       "    <tr style=\"text-align: right;\">\n",
       "      <th></th>\n",
       "      <th>filename</th>\n",
       "    </tr>\n",
       "  </thead>\n",
       "  <tbody>\n",
       "    <tr>\n",
       "      <th>0</th>\n",
       "      <td>PUBLIC_PREDISPATCHIS_202210011200_20221001113250.CSV</td>\n",
       "    </tr>\n",
       "  </tbody>\n",
       "</table>\n",
       "</div>"
      ],
      "text/plain": [
       "                                               filename\n",
       "0  PUBLIC_PREDISPATCHIS_202210011200_20221001113250.CSV"
      ]
     },
     "metadata": {},
     "output_type": "display_data"
    },
    {
     "name": "stderr",
     "output_type": "stream",
     "text": [
      "C:\\Users\\Gerry.Flores\\AppData\\Roaming\\Python\\Python38\\site-packages\\dateutil\\parser\\_parser.py:1207: UnknownTimezoneWarning: tzname CSV identified but not understood.  Pass `tzinfos` argument in order to correctly return a timezone-aware datetime.  In a future version, this will raise an exception.\n",
      "  warnings.warn(\"tzname {tzname} identified but not understood.  \"\n"
     ]
    },
    {
     "data": {
      "text/html": [
       "<div>\n",
       "<style scoped>\n",
       "    .dataframe tbody tr th:only-of-type {\n",
       "        vertical-align: middle;\n",
       "    }\n",
       "\n",
       "    .dataframe tbody tr th {\n",
       "        vertical-align: top;\n",
       "    }\n",
       "\n",
       "    .dataframe thead th {\n",
       "        text-align: right;\n",
       "    }\n",
       "</style>\n",
       "<table border=\"1\" class=\"dataframe\">\n",
       "  <thead>\n",
       "    <tr style=\"text-align: right;\">\n",
       "      <th></th>\n",
       "      <th>filename</th>\n",
       "    </tr>\n",
       "  </thead>\n",
       "  <tbody>\n",
       "    <tr>\n",
       "      <th>0</th>\n",
       "      <td>PUBLIC_PREDISPATCHIS_202210011200_20221001113250.CSV</td>\n",
       "    </tr>\n",
       "  </tbody>\n",
       "</table>\n",
       "</div>"
      ],
      "text/plain": [
       "                                               filename\n",
       "0  PUBLIC_PREDISPATCHIS_202210011200_20221001113250.CSV"
      ]
     },
     "metadata": {},
     "output_type": "display_data"
    },
    {
     "name": "stdout",
     "output_type": "stream",
     "text": [
      "PUBLIC_PREDISPATCHIS_202210011200_20221001113250.CSV\n"
     ]
    },
    {
     "name": "stderr",
     "output_type": "stream",
     "text": [
      "25it [01:39,  1.23it/s]"
     ]
    },
    {
     "data": {
      "text/html": [
       "<div>\n",
       "<style scoped>\n",
       "    .dataframe tbody tr th:only-of-type {\n",
       "        vertical-align: middle;\n",
       "    }\n",
       "\n",
       "    .dataframe tbody tr th {\n",
       "        vertical-align: top;\n",
       "    }\n",
       "\n",
       "    .dataframe thead th {\n",
       "        text-align: right;\n",
       "    }\n",
       "</style>\n",
       "<table border=\"1\" class=\"dataframe\">\n",
       "  <thead>\n",
       "    <tr style=\"text-align: right;\">\n",
       "      <th></th>\n",
       "      <th>filename</th>\n",
       "    </tr>\n",
       "  </thead>\n",
       "  <tbody>\n",
       "    <tr>\n",
       "      <th>0</th>\n",
       "      <td>PUBLIC_PREDISPATCHIS_202210011230_20221001120259.CSV</td>\n",
       "    </tr>\n",
       "  </tbody>\n",
       "</table>\n",
       "</div>"
      ],
      "text/plain": [
       "                                               filename\n",
       "0  PUBLIC_PREDISPATCHIS_202210011230_20221001120259.CSV"
      ]
     },
     "metadata": {},
     "output_type": "display_data"
    },
    {
     "name": "stderr",
     "output_type": "stream",
     "text": [
      "C:\\Users\\Gerry.Flores\\AppData\\Roaming\\Python\\Python38\\site-packages\\dateutil\\parser\\_parser.py:1207: UnknownTimezoneWarning: tzname CSV identified but not understood.  Pass `tzinfos` argument in order to correctly return a timezone-aware datetime.  In a future version, this will raise an exception.\n",
      "  warnings.warn(\"tzname {tzname} identified but not understood.  \"\n"
     ]
    },
    {
     "data": {
      "text/html": [
       "<div>\n",
       "<style scoped>\n",
       "    .dataframe tbody tr th:only-of-type {\n",
       "        vertical-align: middle;\n",
       "    }\n",
       "\n",
       "    .dataframe tbody tr th {\n",
       "        vertical-align: top;\n",
       "    }\n",
       "\n",
       "    .dataframe thead th {\n",
       "        text-align: right;\n",
       "    }\n",
       "</style>\n",
       "<table border=\"1\" class=\"dataframe\">\n",
       "  <thead>\n",
       "    <tr style=\"text-align: right;\">\n",
       "      <th></th>\n",
       "      <th>filename</th>\n",
       "    </tr>\n",
       "  </thead>\n",
       "  <tbody>\n",
       "    <tr>\n",
       "      <th>0</th>\n",
       "      <td>PUBLIC_PREDISPATCHIS_202210011230_20221001120259.CSV</td>\n",
       "    </tr>\n",
       "  </tbody>\n",
       "</table>\n",
       "</div>"
      ],
      "text/plain": [
       "                                               filename\n",
       "0  PUBLIC_PREDISPATCHIS_202210011230_20221001120259.CSV"
      ]
     },
     "metadata": {},
     "output_type": "display_data"
    },
    {
     "name": "stdout",
     "output_type": "stream",
     "text": [
      "PUBLIC_PREDISPATCHIS_202210011230_20221001120259.CSV\n"
     ]
    },
    {
     "name": "stderr",
     "output_type": "stream",
     "text": [
      "26it [01:39,  1.27it/s]"
     ]
    },
    {
     "data": {
      "text/html": [
       "<div>\n",
       "<style scoped>\n",
       "    .dataframe tbody tr th:only-of-type {\n",
       "        vertical-align: middle;\n",
       "    }\n",
       "\n",
       "    .dataframe tbody tr th {\n",
       "        vertical-align: top;\n",
       "    }\n",
       "\n",
       "    .dataframe thead th {\n",
       "        text-align: right;\n",
       "    }\n",
       "</style>\n",
       "<table border=\"1\" class=\"dataframe\">\n",
       "  <thead>\n",
       "    <tr style=\"text-align: right;\">\n",
       "      <th></th>\n",
       "      <th>filename</th>\n",
       "    </tr>\n",
       "  </thead>\n",
       "  <tbody>\n",
       "    <tr>\n",
       "      <th>0</th>\n",
       "      <td>PUBLIC_PREDISPATCHIS_202210011300_20221001123738.CSV</td>\n",
       "    </tr>\n",
       "  </tbody>\n",
       "</table>\n",
       "</div>"
      ],
      "text/plain": [
       "                                               filename\n",
       "0  PUBLIC_PREDISPATCHIS_202210011300_20221001123738.CSV"
      ]
     },
     "metadata": {},
     "output_type": "display_data"
    },
    {
     "name": "stderr",
     "output_type": "stream",
     "text": [
      "C:\\Users\\Gerry.Flores\\AppData\\Roaming\\Python\\Python38\\site-packages\\dateutil\\parser\\_parser.py:1207: UnknownTimezoneWarning: tzname CSV identified but not understood.  Pass `tzinfos` argument in order to correctly return a timezone-aware datetime.  In a future version, this will raise an exception.\n",
      "  warnings.warn(\"tzname {tzname} identified but not understood.  \"\n"
     ]
    },
    {
     "data": {
      "text/html": [
       "<div>\n",
       "<style scoped>\n",
       "    .dataframe tbody tr th:only-of-type {\n",
       "        vertical-align: middle;\n",
       "    }\n",
       "\n",
       "    .dataframe tbody tr th {\n",
       "        vertical-align: top;\n",
       "    }\n",
       "\n",
       "    .dataframe thead th {\n",
       "        text-align: right;\n",
       "    }\n",
       "</style>\n",
       "<table border=\"1\" class=\"dataframe\">\n",
       "  <thead>\n",
       "    <tr style=\"text-align: right;\">\n",
       "      <th></th>\n",
       "      <th>filename</th>\n",
       "    </tr>\n",
       "  </thead>\n",
       "  <tbody>\n",
       "    <tr>\n",
       "      <th>0</th>\n",
       "      <td>PUBLIC_PREDISPATCHIS_202210011300_20221001123738.CSV</td>\n",
       "    </tr>\n",
       "  </tbody>\n",
       "</table>\n",
       "</div>"
      ],
      "text/plain": [
       "                                               filename\n",
       "0  PUBLIC_PREDISPATCHIS_202210011300_20221001123738.CSV"
      ]
     },
     "metadata": {},
     "output_type": "display_data"
    },
    {
     "name": "stdout",
     "output_type": "stream",
     "text": [
      "PUBLIC_PREDISPATCHIS_202210011300_20221001123738.CSV\n"
     ]
    },
    {
     "name": "stderr",
     "output_type": "stream",
     "text": [
      "27it [01:41,  1.12s/it]"
     ]
    },
    {
     "data": {
      "text/html": [
       "<div>\n",
       "<style scoped>\n",
       "    .dataframe tbody tr th:only-of-type {\n",
       "        vertical-align: middle;\n",
       "    }\n",
       "\n",
       "    .dataframe tbody tr th {\n",
       "        vertical-align: top;\n",
       "    }\n",
       "\n",
       "    .dataframe thead th {\n",
       "        text-align: right;\n",
       "    }\n",
       "</style>\n",
       "<table border=\"1\" class=\"dataframe\">\n",
       "  <thead>\n",
       "    <tr style=\"text-align: right;\">\n",
       "      <th></th>\n",
       "      <th>filename</th>\n",
       "    </tr>\n",
       "  </thead>\n",
       "  <tbody>\n",
       "    <tr>\n",
       "      <th>0</th>\n",
       "      <td>PUBLIC_PREDISPATCHIS_202210011330_20221001130508.CSV</td>\n",
       "    </tr>\n",
       "  </tbody>\n",
       "</table>\n",
       "</div>"
      ],
      "text/plain": [
       "                                               filename\n",
       "0  PUBLIC_PREDISPATCHIS_202210011330_20221001130508.CSV"
      ]
     },
     "metadata": {},
     "output_type": "display_data"
    },
    {
     "name": "stderr",
     "output_type": "stream",
     "text": [
      "C:\\Users\\Gerry.Flores\\AppData\\Roaming\\Python\\Python38\\site-packages\\dateutil\\parser\\_parser.py:1207: UnknownTimezoneWarning: tzname CSV identified but not understood.  Pass `tzinfos` argument in order to correctly return a timezone-aware datetime.  In a future version, this will raise an exception.\n",
      "  warnings.warn(\"tzname {tzname} identified but not understood.  \"\n"
     ]
    },
    {
     "data": {
      "text/html": [
       "<div>\n",
       "<style scoped>\n",
       "    .dataframe tbody tr th:only-of-type {\n",
       "        vertical-align: middle;\n",
       "    }\n",
       "\n",
       "    .dataframe tbody tr th {\n",
       "        vertical-align: top;\n",
       "    }\n",
       "\n",
       "    .dataframe thead th {\n",
       "        text-align: right;\n",
       "    }\n",
       "</style>\n",
       "<table border=\"1\" class=\"dataframe\">\n",
       "  <thead>\n",
       "    <tr style=\"text-align: right;\">\n",
       "      <th></th>\n",
       "      <th>filename</th>\n",
       "    </tr>\n",
       "  </thead>\n",
       "  <tbody>\n",
       "    <tr>\n",
       "      <th>0</th>\n",
       "      <td>PUBLIC_PREDISPATCHIS_202210011330_20221001130508.CSV</td>\n",
       "    </tr>\n",
       "  </tbody>\n",
       "</table>\n",
       "</div>"
      ],
      "text/plain": [
       "                                               filename\n",
       "0  PUBLIC_PREDISPATCHIS_202210011330_20221001130508.CSV"
      ]
     },
     "metadata": {},
     "output_type": "display_data"
    },
    {
     "name": "stdout",
     "output_type": "stream",
     "text": [
      "PUBLIC_PREDISPATCHIS_202210011330_20221001130508.CSV\n"
     ]
    },
    {
     "name": "stderr",
     "output_type": "stream",
     "text": [
      "28it [01:43,  1.37s/it]"
     ]
    },
    {
     "data": {
      "text/html": [
       "<div>\n",
       "<style scoped>\n",
       "    .dataframe tbody tr th:only-of-type {\n",
       "        vertical-align: middle;\n",
       "    }\n",
       "\n",
       "    .dataframe tbody tr th {\n",
       "        vertical-align: top;\n",
       "    }\n",
       "\n",
       "    .dataframe thead th {\n",
       "        text-align: right;\n",
       "    }\n",
       "</style>\n",
       "<table border=\"1\" class=\"dataframe\">\n",
       "  <thead>\n",
       "    <tr style=\"text-align: right;\">\n",
       "      <th></th>\n",
       "      <th>filename</th>\n",
       "    </tr>\n",
       "  </thead>\n",
       "  <tbody>\n",
       "    <tr>\n",
       "      <th>0</th>\n",
       "      <td>PUBLIC_PREDISPATCHIS_202210011400_20221001133455.CSV</td>\n",
       "    </tr>\n",
       "  </tbody>\n",
       "</table>\n",
       "</div>"
      ],
      "text/plain": [
       "                                               filename\n",
       "0  PUBLIC_PREDISPATCHIS_202210011400_20221001133455.CSV"
      ]
     },
     "metadata": {},
     "output_type": "display_data"
    },
    {
     "name": "stderr",
     "output_type": "stream",
     "text": [
      "C:\\Users\\Gerry.Flores\\AppData\\Roaming\\Python\\Python38\\site-packages\\dateutil\\parser\\_parser.py:1207: UnknownTimezoneWarning: tzname CSV identified but not understood.  Pass `tzinfos` argument in order to correctly return a timezone-aware datetime.  In a future version, this will raise an exception.\n",
      "  warnings.warn(\"tzname {tzname} identified but not understood.  \"\n"
     ]
    },
    {
     "data": {
      "text/html": [
       "<div>\n",
       "<style scoped>\n",
       "    .dataframe tbody tr th:only-of-type {\n",
       "        vertical-align: middle;\n",
       "    }\n",
       "\n",
       "    .dataframe tbody tr th {\n",
       "        vertical-align: top;\n",
       "    }\n",
       "\n",
       "    .dataframe thead th {\n",
       "        text-align: right;\n",
       "    }\n",
       "</style>\n",
       "<table border=\"1\" class=\"dataframe\">\n",
       "  <thead>\n",
       "    <tr style=\"text-align: right;\">\n",
       "      <th></th>\n",
       "      <th>filename</th>\n",
       "    </tr>\n",
       "  </thead>\n",
       "  <tbody>\n",
       "    <tr>\n",
       "      <th>0</th>\n",
       "      <td>PUBLIC_PREDISPATCHIS_202210011400_20221001133455.CSV</td>\n",
       "    </tr>\n",
       "  </tbody>\n",
       "</table>\n",
       "</div>"
      ],
      "text/plain": [
       "                                               filename\n",
       "0  PUBLIC_PREDISPATCHIS_202210011400_20221001133455.CSV"
      ]
     },
     "metadata": {},
     "output_type": "display_data"
    },
    {
     "name": "stdout",
     "output_type": "stream",
     "text": [
      "PUBLIC_PREDISPATCHIS_202210011400_20221001133455.CSV\n"
     ]
    },
    {
     "name": "stderr",
     "output_type": "stream",
     "text": [
      "29it [01:45,  1.55s/it]"
     ]
    },
    {
     "data": {
      "text/html": [
       "<div>\n",
       "<style scoped>\n",
       "    .dataframe tbody tr th:only-of-type {\n",
       "        vertical-align: middle;\n",
       "    }\n",
       "\n",
       "    .dataframe tbody tr th {\n",
       "        vertical-align: top;\n",
       "    }\n",
       "\n",
       "    .dataframe thead th {\n",
       "        text-align: right;\n",
       "    }\n",
       "</style>\n",
       "<table border=\"1\" class=\"dataframe\">\n",
       "  <thead>\n",
       "    <tr style=\"text-align: right;\">\n",
       "      <th></th>\n",
       "      <th>filename</th>\n",
       "    </tr>\n",
       "  </thead>\n",
       "  <tbody>\n",
       "    <tr>\n",
       "      <th>0</th>\n",
       "      <td>PUBLIC_PREDISPATCHIS_202210011430_20221001140510.CSV</td>\n",
       "    </tr>\n",
       "  </tbody>\n",
       "</table>\n",
       "</div>"
      ],
      "text/plain": [
       "                                               filename\n",
       "0  PUBLIC_PREDISPATCHIS_202210011430_20221001140510.CSV"
      ]
     },
     "metadata": {},
     "output_type": "display_data"
    },
    {
     "name": "stderr",
     "output_type": "stream",
     "text": [
      "C:\\Users\\Gerry.Flores\\AppData\\Roaming\\Python\\Python38\\site-packages\\dateutil\\parser\\_parser.py:1207: UnknownTimezoneWarning: tzname CSV identified but not understood.  Pass `tzinfos` argument in order to correctly return a timezone-aware datetime.  In a future version, this will raise an exception.\n",
      "  warnings.warn(\"tzname {tzname} identified but not understood.  \"\n"
     ]
    },
    {
     "data": {
      "text/html": [
       "<div>\n",
       "<style scoped>\n",
       "    .dataframe tbody tr th:only-of-type {\n",
       "        vertical-align: middle;\n",
       "    }\n",
       "\n",
       "    .dataframe tbody tr th {\n",
       "        vertical-align: top;\n",
       "    }\n",
       "\n",
       "    .dataframe thead th {\n",
       "        text-align: right;\n",
       "    }\n",
       "</style>\n",
       "<table border=\"1\" class=\"dataframe\">\n",
       "  <thead>\n",
       "    <tr style=\"text-align: right;\">\n",
       "      <th></th>\n",
       "      <th>filename</th>\n",
       "    </tr>\n",
       "  </thead>\n",
       "  <tbody>\n",
       "    <tr>\n",
       "      <th>0</th>\n",
       "      <td>PUBLIC_PREDISPATCHIS_202210011430_20221001140510.CSV</td>\n",
       "    </tr>\n",
       "  </tbody>\n",
       "</table>\n",
       "</div>"
      ],
      "text/plain": [
       "                                               filename\n",
       "0  PUBLIC_PREDISPATCHIS_202210011430_20221001140510.CSV"
      ]
     },
     "metadata": {},
     "output_type": "display_data"
    },
    {
     "name": "stdout",
     "output_type": "stream",
     "text": [
      "PUBLIC_PREDISPATCHIS_202210011430_20221001140510.CSV\n"
     ]
    },
    {
     "name": "stderr",
     "output_type": "stream",
     "text": [
      "30it [01:47,  1.62s/it]"
     ]
    },
    {
     "data": {
      "text/html": [
       "<div>\n",
       "<style scoped>\n",
       "    .dataframe tbody tr th:only-of-type {\n",
       "        vertical-align: middle;\n",
       "    }\n",
       "\n",
       "    .dataframe tbody tr th {\n",
       "        vertical-align: top;\n",
       "    }\n",
       "\n",
       "    .dataframe thead th {\n",
       "        text-align: right;\n",
       "    }\n",
       "</style>\n",
       "<table border=\"1\" class=\"dataframe\">\n",
       "  <thead>\n",
       "    <tr style=\"text-align: right;\">\n",
       "      <th></th>\n",
       "      <th>filename</th>\n",
       "    </tr>\n",
       "  </thead>\n",
       "  <tbody>\n",
       "    <tr>\n",
       "      <th>0</th>\n",
       "      <td>PUBLIC_PREDISPATCHIS_202210011500_20221001143439.CSV</td>\n",
       "    </tr>\n",
       "  </tbody>\n",
       "</table>\n",
       "</div>"
      ],
      "text/plain": [
       "                                               filename\n",
       "0  PUBLIC_PREDISPATCHIS_202210011500_20221001143439.CSV"
      ]
     },
     "metadata": {},
     "output_type": "display_data"
    },
    {
     "name": "stderr",
     "output_type": "stream",
     "text": [
      "C:\\Users\\Gerry.Flores\\AppData\\Roaming\\Python\\Python38\\site-packages\\dateutil\\parser\\_parser.py:1207: UnknownTimezoneWarning: tzname CSV identified but not understood.  Pass `tzinfos` argument in order to correctly return a timezone-aware datetime.  In a future version, this will raise an exception.\n",
      "  warnings.warn(\"tzname {tzname} identified but not understood.  \"\n"
     ]
    },
    {
     "data": {
      "text/html": [
       "<div>\n",
       "<style scoped>\n",
       "    .dataframe tbody tr th:only-of-type {\n",
       "        vertical-align: middle;\n",
       "    }\n",
       "\n",
       "    .dataframe tbody tr th {\n",
       "        vertical-align: top;\n",
       "    }\n",
       "\n",
       "    .dataframe thead th {\n",
       "        text-align: right;\n",
       "    }\n",
       "</style>\n",
       "<table border=\"1\" class=\"dataframe\">\n",
       "  <thead>\n",
       "    <tr style=\"text-align: right;\">\n",
       "      <th></th>\n",
       "      <th>filename</th>\n",
       "    </tr>\n",
       "  </thead>\n",
       "  <tbody>\n",
       "    <tr>\n",
       "      <th>0</th>\n",
       "      <td>PUBLIC_PREDISPATCHIS_202210011500_20221001143439.CSV</td>\n",
       "    </tr>\n",
       "  </tbody>\n",
       "</table>\n",
       "</div>"
      ],
      "text/plain": [
       "                                               filename\n",
       "0  PUBLIC_PREDISPATCHIS_202210011500_20221001143439.CSV"
      ]
     },
     "metadata": {},
     "output_type": "display_data"
    },
    {
     "name": "stdout",
     "output_type": "stream",
     "text": [
      "PUBLIC_PREDISPATCHIS_202210011500_20221001143439.CSV\n"
     ]
    },
    {
     "name": "stderr",
     "output_type": "stream",
     "text": [
      "31it [01:49,  1.67s/it]"
     ]
    },
    {
     "data": {
      "text/html": [
       "<div>\n",
       "<style scoped>\n",
       "    .dataframe tbody tr th:only-of-type {\n",
       "        vertical-align: middle;\n",
       "    }\n",
       "\n",
       "    .dataframe tbody tr th {\n",
       "        vertical-align: top;\n",
       "    }\n",
       "\n",
       "    .dataframe thead th {\n",
       "        text-align: right;\n",
       "    }\n",
       "</style>\n",
       "<table border=\"1\" class=\"dataframe\">\n",
       "  <thead>\n",
       "    <tr style=\"text-align: right;\">\n",
       "      <th></th>\n",
       "      <th>filename</th>\n",
       "    </tr>\n",
       "  </thead>\n",
       "  <tbody>\n",
       "    <tr>\n",
       "      <th>0</th>\n",
       "      <td>PUBLIC_PREDISPATCHIS_202210011530_20221001150357.CSV</td>\n",
       "    </tr>\n",
       "  </tbody>\n",
       "</table>\n",
       "</div>"
      ],
      "text/plain": [
       "                                               filename\n",
       "0  PUBLIC_PREDISPATCHIS_202210011530_20221001150357.CSV"
      ]
     },
     "metadata": {},
     "output_type": "display_data"
    },
    {
     "name": "stderr",
     "output_type": "stream",
     "text": [
      "C:\\Users\\Gerry.Flores\\AppData\\Roaming\\Python\\Python38\\site-packages\\dateutil\\parser\\_parser.py:1207: UnknownTimezoneWarning: tzname CSV identified but not understood.  Pass `tzinfos` argument in order to correctly return a timezone-aware datetime.  In a future version, this will raise an exception.\n",
      "  warnings.warn(\"tzname {tzname} identified but not understood.  \"\n"
     ]
    },
    {
     "data": {
      "text/html": [
       "<div>\n",
       "<style scoped>\n",
       "    .dataframe tbody tr th:only-of-type {\n",
       "        vertical-align: middle;\n",
       "    }\n",
       "\n",
       "    .dataframe tbody tr th {\n",
       "        vertical-align: top;\n",
       "    }\n",
       "\n",
       "    .dataframe thead th {\n",
       "        text-align: right;\n",
       "    }\n",
       "</style>\n",
       "<table border=\"1\" class=\"dataframe\">\n",
       "  <thead>\n",
       "    <tr style=\"text-align: right;\">\n",
       "      <th></th>\n",
       "      <th>filename</th>\n",
       "    </tr>\n",
       "  </thead>\n",
       "  <tbody>\n",
       "    <tr>\n",
       "      <th>0</th>\n",
       "      <td>PUBLIC_PREDISPATCHIS_202210011530_20221001150357.CSV</td>\n",
       "    </tr>\n",
       "  </tbody>\n",
       "</table>\n",
       "</div>"
      ],
      "text/plain": [
       "                                               filename\n",
       "0  PUBLIC_PREDISPATCHIS_202210011530_20221001150357.CSV"
      ]
     },
     "metadata": {},
     "output_type": "display_data"
    },
    {
     "name": "stdout",
     "output_type": "stream",
     "text": [
      "PUBLIC_PREDISPATCHIS_202210011530_20221001150357.CSV\n"
     ]
    },
    {
     "name": "stderr",
     "output_type": "stream",
     "text": [
      "32it [01:50,  1.66s/it]"
     ]
    },
    {
     "data": {
      "text/html": [
       "<div>\n",
       "<style scoped>\n",
       "    .dataframe tbody tr th:only-of-type {\n",
       "        vertical-align: middle;\n",
       "    }\n",
       "\n",
       "    .dataframe tbody tr th {\n",
       "        vertical-align: top;\n",
       "    }\n",
       "\n",
       "    .dataframe thead th {\n",
       "        text-align: right;\n",
       "    }\n",
       "</style>\n",
       "<table border=\"1\" class=\"dataframe\">\n",
       "  <thead>\n",
       "    <tr style=\"text-align: right;\">\n",
       "      <th></th>\n",
       "      <th>filename</th>\n",
       "    </tr>\n",
       "  </thead>\n",
       "  <tbody>\n",
       "    <tr>\n",
       "      <th>0</th>\n",
       "      <td>PUBLIC_PREDISPATCHIS_202210011600_20221001153434.CSV</td>\n",
       "    </tr>\n",
       "  </tbody>\n",
       "</table>\n",
       "</div>"
      ],
      "text/plain": [
       "                                               filename\n",
       "0  PUBLIC_PREDISPATCHIS_202210011600_20221001153434.CSV"
      ]
     },
     "metadata": {},
     "output_type": "display_data"
    },
    {
     "name": "stderr",
     "output_type": "stream",
     "text": [
      "C:\\Users\\Gerry.Flores\\AppData\\Roaming\\Python\\Python38\\site-packages\\dateutil\\parser\\_parser.py:1207: UnknownTimezoneWarning: tzname CSV identified but not understood.  Pass `tzinfos` argument in order to correctly return a timezone-aware datetime.  In a future version, this will raise an exception.\n",
      "  warnings.warn(\"tzname {tzname} identified but not understood.  \"\n"
     ]
    },
    {
     "data": {
      "text/html": [
       "<div>\n",
       "<style scoped>\n",
       "    .dataframe tbody tr th:only-of-type {\n",
       "        vertical-align: middle;\n",
       "    }\n",
       "\n",
       "    .dataframe tbody tr th {\n",
       "        vertical-align: top;\n",
       "    }\n",
       "\n",
       "    .dataframe thead th {\n",
       "        text-align: right;\n",
       "    }\n",
       "</style>\n",
       "<table border=\"1\" class=\"dataframe\">\n",
       "  <thead>\n",
       "    <tr style=\"text-align: right;\">\n",
       "      <th></th>\n",
       "      <th>filename</th>\n",
       "    </tr>\n",
       "  </thead>\n",
       "  <tbody>\n",
       "    <tr>\n",
       "      <th>0</th>\n",
       "      <td>PUBLIC_PREDISPATCHIS_202210011600_20221001153434.CSV</td>\n",
       "    </tr>\n",
       "  </tbody>\n",
       "</table>\n",
       "</div>"
      ],
      "text/plain": [
       "                                               filename\n",
       "0  PUBLIC_PREDISPATCHIS_202210011600_20221001153434.CSV"
      ]
     },
     "metadata": {},
     "output_type": "display_data"
    },
    {
     "name": "stdout",
     "output_type": "stream",
     "text": [
      "PUBLIC_PREDISPATCHIS_202210011600_20221001153434.CSV\n"
     ]
    },
    {
     "name": "stderr",
     "output_type": "stream",
     "text": [
      "33it [01:52,  1.66s/it]"
     ]
    },
    {
     "data": {
      "text/html": [
       "<div>\n",
       "<style scoped>\n",
       "    .dataframe tbody tr th:only-of-type {\n",
       "        vertical-align: middle;\n",
       "    }\n",
       "\n",
       "    .dataframe tbody tr th {\n",
       "        vertical-align: top;\n",
       "    }\n",
       "\n",
       "    .dataframe thead th {\n",
       "        text-align: right;\n",
       "    }\n",
       "</style>\n",
       "<table border=\"1\" class=\"dataframe\">\n",
       "  <thead>\n",
       "    <tr style=\"text-align: right;\">\n",
       "      <th></th>\n",
       "      <th>filename</th>\n",
       "    </tr>\n",
       "  </thead>\n",
       "  <tbody>\n",
       "    <tr>\n",
       "      <th>0</th>\n",
       "      <td>PUBLIC_PREDISPATCHIS_202210011630_20221001160524.CSV</td>\n",
       "    </tr>\n",
       "  </tbody>\n",
       "</table>\n",
       "</div>"
      ],
      "text/plain": [
       "                                               filename\n",
       "0  PUBLIC_PREDISPATCHIS_202210011630_20221001160524.CSV"
      ]
     },
     "metadata": {},
     "output_type": "display_data"
    },
    {
     "name": "stderr",
     "output_type": "stream",
     "text": [
      "C:\\Users\\Gerry.Flores\\AppData\\Roaming\\Python\\Python38\\site-packages\\dateutil\\parser\\_parser.py:1207: UnknownTimezoneWarning: tzname CSV identified but not understood.  Pass `tzinfos` argument in order to correctly return a timezone-aware datetime.  In a future version, this will raise an exception.\n",
      "  warnings.warn(\"tzname {tzname} identified but not understood.  \"\n"
     ]
    },
    {
     "data": {
      "text/html": [
       "<div>\n",
       "<style scoped>\n",
       "    .dataframe tbody tr th:only-of-type {\n",
       "        vertical-align: middle;\n",
       "    }\n",
       "\n",
       "    .dataframe tbody tr th {\n",
       "        vertical-align: top;\n",
       "    }\n",
       "\n",
       "    .dataframe thead th {\n",
       "        text-align: right;\n",
       "    }\n",
       "</style>\n",
       "<table border=\"1\" class=\"dataframe\">\n",
       "  <thead>\n",
       "    <tr style=\"text-align: right;\">\n",
       "      <th></th>\n",
       "      <th>filename</th>\n",
       "    </tr>\n",
       "  </thead>\n",
       "  <tbody>\n",
       "    <tr>\n",
       "      <th>0</th>\n",
       "      <td>PUBLIC_PREDISPATCHIS_202210011630_20221001160524.CSV</td>\n",
       "    </tr>\n",
       "  </tbody>\n",
       "</table>\n",
       "</div>"
      ],
      "text/plain": [
       "                                               filename\n",
       "0  PUBLIC_PREDISPATCHIS_202210011630_20221001160524.CSV"
      ]
     },
     "metadata": {},
     "output_type": "display_data"
    },
    {
     "name": "stdout",
     "output_type": "stream",
     "text": [
      "PUBLIC_PREDISPATCHIS_202210011630_20221001160524.CSV\n"
     ]
    },
    {
     "name": "stderr",
     "output_type": "stream",
     "text": [
      "34it [01:54,  1.64s/it]"
     ]
    },
    {
     "data": {
      "text/html": [
       "<div>\n",
       "<style scoped>\n",
       "    .dataframe tbody tr th:only-of-type {\n",
       "        vertical-align: middle;\n",
       "    }\n",
       "\n",
       "    .dataframe tbody tr th {\n",
       "        vertical-align: top;\n",
       "    }\n",
       "\n",
       "    .dataframe thead th {\n",
       "        text-align: right;\n",
       "    }\n",
       "</style>\n",
       "<table border=\"1\" class=\"dataframe\">\n",
       "  <thead>\n",
       "    <tr style=\"text-align: right;\">\n",
       "      <th></th>\n",
       "      <th>filename</th>\n",
       "    </tr>\n",
       "  </thead>\n",
       "  <tbody>\n",
       "    <tr>\n",
       "      <th>0</th>\n",
       "      <td>PUBLIC_PREDISPATCHIS_202210011700_20221001163451.CSV</td>\n",
       "    </tr>\n",
       "  </tbody>\n",
       "</table>\n",
       "</div>"
      ],
      "text/plain": [
       "                                               filename\n",
       "0  PUBLIC_PREDISPATCHIS_202210011700_20221001163451.CSV"
      ]
     },
     "metadata": {},
     "output_type": "display_data"
    },
    {
     "name": "stderr",
     "output_type": "stream",
     "text": [
      "C:\\Users\\Gerry.Flores\\AppData\\Roaming\\Python\\Python38\\site-packages\\dateutil\\parser\\_parser.py:1207: UnknownTimezoneWarning: tzname CSV identified but not understood.  Pass `tzinfos` argument in order to correctly return a timezone-aware datetime.  In a future version, this will raise an exception.\n",
      "  warnings.warn(\"tzname {tzname} identified but not understood.  \"\n"
     ]
    },
    {
     "data": {
      "text/html": [
       "<div>\n",
       "<style scoped>\n",
       "    .dataframe tbody tr th:only-of-type {\n",
       "        vertical-align: middle;\n",
       "    }\n",
       "\n",
       "    .dataframe tbody tr th {\n",
       "        vertical-align: top;\n",
       "    }\n",
       "\n",
       "    .dataframe thead th {\n",
       "        text-align: right;\n",
       "    }\n",
       "</style>\n",
       "<table border=\"1\" class=\"dataframe\">\n",
       "  <thead>\n",
       "    <tr style=\"text-align: right;\">\n",
       "      <th></th>\n",
       "      <th>filename</th>\n",
       "    </tr>\n",
       "  </thead>\n",
       "  <tbody>\n",
       "    <tr>\n",
       "      <th>0</th>\n",
       "      <td>PUBLIC_PREDISPATCHIS_202210011700_20221001163451.CSV</td>\n",
       "    </tr>\n",
       "  </tbody>\n",
       "</table>\n",
       "</div>"
      ],
      "text/plain": [
       "                                               filename\n",
       "0  PUBLIC_PREDISPATCHIS_202210011700_20221001163451.CSV"
      ]
     },
     "metadata": {},
     "output_type": "display_data"
    },
    {
     "name": "stdout",
     "output_type": "stream",
     "text": [
      "PUBLIC_PREDISPATCHIS_202210011700_20221001163451.CSV\n"
     ]
    },
    {
     "name": "stderr",
     "output_type": "stream",
     "text": [
      "35it [01:55,  1.61s/it]"
     ]
    },
    {
     "data": {
      "text/html": [
       "<div>\n",
       "<style scoped>\n",
       "    .dataframe tbody tr th:only-of-type {\n",
       "        vertical-align: middle;\n",
       "    }\n",
       "\n",
       "    .dataframe tbody tr th {\n",
       "        vertical-align: top;\n",
       "    }\n",
       "\n",
       "    .dataframe thead th {\n",
       "        text-align: right;\n",
       "    }\n",
       "</style>\n",
       "<table border=\"1\" class=\"dataframe\">\n",
       "  <thead>\n",
       "    <tr style=\"text-align: right;\">\n",
       "      <th></th>\n",
       "      <th>filename</th>\n",
       "    </tr>\n",
       "  </thead>\n",
       "  <tbody>\n",
       "    <tr>\n",
       "      <th>0</th>\n",
       "      <td>PUBLIC_PREDISPATCHIS_202210011730_20221001170358.CSV</td>\n",
       "    </tr>\n",
       "  </tbody>\n",
       "</table>\n",
       "</div>"
      ],
      "text/plain": [
       "                                               filename\n",
       "0  PUBLIC_PREDISPATCHIS_202210011730_20221001170358.CSV"
      ]
     },
     "metadata": {},
     "output_type": "display_data"
    },
    {
     "name": "stderr",
     "output_type": "stream",
     "text": [
      "C:\\Users\\Gerry.Flores\\AppData\\Roaming\\Python\\Python38\\site-packages\\dateutil\\parser\\_parser.py:1207: UnknownTimezoneWarning: tzname CSV identified but not understood.  Pass `tzinfos` argument in order to correctly return a timezone-aware datetime.  In a future version, this will raise an exception.\n",
      "  warnings.warn(\"tzname {tzname} identified but not understood.  \"\n"
     ]
    },
    {
     "data": {
      "text/html": [
       "<div>\n",
       "<style scoped>\n",
       "    .dataframe tbody tr th:only-of-type {\n",
       "        vertical-align: middle;\n",
       "    }\n",
       "\n",
       "    .dataframe tbody tr th {\n",
       "        vertical-align: top;\n",
       "    }\n",
       "\n",
       "    .dataframe thead th {\n",
       "        text-align: right;\n",
       "    }\n",
       "</style>\n",
       "<table border=\"1\" class=\"dataframe\">\n",
       "  <thead>\n",
       "    <tr style=\"text-align: right;\">\n",
       "      <th></th>\n",
       "      <th>filename</th>\n",
       "    </tr>\n",
       "  </thead>\n",
       "  <tbody>\n",
       "    <tr>\n",
       "      <th>0</th>\n",
       "      <td>PUBLIC_PREDISPATCHIS_202210011730_20221001170358.CSV</td>\n",
       "    </tr>\n",
       "  </tbody>\n",
       "</table>\n",
       "</div>"
      ],
      "text/plain": [
       "                                               filename\n",
       "0  PUBLIC_PREDISPATCHIS_202210011730_20221001170358.CSV"
      ]
     },
     "metadata": {},
     "output_type": "display_data"
    },
    {
     "name": "stdout",
     "output_type": "stream",
     "text": [
      "PUBLIC_PREDISPATCHIS_202210011730_20221001170358.CSV\n"
     ]
    },
    {
     "name": "stderr",
     "output_type": "stream",
     "text": [
      "36it [01:57,  1.59s/it]"
     ]
    },
    {
     "data": {
      "text/html": [
       "<div>\n",
       "<style scoped>\n",
       "    .dataframe tbody tr th:only-of-type {\n",
       "        vertical-align: middle;\n",
       "    }\n",
       "\n",
       "    .dataframe tbody tr th {\n",
       "        vertical-align: top;\n",
       "    }\n",
       "\n",
       "    .dataframe thead th {\n",
       "        text-align: right;\n",
       "    }\n",
       "</style>\n",
       "<table border=\"1\" class=\"dataframe\">\n",
       "  <thead>\n",
       "    <tr style=\"text-align: right;\">\n",
       "      <th></th>\n",
       "      <th>filename</th>\n",
       "    </tr>\n",
       "  </thead>\n",
       "  <tbody>\n",
       "    <tr>\n",
       "      <th>0</th>\n",
       "      <td>PUBLIC_PREDISPATCHIS_202210011800_20221001173409.CSV</td>\n",
       "    </tr>\n",
       "  </tbody>\n",
       "</table>\n",
       "</div>"
      ],
      "text/plain": [
       "                                               filename\n",
       "0  PUBLIC_PREDISPATCHIS_202210011800_20221001173409.CSV"
      ]
     },
     "metadata": {},
     "output_type": "display_data"
    },
    {
     "name": "stderr",
     "output_type": "stream",
     "text": [
      "C:\\Users\\Gerry.Flores\\AppData\\Roaming\\Python\\Python38\\site-packages\\dateutil\\parser\\_parser.py:1207: UnknownTimezoneWarning: tzname CSV identified but not understood.  Pass `tzinfos` argument in order to correctly return a timezone-aware datetime.  In a future version, this will raise an exception.\n",
      "  warnings.warn(\"tzname {tzname} identified but not understood.  \"\n"
     ]
    },
    {
     "data": {
      "text/html": [
       "<div>\n",
       "<style scoped>\n",
       "    .dataframe tbody tr th:only-of-type {\n",
       "        vertical-align: middle;\n",
       "    }\n",
       "\n",
       "    .dataframe tbody tr th {\n",
       "        vertical-align: top;\n",
       "    }\n",
       "\n",
       "    .dataframe thead th {\n",
       "        text-align: right;\n",
       "    }\n",
       "</style>\n",
       "<table border=\"1\" class=\"dataframe\">\n",
       "  <thead>\n",
       "    <tr style=\"text-align: right;\">\n",
       "      <th></th>\n",
       "      <th>filename</th>\n",
       "    </tr>\n",
       "  </thead>\n",
       "  <tbody>\n",
       "    <tr>\n",
       "      <th>0</th>\n",
       "      <td>PUBLIC_PREDISPATCHIS_202210011800_20221001173409.CSV</td>\n",
       "    </tr>\n",
       "  </tbody>\n",
       "</table>\n",
       "</div>"
      ],
      "text/plain": [
       "                                               filename\n",
       "0  PUBLIC_PREDISPATCHIS_202210011800_20221001173409.CSV"
      ]
     },
     "metadata": {},
     "output_type": "display_data"
    },
    {
     "name": "stdout",
     "output_type": "stream",
     "text": [
      "PUBLIC_PREDISPATCHIS_202210011800_20221001173409.CSV\n"
     ]
    },
    {
     "name": "stderr",
     "output_type": "stream",
     "text": [
      "37it [01:58,  1.58s/it]"
     ]
    },
    {
     "data": {
      "text/html": [
       "<div>\n",
       "<style scoped>\n",
       "    .dataframe tbody tr th:only-of-type {\n",
       "        vertical-align: middle;\n",
       "    }\n",
       "\n",
       "    .dataframe tbody tr th {\n",
       "        vertical-align: top;\n",
       "    }\n",
       "\n",
       "    .dataframe thead th {\n",
       "        text-align: right;\n",
       "    }\n",
       "</style>\n",
       "<table border=\"1\" class=\"dataframe\">\n",
       "  <thead>\n",
       "    <tr style=\"text-align: right;\">\n",
       "      <th></th>\n",
       "      <th>filename</th>\n",
       "    </tr>\n",
       "  </thead>\n",
       "  <tbody>\n",
       "    <tr>\n",
       "      <th>0</th>\n",
       "      <td>PUBLIC_PREDISPATCHIS_202210011830_20221001180403.CSV</td>\n",
       "    </tr>\n",
       "  </tbody>\n",
       "</table>\n",
       "</div>"
      ],
      "text/plain": [
       "                                               filename\n",
       "0  PUBLIC_PREDISPATCHIS_202210011830_20221001180403.CSV"
      ]
     },
     "metadata": {},
     "output_type": "display_data"
    },
    {
     "name": "stderr",
     "output_type": "stream",
     "text": [
      "C:\\Users\\Gerry.Flores\\AppData\\Roaming\\Python\\Python38\\site-packages\\dateutil\\parser\\_parser.py:1207: UnknownTimezoneWarning: tzname CSV identified but not understood.  Pass `tzinfos` argument in order to correctly return a timezone-aware datetime.  In a future version, this will raise an exception.\n",
      "  warnings.warn(\"tzname {tzname} identified but not understood.  \"\n"
     ]
    },
    {
     "data": {
      "text/html": [
       "<div>\n",
       "<style scoped>\n",
       "    .dataframe tbody tr th:only-of-type {\n",
       "        vertical-align: middle;\n",
       "    }\n",
       "\n",
       "    .dataframe tbody tr th {\n",
       "        vertical-align: top;\n",
       "    }\n",
       "\n",
       "    .dataframe thead th {\n",
       "        text-align: right;\n",
       "    }\n",
       "</style>\n",
       "<table border=\"1\" class=\"dataframe\">\n",
       "  <thead>\n",
       "    <tr style=\"text-align: right;\">\n",
       "      <th></th>\n",
       "      <th>filename</th>\n",
       "    </tr>\n",
       "  </thead>\n",
       "  <tbody>\n",
       "    <tr>\n",
       "      <th>0</th>\n",
       "      <td>PUBLIC_PREDISPATCHIS_202210011830_20221001180403.CSV</td>\n",
       "    </tr>\n",
       "  </tbody>\n",
       "</table>\n",
       "</div>"
      ],
      "text/plain": [
       "                                               filename\n",
       "0  PUBLIC_PREDISPATCHIS_202210011830_20221001180403.CSV"
      ]
     },
     "metadata": {},
     "output_type": "display_data"
    },
    {
     "name": "stdout",
     "output_type": "stream",
     "text": [
      "PUBLIC_PREDISPATCHIS_202210011830_20221001180403.CSV\n"
     ]
    },
    {
     "name": "stderr",
     "output_type": "stream",
     "text": [
      "38it [02:00,  1.56s/it]"
     ]
    },
    {
     "data": {
      "text/html": [
       "<div>\n",
       "<style scoped>\n",
       "    .dataframe tbody tr th:only-of-type {\n",
       "        vertical-align: middle;\n",
       "    }\n",
       "\n",
       "    .dataframe tbody tr th {\n",
       "        vertical-align: top;\n",
       "    }\n",
       "\n",
       "    .dataframe thead th {\n",
       "        text-align: right;\n",
       "    }\n",
       "</style>\n",
       "<table border=\"1\" class=\"dataframe\">\n",
       "  <thead>\n",
       "    <tr style=\"text-align: right;\">\n",
       "      <th></th>\n",
       "      <th>filename</th>\n",
       "    </tr>\n",
       "  </thead>\n",
       "  <tbody>\n",
       "    <tr>\n",
       "      <th>0</th>\n",
       "      <td>PUBLIC_PREDISPATCHIS_202210011900_20221001183523.CSV</td>\n",
       "    </tr>\n",
       "  </tbody>\n",
       "</table>\n",
       "</div>"
      ],
      "text/plain": [
       "                                               filename\n",
       "0  PUBLIC_PREDISPATCHIS_202210011900_20221001183523.CSV"
      ]
     },
     "metadata": {},
     "output_type": "display_data"
    },
    {
     "name": "stderr",
     "output_type": "stream",
     "text": [
      "C:\\Users\\Gerry.Flores\\AppData\\Roaming\\Python\\Python38\\site-packages\\dateutil\\parser\\_parser.py:1207: UnknownTimezoneWarning: tzname CSV identified but not understood.  Pass `tzinfos` argument in order to correctly return a timezone-aware datetime.  In a future version, this will raise an exception.\n",
      "  warnings.warn(\"tzname {tzname} identified but not understood.  \"\n"
     ]
    },
    {
     "data": {
      "text/html": [
       "<div>\n",
       "<style scoped>\n",
       "    .dataframe tbody tr th:only-of-type {\n",
       "        vertical-align: middle;\n",
       "    }\n",
       "\n",
       "    .dataframe tbody tr th {\n",
       "        vertical-align: top;\n",
       "    }\n",
       "\n",
       "    .dataframe thead th {\n",
       "        text-align: right;\n",
       "    }\n",
       "</style>\n",
       "<table border=\"1\" class=\"dataframe\">\n",
       "  <thead>\n",
       "    <tr style=\"text-align: right;\">\n",
       "      <th></th>\n",
       "      <th>filename</th>\n",
       "    </tr>\n",
       "  </thead>\n",
       "  <tbody>\n",
       "    <tr>\n",
       "      <th>0</th>\n",
       "      <td>PUBLIC_PREDISPATCHIS_202210011900_20221001183523.CSV</td>\n",
       "    </tr>\n",
       "  </tbody>\n",
       "</table>\n",
       "</div>"
      ],
      "text/plain": [
       "                                               filename\n",
       "0  PUBLIC_PREDISPATCHIS_202210011900_20221001183523.CSV"
      ]
     },
     "metadata": {},
     "output_type": "display_data"
    },
    {
     "name": "stdout",
     "output_type": "stream",
     "text": [
      "PUBLIC_PREDISPATCHIS_202210011900_20221001183523.CSV\n"
     ]
    },
    {
     "name": "stderr",
     "output_type": "stream",
     "text": [
      "39it [02:01,  1.55s/it]"
     ]
    },
    {
     "data": {
      "text/html": [
       "<div>\n",
       "<style scoped>\n",
       "    .dataframe tbody tr th:only-of-type {\n",
       "        vertical-align: middle;\n",
       "    }\n",
       "\n",
       "    .dataframe tbody tr th {\n",
       "        vertical-align: top;\n",
       "    }\n",
       "\n",
       "    .dataframe thead th {\n",
       "        text-align: right;\n",
       "    }\n",
       "</style>\n",
       "<table border=\"1\" class=\"dataframe\">\n",
       "  <thead>\n",
       "    <tr style=\"text-align: right;\">\n",
       "      <th></th>\n",
       "      <th>filename</th>\n",
       "    </tr>\n",
       "  </thead>\n",
       "  <tbody>\n",
       "    <tr>\n",
       "      <th>0</th>\n",
       "      <td>PUBLIC_PREDISPATCHIS_202210011930_20221001190512.CSV</td>\n",
       "    </tr>\n",
       "  </tbody>\n",
       "</table>\n",
       "</div>"
      ],
      "text/plain": [
       "                                               filename\n",
       "0  PUBLIC_PREDISPATCHIS_202210011930_20221001190512.CSV"
      ]
     },
     "metadata": {},
     "output_type": "display_data"
    },
    {
     "name": "stderr",
     "output_type": "stream",
     "text": [
      "C:\\Users\\Gerry.Flores\\AppData\\Roaming\\Python\\Python38\\site-packages\\dateutil\\parser\\_parser.py:1207: UnknownTimezoneWarning: tzname CSV identified but not understood.  Pass `tzinfos` argument in order to correctly return a timezone-aware datetime.  In a future version, this will raise an exception.\n",
      "  warnings.warn(\"tzname {tzname} identified but not understood.  \"\n"
     ]
    },
    {
     "data": {
      "text/html": [
       "<div>\n",
       "<style scoped>\n",
       "    .dataframe tbody tr th:only-of-type {\n",
       "        vertical-align: middle;\n",
       "    }\n",
       "\n",
       "    .dataframe tbody tr th {\n",
       "        vertical-align: top;\n",
       "    }\n",
       "\n",
       "    .dataframe thead th {\n",
       "        text-align: right;\n",
       "    }\n",
       "</style>\n",
       "<table border=\"1\" class=\"dataframe\">\n",
       "  <thead>\n",
       "    <tr style=\"text-align: right;\">\n",
       "      <th></th>\n",
       "      <th>filename</th>\n",
       "    </tr>\n",
       "  </thead>\n",
       "  <tbody>\n",
       "    <tr>\n",
       "      <th>0</th>\n",
       "      <td>PUBLIC_PREDISPATCHIS_202210011930_20221001190512.CSV</td>\n",
       "    </tr>\n",
       "  </tbody>\n",
       "</table>\n",
       "</div>"
      ],
      "text/plain": [
       "                                               filename\n",
       "0  PUBLIC_PREDISPATCHIS_202210011930_20221001190512.CSV"
      ]
     },
     "metadata": {},
     "output_type": "display_data"
    },
    {
     "name": "stdout",
     "output_type": "stream",
     "text": [
      "PUBLIC_PREDISPATCHIS_202210011930_20221001190512.CSV\n"
     ]
    },
    {
     "name": "stderr",
     "output_type": "stream",
     "text": [
      "40it [02:03,  1.53s/it]"
     ]
    },
    {
     "data": {
      "text/html": [
       "<div>\n",
       "<style scoped>\n",
       "    .dataframe tbody tr th:only-of-type {\n",
       "        vertical-align: middle;\n",
       "    }\n",
       "\n",
       "    .dataframe tbody tr th {\n",
       "        vertical-align: top;\n",
       "    }\n",
       "\n",
       "    .dataframe thead th {\n",
       "        text-align: right;\n",
       "    }\n",
       "</style>\n",
       "<table border=\"1\" class=\"dataframe\">\n",
       "  <thead>\n",
       "    <tr style=\"text-align: right;\">\n",
       "      <th></th>\n",
       "      <th>filename</th>\n",
       "    </tr>\n",
       "  </thead>\n",
       "  <tbody>\n",
       "    <tr>\n",
       "      <th>0</th>\n",
       "      <td>PUBLIC_PREDISPATCHIS_202210012000_20221001193535.CSV</td>\n",
       "    </tr>\n",
       "  </tbody>\n",
       "</table>\n",
       "</div>"
      ],
      "text/plain": [
       "                                               filename\n",
       "0  PUBLIC_PREDISPATCHIS_202210012000_20221001193535.CSV"
      ]
     },
     "metadata": {},
     "output_type": "display_data"
    },
    {
     "name": "stderr",
     "output_type": "stream",
     "text": [
      "C:\\Users\\Gerry.Flores\\AppData\\Roaming\\Python\\Python38\\site-packages\\dateutil\\parser\\_parser.py:1207: UnknownTimezoneWarning: tzname CSV identified but not understood.  Pass `tzinfos` argument in order to correctly return a timezone-aware datetime.  In a future version, this will raise an exception.\n",
      "  warnings.warn(\"tzname {tzname} identified but not understood.  \"\n"
     ]
    },
    {
     "data": {
      "text/html": [
       "<div>\n",
       "<style scoped>\n",
       "    .dataframe tbody tr th:only-of-type {\n",
       "        vertical-align: middle;\n",
       "    }\n",
       "\n",
       "    .dataframe tbody tr th {\n",
       "        vertical-align: top;\n",
       "    }\n",
       "\n",
       "    .dataframe thead th {\n",
       "        text-align: right;\n",
       "    }\n",
       "</style>\n",
       "<table border=\"1\" class=\"dataframe\">\n",
       "  <thead>\n",
       "    <tr style=\"text-align: right;\">\n",
       "      <th></th>\n",
       "      <th>filename</th>\n",
       "    </tr>\n",
       "  </thead>\n",
       "  <tbody>\n",
       "    <tr>\n",
       "      <th>0</th>\n",
       "      <td>PUBLIC_PREDISPATCHIS_202210012000_20221001193535.CSV</td>\n",
       "    </tr>\n",
       "  </tbody>\n",
       "</table>\n",
       "</div>"
      ],
      "text/plain": [
       "                                               filename\n",
       "0  PUBLIC_PREDISPATCHIS_202210012000_20221001193535.CSV"
      ]
     },
     "metadata": {},
     "output_type": "display_data"
    },
    {
     "name": "stdout",
     "output_type": "stream",
     "text": [
      "PUBLIC_PREDISPATCHIS_202210012000_20221001193535.CSV\n"
     ]
    },
    {
     "name": "stderr",
     "output_type": "stream",
     "text": [
      "41it [02:04,  1.51s/it]"
     ]
    },
    {
     "data": {
      "text/html": [
       "<div>\n",
       "<style scoped>\n",
       "    .dataframe tbody tr th:only-of-type {\n",
       "        vertical-align: middle;\n",
       "    }\n",
       "\n",
       "    .dataframe tbody tr th {\n",
       "        vertical-align: top;\n",
       "    }\n",
       "\n",
       "    .dataframe thead th {\n",
       "        text-align: right;\n",
       "    }\n",
       "</style>\n",
       "<table border=\"1\" class=\"dataframe\">\n",
       "  <thead>\n",
       "    <tr style=\"text-align: right;\">\n",
       "      <th></th>\n",
       "      <th>filename</th>\n",
       "    </tr>\n",
       "  </thead>\n",
       "  <tbody>\n",
       "    <tr>\n",
       "      <th>0</th>\n",
       "      <td>PUBLIC_PREDISPATCHIS_202210012030_20221001200505.CSV</td>\n",
       "    </tr>\n",
       "  </tbody>\n",
       "</table>\n",
       "</div>"
      ],
      "text/plain": [
       "                                               filename\n",
       "0  PUBLIC_PREDISPATCHIS_202210012030_20221001200505.CSV"
      ]
     },
     "metadata": {},
     "output_type": "display_data"
    },
    {
     "name": "stderr",
     "output_type": "stream",
     "text": [
      "C:\\Users\\Gerry.Flores\\AppData\\Roaming\\Python\\Python38\\site-packages\\dateutil\\parser\\_parser.py:1207: UnknownTimezoneWarning: tzname CSV identified but not understood.  Pass `tzinfos` argument in order to correctly return a timezone-aware datetime.  In a future version, this will raise an exception.\n",
      "  warnings.warn(\"tzname {tzname} identified but not understood.  \"\n"
     ]
    },
    {
     "data": {
      "text/html": [
       "<div>\n",
       "<style scoped>\n",
       "    .dataframe tbody tr th:only-of-type {\n",
       "        vertical-align: middle;\n",
       "    }\n",
       "\n",
       "    .dataframe tbody tr th {\n",
       "        vertical-align: top;\n",
       "    }\n",
       "\n",
       "    .dataframe thead th {\n",
       "        text-align: right;\n",
       "    }\n",
       "</style>\n",
       "<table border=\"1\" class=\"dataframe\">\n",
       "  <thead>\n",
       "    <tr style=\"text-align: right;\">\n",
       "      <th></th>\n",
       "      <th>filename</th>\n",
       "    </tr>\n",
       "  </thead>\n",
       "  <tbody>\n",
       "    <tr>\n",
       "      <th>0</th>\n",
       "      <td>PUBLIC_PREDISPATCHIS_202210012030_20221001200505.CSV</td>\n",
       "    </tr>\n",
       "  </tbody>\n",
       "</table>\n",
       "</div>"
      ],
      "text/plain": [
       "                                               filename\n",
       "0  PUBLIC_PREDISPATCHIS_202210012030_20221001200505.CSV"
      ]
     },
     "metadata": {},
     "output_type": "display_data"
    },
    {
     "name": "stdout",
     "output_type": "stream",
     "text": [
      "PUBLIC_PREDISPATCHIS_202210012030_20221001200505.CSV\n"
     ]
    },
    {
     "name": "stderr",
     "output_type": "stream",
     "text": [
      "42it [02:06,  1.48s/it]"
     ]
    },
    {
     "data": {
      "text/html": [
       "<div>\n",
       "<style scoped>\n",
       "    .dataframe tbody tr th:only-of-type {\n",
       "        vertical-align: middle;\n",
       "    }\n",
       "\n",
       "    .dataframe tbody tr th {\n",
       "        vertical-align: top;\n",
       "    }\n",
       "\n",
       "    .dataframe thead th {\n",
       "        text-align: right;\n",
       "    }\n",
       "</style>\n",
       "<table border=\"1\" class=\"dataframe\">\n",
       "  <thead>\n",
       "    <tr style=\"text-align: right;\">\n",
       "      <th></th>\n",
       "      <th>filename</th>\n",
       "    </tr>\n",
       "  </thead>\n",
       "  <tbody>\n",
       "    <tr>\n",
       "      <th>0</th>\n",
       "      <td>PUBLIC_PREDISPATCHIS_202210012100_20221001203554.CSV</td>\n",
       "    </tr>\n",
       "  </tbody>\n",
       "</table>\n",
       "</div>"
      ],
      "text/plain": [
       "                                               filename\n",
       "0  PUBLIC_PREDISPATCHIS_202210012100_20221001203554.CSV"
      ]
     },
     "metadata": {},
     "output_type": "display_data"
    },
    {
     "name": "stderr",
     "output_type": "stream",
     "text": [
      "C:\\Users\\Gerry.Flores\\AppData\\Roaming\\Python\\Python38\\site-packages\\dateutil\\parser\\_parser.py:1207: UnknownTimezoneWarning: tzname CSV identified but not understood.  Pass `tzinfos` argument in order to correctly return a timezone-aware datetime.  In a future version, this will raise an exception.\n",
      "  warnings.warn(\"tzname {tzname} identified but not understood.  \"\n"
     ]
    },
    {
     "data": {
      "text/html": [
       "<div>\n",
       "<style scoped>\n",
       "    .dataframe tbody tr th:only-of-type {\n",
       "        vertical-align: middle;\n",
       "    }\n",
       "\n",
       "    .dataframe tbody tr th {\n",
       "        vertical-align: top;\n",
       "    }\n",
       "\n",
       "    .dataframe thead th {\n",
       "        text-align: right;\n",
       "    }\n",
       "</style>\n",
       "<table border=\"1\" class=\"dataframe\">\n",
       "  <thead>\n",
       "    <tr style=\"text-align: right;\">\n",
       "      <th></th>\n",
       "      <th>filename</th>\n",
       "    </tr>\n",
       "  </thead>\n",
       "  <tbody>\n",
       "    <tr>\n",
       "      <th>0</th>\n",
       "      <td>PUBLIC_PREDISPATCHIS_202210012100_20221001203554.CSV</td>\n",
       "    </tr>\n",
       "  </tbody>\n",
       "</table>\n",
       "</div>"
      ],
      "text/plain": [
       "                                               filename\n",
       "0  PUBLIC_PREDISPATCHIS_202210012100_20221001203554.CSV"
      ]
     },
     "metadata": {},
     "output_type": "display_data"
    },
    {
     "name": "stdout",
     "output_type": "stream",
     "text": [
      "PUBLIC_PREDISPATCHIS_202210012100_20221001203554.CSV\n"
     ]
    },
    {
     "name": "stderr",
     "output_type": "stream",
     "text": [
      "43it [02:07,  1.46s/it]"
     ]
    },
    {
     "data": {
      "text/html": [
       "<div>\n",
       "<style scoped>\n",
       "    .dataframe tbody tr th:only-of-type {\n",
       "        vertical-align: middle;\n",
       "    }\n",
       "\n",
       "    .dataframe tbody tr th {\n",
       "        vertical-align: top;\n",
       "    }\n",
       "\n",
       "    .dataframe thead th {\n",
       "        text-align: right;\n",
       "    }\n",
       "</style>\n",
       "<table border=\"1\" class=\"dataframe\">\n",
       "  <thead>\n",
       "    <tr style=\"text-align: right;\">\n",
       "      <th></th>\n",
       "      <th>filename</th>\n",
       "    </tr>\n",
       "  </thead>\n",
       "  <tbody>\n",
       "    <tr>\n",
       "      <th>0</th>\n",
       "      <td>PUBLIC_PREDISPATCHIS_202210012130_20221001210428.CSV</td>\n",
       "    </tr>\n",
       "  </tbody>\n",
       "</table>\n",
       "</div>"
      ],
      "text/plain": [
       "                                               filename\n",
       "0  PUBLIC_PREDISPATCHIS_202210012130_20221001210428.CSV"
      ]
     },
     "metadata": {},
     "output_type": "display_data"
    },
    {
     "name": "stderr",
     "output_type": "stream",
     "text": [
      "C:\\Users\\Gerry.Flores\\AppData\\Roaming\\Python\\Python38\\site-packages\\dateutil\\parser\\_parser.py:1207: UnknownTimezoneWarning: tzname CSV identified but not understood.  Pass `tzinfos` argument in order to correctly return a timezone-aware datetime.  In a future version, this will raise an exception.\n",
      "  warnings.warn(\"tzname {tzname} identified but not understood.  \"\n"
     ]
    },
    {
     "data": {
      "text/html": [
       "<div>\n",
       "<style scoped>\n",
       "    .dataframe tbody tr th:only-of-type {\n",
       "        vertical-align: middle;\n",
       "    }\n",
       "\n",
       "    .dataframe tbody tr th {\n",
       "        vertical-align: top;\n",
       "    }\n",
       "\n",
       "    .dataframe thead th {\n",
       "        text-align: right;\n",
       "    }\n",
       "</style>\n",
       "<table border=\"1\" class=\"dataframe\">\n",
       "  <thead>\n",
       "    <tr style=\"text-align: right;\">\n",
       "      <th></th>\n",
       "      <th>filename</th>\n",
       "    </tr>\n",
       "  </thead>\n",
       "  <tbody>\n",
       "    <tr>\n",
       "      <th>0</th>\n",
       "      <td>PUBLIC_PREDISPATCHIS_202210012130_20221001210428.CSV</td>\n",
       "    </tr>\n",
       "  </tbody>\n",
       "</table>\n",
       "</div>"
      ],
      "text/plain": [
       "                                               filename\n",
       "0  PUBLIC_PREDISPATCHIS_202210012130_20221001210428.CSV"
      ]
     },
     "metadata": {},
     "output_type": "display_data"
    },
    {
     "name": "stdout",
     "output_type": "stream",
     "text": [
      "PUBLIC_PREDISPATCHIS_202210012130_20221001210428.CSV\n"
     ]
    },
    {
     "name": "stderr",
     "output_type": "stream",
     "text": [
      "44it [02:08,  1.41s/it]"
     ]
    },
    {
     "data": {
      "text/html": [
       "<div>\n",
       "<style scoped>\n",
       "    .dataframe tbody tr th:only-of-type {\n",
       "        vertical-align: middle;\n",
       "    }\n",
       "\n",
       "    .dataframe tbody tr th {\n",
       "        vertical-align: top;\n",
       "    }\n",
       "\n",
       "    .dataframe thead th {\n",
       "        text-align: right;\n",
       "    }\n",
       "</style>\n",
       "<table border=\"1\" class=\"dataframe\">\n",
       "  <thead>\n",
       "    <tr style=\"text-align: right;\">\n",
       "      <th></th>\n",
       "      <th>filename</th>\n",
       "    </tr>\n",
       "  </thead>\n",
       "  <tbody>\n",
       "    <tr>\n",
       "      <th>0</th>\n",
       "      <td>PUBLIC_PREDISPATCHIS_202210012200_20221001213421.CSV</td>\n",
       "    </tr>\n",
       "  </tbody>\n",
       "</table>\n",
       "</div>"
      ],
      "text/plain": [
       "                                               filename\n",
       "0  PUBLIC_PREDISPATCHIS_202210012200_20221001213421.CSV"
      ]
     },
     "metadata": {},
     "output_type": "display_data"
    },
    {
     "name": "stderr",
     "output_type": "stream",
     "text": [
      "C:\\Users\\Gerry.Flores\\AppData\\Roaming\\Python\\Python38\\site-packages\\dateutil\\parser\\_parser.py:1207: UnknownTimezoneWarning: tzname CSV identified but not understood.  Pass `tzinfos` argument in order to correctly return a timezone-aware datetime.  In a future version, this will raise an exception.\n",
      "  warnings.warn(\"tzname {tzname} identified but not understood.  \"\n"
     ]
    },
    {
     "data": {
      "text/html": [
       "<div>\n",
       "<style scoped>\n",
       "    .dataframe tbody tr th:only-of-type {\n",
       "        vertical-align: middle;\n",
       "    }\n",
       "\n",
       "    .dataframe tbody tr th {\n",
       "        vertical-align: top;\n",
       "    }\n",
       "\n",
       "    .dataframe thead th {\n",
       "        text-align: right;\n",
       "    }\n",
       "</style>\n",
       "<table border=\"1\" class=\"dataframe\">\n",
       "  <thead>\n",
       "    <tr style=\"text-align: right;\">\n",
       "      <th></th>\n",
       "      <th>filename</th>\n",
       "    </tr>\n",
       "  </thead>\n",
       "  <tbody>\n",
       "    <tr>\n",
       "      <th>0</th>\n",
       "      <td>PUBLIC_PREDISPATCHIS_202210012200_20221001213421.CSV</td>\n",
       "    </tr>\n",
       "  </tbody>\n",
       "</table>\n",
       "</div>"
      ],
      "text/plain": [
       "                                               filename\n",
       "0  PUBLIC_PREDISPATCHIS_202210012200_20221001213421.CSV"
      ]
     },
     "metadata": {},
     "output_type": "display_data"
    },
    {
     "name": "stdout",
     "output_type": "stream",
     "text": [
      "PUBLIC_PREDISPATCHIS_202210012200_20221001213421.CSV\n"
     ]
    },
    {
     "name": "stderr",
     "output_type": "stream",
     "text": [
      "45it [02:10,  1.39s/it]"
     ]
    },
    {
     "data": {
      "text/html": [
       "<div>\n",
       "<style scoped>\n",
       "    .dataframe tbody tr th:only-of-type {\n",
       "        vertical-align: middle;\n",
       "    }\n",
       "\n",
       "    .dataframe tbody tr th {\n",
       "        vertical-align: top;\n",
       "    }\n",
       "\n",
       "    .dataframe thead th {\n",
       "        text-align: right;\n",
       "    }\n",
       "</style>\n",
       "<table border=\"1\" class=\"dataframe\">\n",
       "  <thead>\n",
       "    <tr style=\"text-align: right;\">\n",
       "      <th></th>\n",
       "      <th>filename</th>\n",
       "    </tr>\n",
       "  </thead>\n",
       "  <tbody>\n",
       "    <tr>\n",
       "      <th>0</th>\n",
       "      <td>PUBLIC_PREDISPATCHIS_202210012230_20221001220439.CSV</td>\n",
       "    </tr>\n",
       "  </tbody>\n",
       "</table>\n",
       "</div>"
      ],
      "text/plain": [
       "                                               filename\n",
       "0  PUBLIC_PREDISPATCHIS_202210012230_20221001220439.CSV"
      ]
     },
     "metadata": {},
     "output_type": "display_data"
    },
    {
     "name": "stderr",
     "output_type": "stream",
     "text": [
      "C:\\Users\\Gerry.Flores\\AppData\\Roaming\\Python\\Python38\\site-packages\\dateutil\\parser\\_parser.py:1207: UnknownTimezoneWarning: tzname CSV identified but not understood.  Pass `tzinfos` argument in order to correctly return a timezone-aware datetime.  In a future version, this will raise an exception.\n",
      "  warnings.warn(\"tzname {tzname} identified but not understood.  \"\n"
     ]
    },
    {
     "data": {
      "text/html": [
       "<div>\n",
       "<style scoped>\n",
       "    .dataframe tbody tr th:only-of-type {\n",
       "        vertical-align: middle;\n",
       "    }\n",
       "\n",
       "    .dataframe tbody tr th {\n",
       "        vertical-align: top;\n",
       "    }\n",
       "\n",
       "    .dataframe thead th {\n",
       "        text-align: right;\n",
       "    }\n",
       "</style>\n",
       "<table border=\"1\" class=\"dataframe\">\n",
       "  <thead>\n",
       "    <tr style=\"text-align: right;\">\n",
       "      <th></th>\n",
       "      <th>filename</th>\n",
       "    </tr>\n",
       "  </thead>\n",
       "  <tbody>\n",
       "    <tr>\n",
       "      <th>0</th>\n",
       "      <td>PUBLIC_PREDISPATCHIS_202210012230_20221001220439.CSV</td>\n",
       "    </tr>\n",
       "  </tbody>\n",
       "</table>\n",
       "</div>"
      ],
      "text/plain": [
       "                                               filename\n",
       "0  PUBLIC_PREDISPATCHIS_202210012230_20221001220439.CSV"
      ]
     },
     "metadata": {},
     "output_type": "display_data"
    },
    {
     "name": "stdout",
     "output_type": "stream",
     "text": [
      "PUBLIC_PREDISPATCHIS_202210012230_20221001220439.CSV\n"
     ]
    },
    {
     "name": "stderr",
     "output_type": "stream",
     "text": [
      "46it [02:11,  1.37s/it]"
     ]
    },
    {
     "data": {
      "text/html": [
       "<div>\n",
       "<style scoped>\n",
       "    .dataframe tbody tr th:only-of-type {\n",
       "        vertical-align: middle;\n",
       "    }\n",
       "\n",
       "    .dataframe tbody tr th {\n",
       "        vertical-align: top;\n",
       "    }\n",
       "\n",
       "    .dataframe thead th {\n",
       "        text-align: right;\n",
       "    }\n",
       "</style>\n",
       "<table border=\"1\" class=\"dataframe\">\n",
       "  <thead>\n",
       "    <tr style=\"text-align: right;\">\n",
       "      <th></th>\n",
       "      <th>filename</th>\n",
       "    </tr>\n",
       "  </thead>\n",
       "  <tbody>\n",
       "    <tr>\n",
       "      <th>0</th>\n",
       "      <td>PUBLIC_PREDISPATCHIS_202210012300_20221001223334.CSV</td>\n",
       "    </tr>\n",
       "  </tbody>\n",
       "</table>\n",
       "</div>"
      ],
      "text/plain": [
       "                                               filename\n",
       "0  PUBLIC_PREDISPATCHIS_202210012300_20221001223334.CSV"
      ]
     },
     "metadata": {},
     "output_type": "display_data"
    },
    {
     "name": "stderr",
     "output_type": "stream",
     "text": [
      "C:\\Users\\Gerry.Flores\\AppData\\Roaming\\Python\\Python38\\site-packages\\dateutil\\parser\\_parser.py:1207: UnknownTimezoneWarning: tzname CSV identified but not understood.  Pass `tzinfos` argument in order to correctly return a timezone-aware datetime.  In a future version, this will raise an exception.\n",
      "  warnings.warn(\"tzname {tzname} identified but not understood.  \"\n"
     ]
    },
    {
     "data": {
      "text/html": [
       "<div>\n",
       "<style scoped>\n",
       "    .dataframe tbody tr th:only-of-type {\n",
       "        vertical-align: middle;\n",
       "    }\n",
       "\n",
       "    .dataframe tbody tr th {\n",
       "        vertical-align: top;\n",
       "    }\n",
       "\n",
       "    .dataframe thead th {\n",
       "        text-align: right;\n",
       "    }\n",
       "</style>\n",
       "<table border=\"1\" class=\"dataframe\">\n",
       "  <thead>\n",
       "    <tr style=\"text-align: right;\">\n",
       "      <th></th>\n",
       "      <th>filename</th>\n",
       "    </tr>\n",
       "  </thead>\n",
       "  <tbody>\n",
       "    <tr>\n",
       "      <th>0</th>\n",
       "      <td>PUBLIC_PREDISPATCHIS_202210012300_20221001223334.CSV</td>\n",
       "    </tr>\n",
       "  </tbody>\n",
       "</table>\n",
       "</div>"
      ],
      "text/plain": [
       "                                               filename\n",
       "0  PUBLIC_PREDISPATCHIS_202210012300_20221001223334.CSV"
      ]
     },
     "metadata": {},
     "output_type": "display_data"
    },
    {
     "name": "stdout",
     "output_type": "stream",
     "text": [
      "PUBLIC_PREDISPATCHIS_202210012300_20221001223334.CSV\n"
     ]
    },
    {
     "name": "stderr",
     "output_type": "stream",
     "text": [
      "47it [02:12,  1.33s/it]"
     ]
    },
    {
     "data": {
      "text/html": [
       "<div>\n",
       "<style scoped>\n",
       "    .dataframe tbody tr th:only-of-type {\n",
       "        vertical-align: middle;\n",
       "    }\n",
       "\n",
       "    .dataframe tbody tr th {\n",
       "        vertical-align: top;\n",
       "    }\n",
       "\n",
       "    .dataframe thead th {\n",
       "        text-align: right;\n",
       "    }\n",
       "</style>\n",
       "<table border=\"1\" class=\"dataframe\">\n",
       "  <thead>\n",
       "    <tr style=\"text-align: right;\">\n",
       "      <th></th>\n",
       "      <th>filename</th>\n",
       "    </tr>\n",
       "  </thead>\n",
       "  <tbody>\n",
       "    <tr>\n",
       "      <th>0</th>\n",
       "      <td>PUBLIC_PREDISPATCHIS_202210012330_20221001230346.CSV</td>\n",
       "    </tr>\n",
       "  </tbody>\n",
       "</table>\n",
       "</div>"
      ],
      "text/plain": [
       "                                               filename\n",
       "0  PUBLIC_PREDISPATCHIS_202210012330_20221001230346.CSV"
      ]
     },
     "metadata": {},
     "output_type": "display_data"
    },
    {
     "name": "stderr",
     "output_type": "stream",
     "text": [
      "C:\\Users\\Gerry.Flores\\AppData\\Roaming\\Python\\Python38\\site-packages\\dateutil\\parser\\_parser.py:1207: UnknownTimezoneWarning: tzname CSV identified but not understood.  Pass `tzinfos` argument in order to correctly return a timezone-aware datetime.  In a future version, this will raise an exception.\n",
      "  warnings.warn(\"tzname {tzname} identified but not understood.  \"\n"
     ]
    },
    {
     "data": {
      "text/html": [
       "<div>\n",
       "<style scoped>\n",
       "    .dataframe tbody tr th:only-of-type {\n",
       "        vertical-align: middle;\n",
       "    }\n",
       "\n",
       "    .dataframe tbody tr th {\n",
       "        vertical-align: top;\n",
       "    }\n",
       "\n",
       "    .dataframe thead th {\n",
       "        text-align: right;\n",
       "    }\n",
       "</style>\n",
       "<table border=\"1\" class=\"dataframe\">\n",
       "  <thead>\n",
       "    <tr style=\"text-align: right;\">\n",
       "      <th></th>\n",
       "      <th>filename</th>\n",
       "    </tr>\n",
       "  </thead>\n",
       "  <tbody>\n",
       "    <tr>\n",
       "      <th>0</th>\n",
       "      <td>PUBLIC_PREDISPATCHIS_202210012330_20221001230346.CSV</td>\n",
       "    </tr>\n",
       "  </tbody>\n",
       "</table>\n",
       "</div>"
      ],
      "text/plain": [
       "                                               filename\n",
       "0  PUBLIC_PREDISPATCHIS_202210012330_20221001230346.CSV"
      ]
     },
     "metadata": {},
     "output_type": "display_data"
    },
    {
     "name": "stdout",
     "output_type": "stream",
     "text": [
      "PUBLIC_PREDISPATCHIS_202210012330_20221001230346.CSV\n"
     ]
    },
    {
     "name": "stderr",
     "output_type": "stream",
     "text": [
      "48it [02:13,  1.30s/it]"
     ]
    },
    {
     "data": {
      "text/html": [
       "<div>\n",
       "<style scoped>\n",
       "    .dataframe tbody tr th:only-of-type {\n",
       "        vertical-align: middle;\n",
       "    }\n",
       "\n",
       "    .dataframe tbody tr th {\n",
       "        vertical-align: top;\n",
       "    }\n",
       "\n",
       "    .dataframe thead th {\n",
       "        text-align: right;\n",
       "    }\n",
       "</style>\n",
       "<table border=\"1\" class=\"dataframe\">\n",
       "  <thead>\n",
       "    <tr style=\"text-align: right;\">\n",
       "      <th></th>\n",
       "      <th>filename</th>\n",
       "    </tr>\n",
       "  </thead>\n",
       "  <tbody>\n",
       "    <tr>\n",
       "      <th>0</th>\n",
       "      <td>PUBLIC_PREDISPATCHIS_202210020000_20221001233339.CSV</td>\n",
       "    </tr>\n",
       "  </tbody>\n",
       "</table>\n",
       "</div>"
      ],
      "text/plain": [
       "                                               filename\n",
       "0  PUBLIC_PREDISPATCHIS_202210020000_20221001233339.CSV"
      ]
     },
     "metadata": {},
     "output_type": "display_data"
    },
    {
     "name": "stderr",
     "output_type": "stream",
     "text": [
      "C:\\Users\\Gerry.Flores\\AppData\\Roaming\\Python\\Python38\\site-packages\\dateutil\\parser\\_parser.py:1207: UnknownTimezoneWarning: tzname CSV identified but not understood.  Pass `tzinfos` argument in order to correctly return a timezone-aware datetime.  In a future version, this will raise an exception.\n",
      "  warnings.warn(\"tzname {tzname} identified but not understood.  \"\n"
     ]
    },
    {
     "data": {
      "text/html": [
       "<div>\n",
       "<style scoped>\n",
       "    .dataframe tbody tr th:only-of-type {\n",
       "        vertical-align: middle;\n",
       "    }\n",
       "\n",
       "    .dataframe tbody tr th {\n",
       "        vertical-align: top;\n",
       "    }\n",
       "\n",
       "    .dataframe thead th {\n",
       "        text-align: right;\n",
       "    }\n",
       "</style>\n",
       "<table border=\"1\" class=\"dataframe\">\n",
       "  <thead>\n",
       "    <tr style=\"text-align: right;\">\n",
       "      <th></th>\n",
       "      <th>filename</th>\n",
       "    </tr>\n",
       "  </thead>\n",
       "  <tbody>\n",
       "    <tr>\n",
       "      <th>0</th>\n",
       "      <td>PUBLIC_PREDISPATCHIS_202210020000_20221001233339.CSV</td>\n",
       "    </tr>\n",
       "  </tbody>\n",
       "</table>\n",
       "</div>"
      ],
      "text/plain": [
       "                                               filename\n",
       "0  PUBLIC_PREDISPATCHIS_202210020000_20221001233339.CSV"
      ]
     },
     "metadata": {},
     "output_type": "display_data"
    },
    {
     "name": "stdout",
     "output_type": "stream",
     "text": [
      "PUBLIC_PREDISPATCHIS_202210020000_20221001233339.CSV\n"
     ]
    },
    {
     "name": "stderr",
     "output_type": "stream",
     "text": [
      "49it [02:15,  2.76s/it]\n"
     ]
    }
   ],
   "source": [
    "date = pd.to_datetime('1 Oct 2022')\n",
    "# trading_prices = predispatch_daily.get_trading_prices_for_date(date)\n",
    "pd_data =  predispatch_daily.get_pd_data_for_date(date)\n",
    "    \n",
    "# trading_prices =  predispatch_daily.transform_settled_prices(trading_prices)\n",
    "pd_data =  predispatch_daily.transform_pd_data(pd_data)"
   ]
  },
  {
   "cell_type": "code",
   "execution_count": 4,
   "id": "01207803-2ceb-4870-98c6-40d8be1fdc37",
   "metadata": {
    "execution": {
     "iopub.execute_input": "2022-10-11T05:20:08.187884Z",
     "iopub.status.busy": "2022-10-11T05:20:08.187884Z",
     "iopub.status.idle": "2022-10-11T05:20:08.209332Z",
     "shell.execute_reply": "2022-10-11T05:20:08.208334Z",
     "shell.execute_reply.started": "2022-10-11T05:20:08.187884Z"
    },
    "tags": []
   },
   "outputs": [
    {
     "data": {
      "text/html": [
       "<div>\n",
       "<style scoped>\n",
       "    .dataframe tbody tr th:only-of-type {\n",
       "        vertical-align: middle;\n",
       "    }\n",
       "\n",
       "    .dataframe tbody tr th {\n",
       "        vertical-align: top;\n",
       "    }\n",
       "\n",
       "    .dataframe thead th {\n",
       "        text-align: right;\n",
       "    }\n",
       "</style>\n",
       "<table border=\"1\" class=\"dataframe\">\n",
       "  <thead>\n",
       "    <tr style=\"text-align: right;\">\n",
       "      <th></th>\n",
       "      <th>LASTCHANGED</th>\n",
       "      <th>DATETIME</th>\n",
       "      <th>market</th>\n",
       "      <th>price</th>\n",
       "      <th>state</th>\n",
       "      <th>type</th>\n",
       "      <th>source_datetime</th>\n",
       "      <th>kind</th>\n",
       "    </tr>\n",
       "  </thead>\n",
       "  <tbody>\n",
       "    <tr>\n",
       "      <th>15984</th>\n",
       "      <td>2022-10-01 00:02:05</td>\n",
       "      <td>2022-10-01 00:30:00</td>\n",
       "      <td>LOWER5MIN</td>\n",
       "      <td>0.31200</td>\n",
       "      <td>AVG</td>\n",
       "      <td>FCAS</td>\n",
       "      <td>20221001 00:00</td>\n",
       "      <td>predispatch</td>\n",
       "    </tr>\n",
       "    <tr>\n",
       "      <th>15985</th>\n",
       "      <td>2022-10-01 00:02:05</td>\n",
       "      <td>2022-10-01 01:00:00</td>\n",
       "      <td>LOWER5MIN</td>\n",
       "      <td>0.31200</td>\n",
       "      <td>AVG</td>\n",
       "      <td>FCAS</td>\n",
       "      <td>20221001 00:00</td>\n",
       "      <td>predispatch</td>\n",
       "    </tr>\n",
       "    <tr>\n",
       "      <th>15986</th>\n",
       "      <td>2022-10-01 00:02:05</td>\n",
       "      <td>2022-10-01 01:30:00</td>\n",
       "      <td>LOWER5MIN</td>\n",
       "      <td>0.31200</td>\n",
       "      <td>AVG</td>\n",
       "      <td>FCAS</td>\n",
       "      <td>20221001 00:00</td>\n",
       "      <td>predispatch</td>\n",
       "    </tr>\n",
       "    <tr>\n",
       "      <th>15987</th>\n",
       "      <td>2022-10-01 00:02:05</td>\n",
       "      <td>2022-10-01 02:00:00</td>\n",
       "      <td>LOWER5MIN</td>\n",
       "      <td>0.31200</td>\n",
       "      <td>AVG</td>\n",
       "      <td>FCAS</td>\n",
       "      <td>20221001 00:00</td>\n",
       "      <td>predispatch</td>\n",
       "    </tr>\n",
       "    <tr>\n",
       "      <th>15988</th>\n",
       "      <td>2022-10-01 00:02:05</td>\n",
       "      <td>2022-10-01 02:30:00</td>\n",
       "      <td>LOWER5MIN</td>\n",
       "      <td>0.31200</td>\n",
       "      <td>AVG</td>\n",
       "      <td>FCAS</td>\n",
       "      <td>20221001 00:00</td>\n",
       "      <td>predispatch</td>\n",
       "    </tr>\n",
       "    <tr>\n",
       "      <th>...</th>\n",
       "      <td>...</td>\n",
       "      <td>...</td>\n",
       "      <td>...</td>\n",
       "      <td>...</td>\n",
       "      <td>...</td>\n",
       "      <td>...</td>\n",
       "      <td>...</td>\n",
       "      <td>...</td>\n",
       "    </tr>\n",
       "    <tr>\n",
       "      <th>159835</th>\n",
       "      <td>2022-10-01 23:32:37</td>\n",
       "      <td>2022-10-03 02:00:00</td>\n",
       "      <td>Energy</td>\n",
       "      <td>163.69561</td>\n",
       "      <td>VIC</td>\n",
       "      <td>Energy</td>\n",
       "      <td>20221001 23:30</td>\n",
       "      <td>predispatch</td>\n",
       "    </tr>\n",
       "    <tr>\n",
       "      <th>159836</th>\n",
       "      <td>2022-10-01 23:32:37</td>\n",
       "      <td>2022-10-03 02:30:00</td>\n",
       "      <td>Energy</td>\n",
       "      <td>158.60736</td>\n",
       "      <td>VIC</td>\n",
       "      <td>Energy</td>\n",
       "      <td>20221001 23:30</td>\n",
       "      <td>predispatch</td>\n",
       "    </tr>\n",
       "    <tr>\n",
       "      <th>159837</th>\n",
       "      <td>2022-10-01 23:32:37</td>\n",
       "      <td>2022-10-03 03:00:00</td>\n",
       "      <td>Energy</td>\n",
       "      <td>157.20529</td>\n",
       "      <td>VIC</td>\n",
       "      <td>Energy</td>\n",
       "      <td>20221001 23:30</td>\n",
       "      <td>predispatch</td>\n",
       "    </tr>\n",
       "    <tr>\n",
       "      <th>159838</th>\n",
       "      <td>2022-10-01 23:32:37</td>\n",
       "      <td>2022-10-03 03:30:00</td>\n",
       "      <td>Energy</td>\n",
       "      <td>155.54611</td>\n",
       "      <td>VIC</td>\n",
       "      <td>Energy</td>\n",
       "      <td>20221001 23:30</td>\n",
       "      <td>predispatch</td>\n",
       "    </tr>\n",
       "    <tr>\n",
       "      <th>159839</th>\n",
       "      <td>2022-10-01 23:32:37</td>\n",
       "      <td>2022-10-03 04:00:00</td>\n",
       "      <td>Energy</td>\n",
       "      <td>155.42564</td>\n",
       "      <td>VIC</td>\n",
       "      <td>Energy</td>\n",
       "      <td>20221001 23:30</td>\n",
       "      <td>predispatch</td>\n",
       "    </tr>\n",
       "  </tbody>\n",
       "</table>\n",
       "<p>143856 rows × 8 columns</p>\n",
       "</div>"
      ],
      "text/plain": [
       "               LASTCHANGED            DATETIME     market      price state  \\\n",
       "15984  2022-10-01 00:02:05 2022-10-01 00:30:00  LOWER5MIN    0.31200   AVG   \n",
       "15985  2022-10-01 00:02:05 2022-10-01 01:00:00  LOWER5MIN    0.31200   AVG   \n",
       "15986  2022-10-01 00:02:05 2022-10-01 01:30:00  LOWER5MIN    0.31200   AVG   \n",
       "15987  2022-10-01 00:02:05 2022-10-01 02:00:00  LOWER5MIN    0.31200   AVG   \n",
       "15988  2022-10-01 00:02:05 2022-10-01 02:30:00  LOWER5MIN    0.31200   AVG   \n",
       "...                    ...                 ...        ...        ...   ...   \n",
       "159835 2022-10-01 23:32:37 2022-10-03 02:00:00     Energy  163.69561   VIC   \n",
       "159836 2022-10-01 23:32:37 2022-10-03 02:30:00     Energy  158.60736   VIC   \n",
       "159837 2022-10-01 23:32:37 2022-10-03 03:00:00     Energy  157.20529   VIC   \n",
       "159838 2022-10-01 23:32:37 2022-10-03 03:30:00     Energy  155.54611   VIC   \n",
       "159839 2022-10-01 23:32:37 2022-10-03 04:00:00     Energy  155.42564   VIC   \n",
       "\n",
       "          type source_datetime         kind  \n",
       "15984     FCAS  20221001 00:00  predispatch  \n",
       "15985     FCAS  20221001 00:00  predispatch  \n",
       "15986     FCAS  20221001 00:00  predispatch  \n",
       "15987     FCAS  20221001 00:00  predispatch  \n",
       "15988     FCAS  20221001 00:00  predispatch  \n",
       "...        ...             ...          ...  \n",
       "159835  Energy  20221001 23:30  predispatch  \n",
       "159836  Energy  20221001 23:30  predispatch  \n",
       "159837  Energy  20221001 23:30  predispatch  \n",
       "159838  Energy  20221001 23:30  predispatch  \n",
       "159839  Energy  20221001 23:30  predispatch  \n",
       "\n",
       "[143856 rows x 8 columns]"
      ]
     },
     "execution_count": 4,
     "metadata": {},
     "output_type": "execute_result"
    }
   ],
   "source": [
    "pd_data"
   ]
  },
  {
   "cell_type": "code",
   "execution_count": 10,
   "id": "eb67604f",
   "metadata": {
    "ExecuteTime": {
     "end_time": "2022-10-21T06:51:43.383023Z",
     "start_time": "2022-10-21T06:51:43.360732Z"
    }
   },
   "outputs": [
    {
     "data": {
      "text/html": [
       "<div>\n",
       "<style scoped>\n",
       "    .dataframe tbody tr th:only-of-type {\n",
       "        vertical-align: middle;\n",
       "    }\n",
       "\n",
       "    .dataframe tbody tr th {\n",
       "        vertical-align: top;\n",
       "    }\n",
       "\n",
       "    .dataframe thead th {\n",
       "        text-align: right;\n",
       "    }\n",
       "</style>\n",
       "<table border=\"1\" class=\"dataframe\">\n",
       "  <thead>\n",
       "    <tr style=\"text-align: right;\">\n",
       "      <th></th>\n",
       "      <th>dates</th>\n",
       "      <th>month</th>\n",
       "      <th>year</th>\n",
       "      <th>links</th>\n",
       "    </tr>\n",
       "  </thead>\n",
       "  <tbody>\n",
       "    <tr>\n",
       "      <th>0</th>\n",
       "      <td>2014-01-01</td>\n",
       "      <td>01</td>\n",
       "      <td>2014</td>\n",
       "      <td>https://nemweb.com.au/data_archive/Wholesale_Electricity/MMSDM/2014/MMSDM_2014_01/MMSDM_Historical_Data_SQLLoader/DATA/PUBLIC_DVD_DISPATCHPRICE_201401010000.zip</td>\n",
       "    </tr>\n",
       "    <tr>\n",
       "      <th>31</th>\n",
       "      <td>2014-02-01</td>\n",
       "      <td>02</td>\n",
       "      <td>2014</td>\n",
       "      <td>https://nemweb.com.au/data_archive/Wholesale_Electricity/MMSDM/2014/MMSDM_2014_02/MMSDM_Historical_Data_SQLLoader/DATA/PUBLIC_DVD_DISPATCHPRICE_201402010000.zip</td>\n",
       "    </tr>\n",
       "  </tbody>\n",
       "</table>\n",
       "</div>"
      ],
      "text/plain": [
       "        dates month  year  \\\n",
       "0  2014-01-01    01  2014   \n",
       "31 2014-02-01    02  2014   \n",
       "\n",
       "                                                                                                                                                               links  \n",
       "0   https://nemweb.com.au/data_archive/Wholesale_Electricity/MMSDM/2014/MMSDM_2014_01/MMSDM_Historical_Data_SQLLoader/DATA/PUBLIC_DVD_DISPATCHPRICE_201401010000.zip  \n",
       "31  https://nemweb.com.au/data_archive/Wholesale_Electricity/MMSDM/2014/MMSDM_2014_02/MMSDM_Historical_Data_SQLLoader/DATA/PUBLIC_DVD_DISPATCHPRICE_201402010000.zip  "
      ]
     },
     "execution_count": 10,
     "metadata": {},
     "output_type": "execute_result"
    }
   ],
   "source": [
    "start = '1 jan 2014'\n",
    "end = '3 feb 2014'\n",
    "def get_dispatch_price_archive_files(start, end):\n",
    "    start = pd.to_datetime(start)\n",
    "    end = pd.to_datetime(end)\n",
    "    dates = (pd.DataFrame({'dates':pd.date_range(start,end,freq='1d')}))\n",
    "    dates = (dates\n",
    "             .assign(month = dates.dates.dt.month.astype(str).str.zfill(2))\n",
    "             .assign(year = dates.dates.dt.year.astype(str))\n",
    "             .drop_duplicates(subset=['month','year'])\n",
    "            )\n",
    "    prefix = r'https://nemweb.com.au/data_archive/Wholesale_Electricity/MMSDM/'\n",
    "    dates['links'] = dates.apply(lambda df: prefix +f'{df.year}/MMSDM_{df.year}_{df.month}/MMSDM_Historical_Data_SQLLoader/DATA/PUBLIC_DVD_DISPATCHPRICE_{df.year}{df.month}010000.zip',axis=1)\n",
    "    \n",
    "    return dates\n",
    "get_dispatch_price_archive_files(start, end)"
   ]
  },
  {
   "cell_type": "code",
   "execution_count": 11,
   "id": "6e4e8384",
   "metadata": {
    "ExecuteTime": {
     "end_time": "2022-10-21T06:58:27.532359Z",
     "start_time": "2022-10-21T06:58:27.514747Z"
    }
   },
   "outputs": [],
   "source": [
    "def crunch_archive_dispatch_price_file(url):\n",
    "    data = (predispatch_daily.get_nemweb_file(url,filter_column_n = 3, filter_value = 'PRICE')\n",
    "        .dropna(axis=1)\n",
    "        .filter(['SETTLEMENTDATE','REGIONID','RRP'])\n",
    "       )\n",
    "    return data"
   ]
  },
  {
   "cell_type": "code",
   "execution_count": 12,
   "id": "f3ee9361",
   "metadata": {
    "ExecuteTime": {
     "end_time": "2022-10-21T06:58:50.289613Z",
     "start_time": "2022-10-21T06:58:47.593866Z"
    }
   },
   "outputs": [
    {
     "data": {
      "text/html": [
       "<div>\n",
       "<style scoped>\n",
       "    .dataframe tbody tr th:only-of-type {\n",
       "        vertical-align: middle;\n",
       "    }\n",
       "\n",
       "    .dataframe tbody tr th {\n",
       "        vertical-align: top;\n",
       "    }\n",
       "\n",
       "    .dataframe thead th {\n",
       "        text-align: right;\n",
       "    }\n",
       "</style>\n",
       "<table border=\"1\" class=\"dataframe\">\n",
       "  <thead>\n",
       "    <tr style=\"text-align: right;\">\n",
       "      <th>1</th>\n",
       "      <th>SETTLEMENTDATE</th>\n",
       "      <th>REGIONID</th>\n",
       "      <th>RRP</th>\n",
       "    </tr>\n",
       "  </thead>\n",
       "  <tbody>\n",
       "    <tr>\n",
       "      <th>2</th>\n",
       "      <td>2014/02/01 00:05:00</td>\n",
       "      <td>NSW1</td>\n",
       "      <td>49.74000</td>\n",
       "    </tr>\n",
       "    <tr>\n",
       "      <th>3</th>\n",
       "      <td>2014/02/01 00:05:00</td>\n",
       "      <td>QLD1</td>\n",
       "      <td>46.50000</td>\n",
       "    </tr>\n",
       "    <tr>\n",
       "      <th>4</th>\n",
       "      <td>2014/02/01 00:05:00</td>\n",
       "      <td>SA1</td>\n",
       "      <td>49.48058</td>\n",
       "    </tr>\n",
       "    <tr>\n",
       "      <th>5</th>\n",
       "      <td>2014/02/01 00:05:00</td>\n",
       "      <td>TAS1</td>\n",
       "      <td>44.96271</td>\n",
       "    </tr>\n",
       "    <tr>\n",
       "      <th>6</th>\n",
       "      <td>2014/02/01 00:05:00</td>\n",
       "      <td>VIC1</td>\n",
       "      <td>45.56046</td>\n",
       "    </tr>\n",
       "    <tr>\n",
       "      <th>...</th>\n",
       "      <td>...</td>\n",
       "      <td>...</td>\n",
       "      <td>...</td>\n",
       "    </tr>\n",
       "    <tr>\n",
       "      <th>40317</th>\n",
       "      <td>2014/03/01 00:00:00</td>\n",
       "      <td>NSW1</td>\n",
       "      <td>46.62177</td>\n",
       "    </tr>\n",
       "    <tr>\n",
       "      <th>40318</th>\n",
       "      <td>2014/03/01 00:00:00</td>\n",
       "      <td>QLD1</td>\n",
       "      <td>46.54996</td>\n",
       "    </tr>\n",
       "    <tr>\n",
       "      <th>40319</th>\n",
       "      <td>2014/03/01 00:00:00</td>\n",
       "      <td>SA1</td>\n",
       "      <td>43.24249</td>\n",
       "    </tr>\n",
       "    <tr>\n",
       "      <th>40320</th>\n",
       "      <td>2014/03/01 00:00:00</td>\n",
       "      <td>TAS1</td>\n",
       "      <td>39.30210</td>\n",
       "    </tr>\n",
       "    <tr>\n",
       "      <th>40321</th>\n",
       "      <td>2014/03/01 00:00:00</td>\n",
       "      <td>VIC1</td>\n",
       "      <td>40.91000</td>\n",
       "    </tr>\n",
       "  </tbody>\n",
       "</table>\n",
       "<p>40320 rows × 3 columns</p>\n",
       "</div>"
      ],
      "text/plain": [
       "1           SETTLEMENTDATE REGIONID       RRP\n",
       "2      2014/02/01 00:05:00     NSW1  49.74000\n",
       "3      2014/02/01 00:05:00     QLD1  46.50000\n",
       "4      2014/02/01 00:05:00      SA1  49.48058\n",
       "5      2014/02/01 00:05:00     TAS1  44.96271\n",
       "6      2014/02/01 00:05:00     VIC1  45.56046\n",
       "...                    ...      ...       ...\n",
       "40317  2014/03/01 00:00:00     NSW1  46.62177\n",
       "40318  2014/03/01 00:00:00     QLD1  46.54996\n",
       "40319  2014/03/01 00:00:00      SA1  43.24249\n",
       "40320  2014/03/01 00:00:00     TAS1  39.30210\n",
       "40321  2014/03/01 00:00:00     VIC1  40.91000\n",
       "\n",
       "[40320 rows x 3 columns]"
      ]
     },
     "execution_count": 12,
     "metadata": {},
     "output_type": "execute_result"
    }
   ],
   "source": [
    "crunch_archive_dispatch_file('https://nemweb.com.au/data_archive/Wholesale_Electricity/MMSDM/2014/MMSDM_2014_02/MMSDM_Historical_Data_SQLLoader/DATA/PUBLIC_DVD_DISPATCHPRICE_201402010000.zip')"
   ]
  },
  {
   "cell_type": "code",
   "execution_count": 7,
   "id": "3e5ea883-ebf9-4bb8-a925-34ac97e0df01",
   "metadata": {
    "execution": {
     "iopub.execute_input": "2022-10-11T04:40:00.906299Z",
     "iopub.status.busy": "2022-10-11T04:40:00.905299Z",
     "iopub.status.idle": "2022-10-11T04:40:00.930215Z",
     "shell.execute_reply": "2022-10-11T04:40:00.929705Z",
     "shell.execute_reply.started": "2022-10-11T04:40:00.906299Z"
    },
    "tags": []
   },
   "outputs": [
    {
     "data": {
      "text/html": [
       "<div>\n",
       "<style scoped>\n",
       "    .dataframe tbody tr th:only-of-type {\n",
       "        vertical-align: middle;\n",
       "    }\n",
       "\n",
       "    .dataframe tbody tr th {\n",
       "        vertical-align: top;\n",
       "    }\n",
       "\n",
       "    .dataframe thead th {\n",
       "        text-align: right;\n",
       "    }\n",
       "</style>\n",
       "<table border=\"1\" class=\"dataframe\">\n",
       "  <thead>\n",
       "    <tr style=\"text-align: right;\">\n",
       "      <th></th>\n",
       "      <th>LASTCHANGED</th>\n",
       "      <th>DATETIME</th>\n",
       "      <th>market</th>\n",
       "      <th>price</th>\n",
       "      <th>state</th>\n",
       "      <th>type</th>\n",
       "      <th>source_datetime</th>\n",
       "      <th>kind</th>\n",
       "    </tr>\n",
       "  </thead>\n",
       "  <tbody>\n",
       "    <tr>\n",
       "      <th>3880</th>\n",
       "      <td>2022-10-01</td>\n",
       "      <td>2022-10-01 00:00:00</td>\n",
       "      <td>RAISE60SEC</td>\n",
       "      <td>1.025000</td>\n",
       "      <td>VIC</td>\n",
       "      <td>FCAS</td>\n",
       "      <td>20221001 00:00</td>\n",
       "      <td>settled</td>\n",
       "    </tr>\n",
       "    <tr>\n",
       "      <th>4462</th>\n",
       "      <td>2022-10-01</td>\n",
       "      <td>2022-10-01 00:00:00</td>\n",
       "      <td>RAISE6SEC</td>\n",
       "      <td>0.915000</td>\n",
       "      <td>VIC</td>\n",
       "      <td>FCAS</td>\n",
       "      <td>20221001 00:00</td>\n",
       "      <td>settled</td>\n",
       "    </tr>\n",
       "    <tr>\n",
       "      <th>5044</th>\n",
       "      <td>2022-10-01</td>\n",
       "      <td>2022-10-01 00:00:00</td>\n",
       "      <td>RAISEREG</td>\n",
       "      <td>18.335000</td>\n",
       "      <td>VIC</td>\n",
       "      <td>FCAS</td>\n",
       "      <td>20221001 00:00</td>\n",
       "      <td>settled</td>\n",
       "    </tr>\n",
       "    <tr>\n",
       "      <th>486</th>\n",
       "      <td>2022-10-01</td>\n",
       "      <td>2022-10-01 00:30:00</td>\n",
       "      <td>LOWER5MIN</td>\n",
       "      <td>0.390000</td>\n",
       "      <td>MAINLANDAVG</td>\n",
       "      <td>FCAS</td>\n",
       "      <td>20221001 00:00</td>\n",
       "      <td>settled</td>\n",
       "    </tr>\n",
       "    <tr>\n",
       "      <th>1068</th>\n",
       "      <td>2022-10-01</td>\n",
       "      <td>2022-10-01 00:30:00</td>\n",
       "      <td>LOWER60SEC</td>\n",
       "      <td>0.796667</td>\n",
       "      <td>MAINLANDAVG</td>\n",
       "      <td>FCAS</td>\n",
       "      <td>20221001 00:00</td>\n",
       "      <td>settled</td>\n",
       "    </tr>\n",
       "    <tr>\n",
       "      <th>1650</th>\n",
       "      <td>2022-10-01</td>\n",
       "      <td>2022-10-01 00:30:00</td>\n",
       "      <td>LOWER6SEC</td>\n",
       "      <td>0.486667</td>\n",
       "      <td>MAINLANDAVG</td>\n",
       "      <td>FCAS</td>\n",
       "      <td>20221001 00:00</td>\n",
       "      <td>settled</td>\n",
       "    </tr>\n",
       "    <tr>\n",
       "      <th>2232</th>\n",
       "      <td>2022-10-01</td>\n",
       "      <td>2022-10-01 00:30:00</td>\n",
       "      <td>LOWERREG</td>\n",
       "      <td>9.623333</td>\n",
       "      <td>MAINLANDAVG</td>\n",
       "      <td>FCAS</td>\n",
       "      <td>20221001 00:00</td>\n",
       "      <td>settled</td>\n",
       "    </tr>\n",
       "    <tr>\n",
       "      <th>2814</th>\n",
       "      <td>2022-10-01</td>\n",
       "      <td>2022-10-01 00:30:00</td>\n",
       "      <td>RAISE5MIN</td>\n",
       "      <td>0.390000</td>\n",
       "      <td>MAINLANDAVG</td>\n",
       "      <td>FCAS</td>\n",
       "      <td>20221001 00:00</td>\n",
       "      <td>settled</td>\n",
       "    </tr>\n",
       "    <tr>\n",
       "      <th>3396</th>\n",
       "      <td>2022-10-01</td>\n",
       "      <td>2022-10-01 00:30:00</td>\n",
       "      <td>RAISE60SEC</td>\n",
       "      <td>0.860000</td>\n",
       "      <td>MAINLANDAVG</td>\n",
       "      <td>FCAS</td>\n",
       "      <td>20221001 00:00</td>\n",
       "      <td>settled</td>\n",
       "    </tr>\n",
       "    <tr>\n",
       "      <th>3978</th>\n",
       "      <td>2022-10-01</td>\n",
       "      <td>2022-10-01 00:30:00</td>\n",
       "      <td>RAISE6SEC</td>\n",
       "      <td>0.468333</td>\n",
       "      <td>MAINLANDAVG</td>\n",
       "      <td>FCAS</td>\n",
       "      <td>20221001 00:00</td>\n",
       "      <td>settled</td>\n",
       "    </tr>\n",
       "    <tr>\n",
       "      <th>4560</th>\n",
       "      <td>2022-10-01</td>\n",
       "      <td>2022-10-01 00:30:00</td>\n",
       "      <td>RAISEREG</td>\n",
       "      <td>7.660000</td>\n",
       "      <td>MAINLANDAVG</td>\n",
       "      <td>FCAS</td>\n",
       "      <td>20221001 00:00</td>\n",
       "      <td>settled</td>\n",
       "    </tr>\n",
       "    <tr>\n",
       "      <th>1</th>\n",
       "      <td>2022-10-01</td>\n",
       "      <td>2022-10-01 00:30:00</td>\n",
       "      <td>Energy</td>\n",
       "      <td>156.046667</td>\n",
       "      <td>NSW</td>\n",
       "      <td>Energy</td>\n",
       "      <td>20221001 00:00</td>\n",
       "      <td>settled</td>\n",
       "    </tr>\n",
       "    <tr>\n",
       "      <th>583</th>\n",
       "      <td>2022-10-01</td>\n",
       "      <td>2022-10-01 00:30:00</td>\n",
       "      <td>LOWER5MIN</td>\n",
       "      <td>0.390000</td>\n",
       "      <td>NSW</td>\n",
       "      <td>FCAS</td>\n",
       "      <td>20221001 00:00</td>\n",
       "      <td>settled</td>\n",
       "    </tr>\n",
       "    <tr>\n",
       "      <th>1165</th>\n",
       "      <td>2022-10-01</td>\n",
       "      <td>2022-10-01 00:30:00</td>\n",
       "      <td>LOWER60SEC</td>\n",
       "      <td>0.796667</td>\n",
       "      <td>NSW</td>\n",
       "      <td>FCAS</td>\n",
       "      <td>20221001 00:00</td>\n",
       "      <td>settled</td>\n",
       "    </tr>\n",
       "    <tr>\n",
       "      <th>1747</th>\n",
       "      <td>2022-10-01</td>\n",
       "      <td>2022-10-01 00:30:00</td>\n",
       "      <td>LOWER6SEC</td>\n",
       "      <td>0.486667</td>\n",
       "      <td>NSW</td>\n",
       "      <td>FCAS</td>\n",
       "      <td>20221001 00:00</td>\n",
       "      <td>settled</td>\n",
       "    </tr>\n",
       "    <tr>\n",
       "      <th>2329</th>\n",
       "      <td>2022-10-01</td>\n",
       "      <td>2022-10-01 00:30:00</td>\n",
       "      <td>LOWERREG</td>\n",
       "      <td>9.623333</td>\n",
       "      <td>NSW</td>\n",
       "      <td>FCAS</td>\n",
       "      <td>20221001 00:00</td>\n",
       "      <td>settled</td>\n",
       "    </tr>\n",
       "    <tr>\n",
       "      <th>2911</th>\n",
       "      <td>2022-10-01</td>\n",
       "      <td>2022-10-01 00:30:00</td>\n",
       "      <td>RAISE5MIN</td>\n",
       "      <td>0.390000</td>\n",
       "      <td>NSW</td>\n",
       "      <td>FCAS</td>\n",
       "      <td>20221001 00:00</td>\n",
       "      <td>settled</td>\n",
       "    </tr>\n",
       "    <tr>\n",
       "      <th>3493</th>\n",
       "      <td>2022-10-01</td>\n",
       "      <td>2022-10-01 00:30:00</td>\n",
       "      <td>RAISE60SEC</td>\n",
       "      <td>0.860000</td>\n",
       "      <td>NSW</td>\n",
       "      <td>FCAS</td>\n",
       "      <td>20221001 00:00</td>\n",
       "      <td>settled</td>\n",
       "    </tr>\n",
       "    <tr>\n",
       "      <th>4075</th>\n",
       "      <td>2022-10-01</td>\n",
       "      <td>2022-10-01 00:30:00</td>\n",
       "      <td>RAISE6SEC</td>\n",
       "      <td>0.468333</td>\n",
       "      <td>NSW</td>\n",
       "      <td>FCAS</td>\n",
       "      <td>20221001 00:00</td>\n",
       "      <td>settled</td>\n",
       "    </tr>\n",
       "    <tr>\n",
       "      <th>4657</th>\n",
       "      <td>2022-10-01</td>\n",
       "      <td>2022-10-01 00:30:00</td>\n",
       "      <td>RAISEREG</td>\n",
       "      <td>7.660000</td>\n",
       "      <td>NSW</td>\n",
       "      <td>FCAS</td>\n",
       "      <td>20221001 00:00</td>\n",
       "      <td>settled</td>\n",
       "    </tr>\n",
       "    <tr>\n",
       "      <th>98</th>\n",
       "      <td>2022-10-01</td>\n",
       "      <td>2022-10-01 00:30:00</td>\n",
       "      <td>Energy</td>\n",
       "      <td>149.493333</td>\n",
       "      <td>QLD</td>\n",
       "      <td>Energy</td>\n",
       "      <td>20221001 00:00</td>\n",
       "      <td>settled</td>\n",
       "    </tr>\n",
       "    <tr>\n",
       "      <th>680</th>\n",
       "      <td>2022-10-01</td>\n",
       "      <td>2022-10-01 00:30:00</td>\n",
       "      <td>LOWER5MIN</td>\n",
       "      <td>0.390000</td>\n",
       "      <td>QLD</td>\n",
       "      <td>FCAS</td>\n",
       "      <td>20221001 00:00</td>\n",
       "      <td>settled</td>\n",
       "    </tr>\n",
       "    <tr>\n",
       "      <th>1262</th>\n",
       "      <td>2022-10-01</td>\n",
       "      <td>2022-10-01 00:30:00</td>\n",
       "      <td>LOWER60SEC</td>\n",
       "      <td>0.796667</td>\n",
       "      <td>QLD</td>\n",
       "      <td>FCAS</td>\n",
       "      <td>20221001 00:00</td>\n",
       "      <td>settled</td>\n",
       "    </tr>\n",
       "    <tr>\n",
       "      <th>1844</th>\n",
       "      <td>2022-10-01</td>\n",
       "      <td>2022-10-01 00:30:00</td>\n",
       "      <td>LOWER6SEC</td>\n",
       "      <td>0.486667</td>\n",
       "      <td>QLD</td>\n",
       "      <td>FCAS</td>\n",
       "      <td>20221001 00:00</td>\n",
       "      <td>settled</td>\n",
       "    </tr>\n",
       "    <tr>\n",
       "      <th>2426</th>\n",
       "      <td>2022-10-01</td>\n",
       "      <td>2022-10-01 00:30:00</td>\n",
       "      <td>LOWERREG</td>\n",
       "      <td>9.623333</td>\n",
       "      <td>QLD</td>\n",
       "      <td>FCAS</td>\n",
       "      <td>20221001 00:00</td>\n",
       "      <td>settled</td>\n",
       "    </tr>\n",
       "    <tr>\n",
       "      <th>3008</th>\n",
       "      <td>2022-10-01</td>\n",
       "      <td>2022-10-01 00:30:00</td>\n",
       "      <td>RAISE5MIN</td>\n",
       "      <td>0.390000</td>\n",
       "      <td>QLD</td>\n",
       "      <td>FCAS</td>\n",
       "      <td>20221001 00:00</td>\n",
       "      <td>settled</td>\n",
       "    </tr>\n",
       "    <tr>\n",
       "      <th>3590</th>\n",
       "      <td>2022-10-01</td>\n",
       "      <td>2022-10-01 00:30:00</td>\n",
       "      <td>RAISE60SEC</td>\n",
       "      <td>0.860000</td>\n",
       "      <td>QLD</td>\n",
       "      <td>FCAS</td>\n",
       "      <td>20221001 00:00</td>\n",
       "      <td>settled</td>\n",
       "    </tr>\n",
       "    <tr>\n",
       "      <th>4172</th>\n",
       "      <td>2022-10-01</td>\n",
       "      <td>2022-10-01 00:30:00</td>\n",
       "      <td>RAISE6SEC</td>\n",
       "      <td>0.468333</td>\n",
       "      <td>QLD</td>\n",
       "      <td>FCAS</td>\n",
       "      <td>20221001 00:00</td>\n",
       "      <td>settled</td>\n",
       "    </tr>\n",
       "    <tr>\n",
       "      <th>4754</th>\n",
       "      <td>2022-10-01</td>\n",
       "      <td>2022-10-01 00:30:00</td>\n",
       "      <td>RAISEREG</td>\n",
       "      <td>7.660000</td>\n",
       "      <td>QLD</td>\n",
       "      <td>FCAS</td>\n",
       "      <td>20221001 00:00</td>\n",
       "      <td>settled</td>\n",
       "    </tr>\n",
       "    <tr>\n",
       "      <th>195</th>\n",
       "      <td>2022-10-01</td>\n",
       "      <td>2022-10-01 00:30:00</td>\n",
       "      <td>Energy</td>\n",
       "      <td>170.851667</td>\n",
       "      <td>SA</td>\n",
       "      <td>Energy</td>\n",
       "      <td>20221001 00:00</td>\n",
       "      <td>settled</td>\n",
       "    </tr>\n",
       "    <tr>\n",
       "      <th>777</th>\n",
       "      <td>2022-10-01</td>\n",
       "      <td>2022-10-01 00:30:00</td>\n",
       "      <td>LOWER5MIN</td>\n",
       "      <td>0.390000</td>\n",
       "      <td>SA</td>\n",
       "      <td>FCAS</td>\n",
       "      <td>20221001 00:00</td>\n",
       "      <td>settled</td>\n",
       "    </tr>\n",
       "    <tr>\n",
       "      <th>1359</th>\n",
       "      <td>2022-10-01</td>\n",
       "      <td>2022-10-01 00:30:00</td>\n",
       "      <td>LOWER60SEC</td>\n",
       "      <td>0.796667</td>\n",
       "      <td>SA</td>\n",
       "      <td>FCAS</td>\n",
       "      <td>20221001 00:00</td>\n",
       "      <td>settled</td>\n",
       "    </tr>\n",
       "    <tr>\n",
       "      <th>1941</th>\n",
       "      <td>2022-10-01</td>\n",
       "      <td>2022-10-01 00:30:00</td>\n",
       "      <td>LOWER6SEC</td>\n",
       "      <td>0.486667</td>\n",
       "      <td>SA</td>\n",
       "      <td>FCAS</td>\n",
       "      <td>20221001 00:00</td>\n",
       "      <td>settled</td>\n",
       "    </tr>\n",
       "    <tr>\n",
       "      <th>2523</th>\n",
       "      <td>2022-10-01</td>\n",
       "      <td>2022-10-01 00:30:00</td>\n",
       "      <td>LOWERREG</td>\n",
       "      <td>9.623333</td>\n",
       "      <td>SA</td>\n",
       "      <td>FCAS</td>\n",
       "      <td>20221001 00:00</td>\n",
       "      <td>settled</td>\n",
       "    </tr>\n",
       "    <tr>\n",
       "      <th>3105</th>\n",
       "      <td>2022-10-01</td>\n",
       "      <td>2022-10-01 00:30:00</td>\n",
       "      <td>RAISE5MIN</td>\n",
       "      <td>0.390000</td>\n",
       "      <td>SA</td>\n",
       "      <td>FCAS</td>\n",
       "      <td>20221001 00:00</td>\n",
       "      <td>settled</td>\n",
       "    </tr>\n",
       "    <tr>\n",
       "      <th>3687</th>\n",
       "      <td>2022-10-01</td>\n",
       "      <td>2022-10-01 00:30:00</td>\n",
       "      <td>RAISE60SEC</td>\n",
       "      <td>0.860000</td>\n",
       "      <td>SA</td>\n",
       "      <td>FCAS</td>\n",
       "      <td>20221001 00:00</td>\n",
       "      <td>settled</td>\n",
       "    </tr>\n",
       "    <tr>\n",
       "      <th>4269</th>\n",
       "      <td>2022-10-01</td>\n",
       "      <td>2022-10-01 00:30:00</td>\n",
       "      <td>RAISE6SEC</td>\n",
       "      <td>0.468333</td>\n",
       "      <td>SA</td>\n",
       "      <td>FCAS</td>\n",
       "      <td>20221001 00:00</td>\n",
       "      <td>settled</td>\n",
       "    </tr>\n",
       "    <tr>\n",
       "      <th>4851</th>\n",
       "      <td>2022-10-01</td>\n",
       "      <td>2022-10-01 00:30:00</td>\n",
       "      <td>RAISEREG</td>\n",
       "      <td>7.660000</td>\n",
       "      <td>SA</td>\n",
       "      <td>FCAS</td>\n",
       "      <td>20221001 00:00</td>\n",
       "      <td>settled</td>\n",
       "    </tr>\n",
       "    <tr>\n",
       "      <th>292</th>\n",
       "      <td>2022-10-01</td>\n",
       "      <td>2022-10-01 00:30:00</td>\n",
       "      <td>Energy</td>\n",
       "      <td>185.236667</td>\n",
       "      <td>TAS</td>\n",
       "      <td>Energy</td>\n",
       "      <td>20221001 00:00</td>\n",
       "      <td>settled</td>\n",
       "    </tr>\n",
       "    <tr>\n",
       "      <th>874</th>\n",
       "      <td>2022-10-01</td>\n",
       "      <td>2022-10-01 00:30:00</td>\n",
       "      <td>LOWER5MIN</td>\n",
       "      <td>0.390000</td>\n",
       "      <td>TAS</td>\n",
       "      <td>FCAS</td>\n",
       "      <td>20221001 00:00</td>\n",
       "      <td>settled</td>\n",
       "    </tr>\n",
       "    <tr>\n",
       "      <th>1456</th>\n",
       "      <td>2022-10-01</td>\n",
       "      <td>2022-10-01 00:30:00</td>\n",
       "      <td>LOWER60SEC</td>\n",
       "      <td>3.220000</td>\n",
       "      <td>TAS</td>\n",
       "      <td>FCAS</td>\n",
       "      <td>20221001 00:00</td>\n",
       "      <td>settled</td>\n",
       "    </tr>\n",
       "    <tr>\n",
       "      <th>2038</th>\n",
       "      <td>2022-10-01</td>\n",
       "      <td>2022-10-01 00:30:00</td>\n",
       "      <td>LOWER6SEC</td>\n",
       "      <td>0.390000</td>\n",
       "      <td>TAS</td>\n",
       "      <td>FCAS</td>\n",
       "      <td>20221001 00:00</td>\n",
       "      <td>settled</td>\n",
       "    </tr>\n",
       "    <tr>\n",
       "      <th>2620</th>\n",
       "      <td>2022-10-01</td>\n",
       "      <td>2022-10-01 00:30:00</td>\n",
       "      <td>LOWERREG</td>\n",
       "      <td>2.731667</td>\n",
       "      <td>TAS</td>\n",
       "      <td>FCAS</td>\n",
       "      <td>20221001 00:00</td>\n",
       "      <td>settled</td>\n",
       "    </tr>\n",
       "    <tr>\n",
       "      <th>3202</th>\n",
       "      <td>2022-10-01</td>\n",
       "      <td>2022-10-01 00:30:00</td>\n",
       "      <td>RAISE5MIN</td>\n",
       "      <td>0.390000</td>\n",
       "      <td>TAS</td>\n",
       "      <td>FCAS</td>\n",
       "      <td>20221001 00:00</td>\n",
       "      <td>settled</td>\n",
       "    </tr>\n",
       "    <tr>\n",
       "      <th>3784</th>\n",
       "      <td>2022-10-01</td>\n",
       "      <td>2022-10-01 00:30:00</td>\n",
       "      <td>RAISE60SEC</td>\n",
       "      <td>0.860000</td>\n",
       "      <td>TAS</td>\n",
       "      <td>FCAS</td>\n",
       "      <td>20221001 00:00</td>\n",
       "      <td>settled</td>\n",
       "    </tr>\n",
       "    <tr>\n",
       "      <th>4366</th>\n",
       "      <td>2022-10-01</td>\n",
       "      <td>2022-10-01 00:30:00</td>\n",
       "      <td>RAISE6SEC</td>\n",
       "      <td>0.468333</td>\n",
       "      <td>TAS</td>\n",
       "      <td>FCAS</td>\n",
       "      <td>20221001 00:00</td>\n",
       "      <td>settled</td>\n",
       "    </tr>\n",
       "    <tr>\n",
       "      <th>4948</th>\n",
       "      <td>2022-10-01</td>\n",
       "      <td>2022-10-01 00:30:00</td>\n",
       "      <td>RAISEREG</td>\n",
       "      <td>11.430000</td>\n",
       "      <td>TAS</td>\n",
       "      <td>FCAS</td>\n",
       "      <td>20221001 00:00</td>\n",
       "      <td>settled</td>\n",
       "    </tr>\n",
       "    <tr>\n",
       "      <th>389</th>\n",
       "      <td>2022-10-01</td>\n",
       "      <td>2022-10-01 00:30:00</td>\n",
       "      <td>Energy</td>\n",
       "      <td>151.635000</td>\n",
       "      <td>VIC</td>\n",
       "      <td>Energy</td>\n",
       "      <td>20221001 00:00</td>\n",
       "      <td>settled</td>\n",
       "    </tr>\n",
       "    <tr>\n",
       "      <th>971</th>\n",
       "      <td>2022-10-01</td>\n",
       "      <td>2022-10-01 00:30:00</td>\n",
       "      <td>LOWER5MIN</td>\n",
       "      <td>0.390000</td>\n",
       "      <td>VIC</td>\n",
       "      <td>FCAS</td>\n",
       "      <td>20221001 00:00</td>\n",
       "      <td>settled</td>\n",
       "    </tr>\n",
       "  </tbody>\n",
       "</table>\n",
       "</div>"
      ],
      "text/plain": [
       "     LASTCHANGED            DATETIME      market       price        state  \\\n",
       "3880  2022-10-01 2022-10-01 00:00:00  RAISE60SEC    1.025000          VIC   \n",
       "4462  2022-10-01 2022-10-01 00:00:00   RAISE6SEC    0.915000          VIC   \n",
       "5044  2022-10-01 2022-10-01 00:00:00    RAISEREG   18.335000          VIC   \n",
       "486   2022-10-01 2022-10-01 00:30:00   LOWER5MIN    0.390000  MAINLANDAVG   \n",
       "1068  2022-10-01 2022-10-01 00:30:00  LOWER60SEC    0.796667  MAINLANDAVG   \n",
       "1650  2022-10-01 2022-10-01 00:30:00   LOWER6SEC    0.486667  MAINLANDAVG   \n",
       "2232  2022-10-01 2022-10-01 00:30:00    LOWERREG    9.623333  MAINLANDAVG   \n",
       "2814  2022-10-01 2022-10-01 00:30:00   RAISE5MIN    0.390000  MAINLANDAVG   \n",
       "3396  2022-10-01 2022-10-01 00:30:00  RAISE60SEC    0.860000  MAINLANDAVG   \n",
       "3978  2022-10-01 2022-10-01 00:30:00   RAISE6SEC    0.468333  MAINLANDAVG   \n",
       "4560  2022-10-01 2022-10-01 00:30:00    RAISEREG    7.660000  MAINLANDAVG   \n",
       "1     2022-10-01 2022-10-01 00:30:00      Energy  156.046667          NSW   \n",
       "583   2022-10-01 2022-10-01 00:30:00   LOWER5MIN    0.390000          NSW   \n",
       "1165  2022-10-01 2022-10-01 00:30:00  LOWER60SEC    0.796667          NSW   \n",
       "1747  2022-10-01 2022-10-01 00:30:00   LOWER6SEC    0.486667          NSW   \n",
       "2329  2022-10-01 2022-10-01 00:30:00    LOWERREG    9.623333          NSW   \n",
       "2911  2022-10-01 2022-10-01 00:30:00   RAISE5MIN    0.390000          NSW   \n",
       "3493  2022-10-01 2022-10-01 00:30:00  RAISE60SEC    0.860000          NSW   \n",
       "4075  2022-10-01 2022-10-01 00:30:00   RAISE6SEC    0.468333          NSW   \n",
       "4657  2022-10-01 2022-10-01 00:30:00    RAISEREG    7.660000          NSW   \n",
       "98    2022-10-01 2022-10-01 00:30:00      Energy  149.493333          QLD   \n",
       "680   2022-10-01 2022-10-01 00:30:00   LOWER5MIN    0.390000          QLD   \n",
       "1262  2022-10-01 2022-10-01 00:30:00  LOWER60SEC    0.796667          QLD   \n",
       "1844  2022-10-01 2022-10-01 00:30:00   LOWER6SEC    0.486667          QLD   \n",
       "2426  2022-10-01 2022-10-01 00:30:00    LOWERREG    9.623333          QLD   \n",
       "3008  2022-10-01 2022-10-01 00:30:00   RAISE5MIN    0.390000          QLD   \n",
       "3590  2022-10-01 2022-10-01 00:30:00  RAISE60SEC    0.860000          QLD   \n",
       "4172  2022-10-01 2022-10-01 00:30:00   RAISE6SEC    0.468333          QLD   \n",
       "4754  2022-10-01 2022-10-01 00:30:00    RAISEREG    7.660000          QLD   \n",
       "195   2022-10-01 2022-10-01 00:30:00      Energy  170.851667           SA   \n",
       "777   2022-10-01 2022-10-01 00:30:00   LOWER5MIN    0.390000           SA   \n",
       "1359  2022-10-01 2022-10-01 00:30:00  LOWER60SEC    0.796667           SA   \n",
       "1941  2022-10-01 2022-10-01 00:30:00   LOWER6SEC    0.486667           SA   \n",
       "2523  2022-10-01 2022-10-01 00:30:00    LOWERREG    9.623333           SA   \n",
       "3105  2022-10-01 2022-10-01 00:30:00   RAISE5MIN    0.390000           SA   \n",
       "3687  2022-10-01 2022-10-01 00:30:00  RAISE60SEC    0.860000           SA   \n",
       "4269  2022-10-01 2022-10-01 00:30:00   RAISE6SEC    0.468333           SA   \n",
       "4851  2022-10-01 2022-10-01 00:30:00    RAISEREG    7.660000           SA   \n",
       "292   2022-10-01 2022-10-01 00:30:00      Energy  185.236667          TAS   \n",
       "874   2022-10-01 2022-10-01 00:30:00   LOWER5MIN    0.390000          TAS   \n",
       "1456  2022-10-01 2022-10-01 00:30:00  LOWER60SEC    3.220000          TAS   \n",
       "2038  2022-10-01 2022-10-01 00:30:00   LOWER6SEC    0.390000          TAS   \n",
       "2620  2022-10-01 2022-10-01 00:30:00    LOWERREG    2.731667          TAS   \n",
       "3202  2022-10-01 2022-10-01 00:30:00   RAISE5MIN    0.390000          TAS   \n",
       "3784  2022-10-01 2022-10-01 00:30:00  RAISE60SEC    0.860000          TAS   \n",
       "4366  2022-10-01 2022-10-01 00:30:00   RAISE6SEC    0.468333          TAS   \n",
       "4948  2022-10-01 2022-10-01 00:30:00    RAISEREG   11.430000          TAS   \n",
       "389   2022-10-01 2022-10-01 00:30:00      Energy  151.635000          VIC   \n",
       "971   2022-10-01 2022-10-01 00:30:00   LOWER5MIN    0.390000          VIC   \n",
       "\n",
       "        type source_datetime     kind  \n",
       "3880    FCAS  20221001 00:00  settled  \n",
       "4462    FCAS  20221001 00:00  settled  \n",
       "5044    FCAS  20221001 00:00  settled  \n",
       "486     FCAS  20221001 00:00  settled  \n",
       "1068    FCAS  20221001 00:00  settled  \n",
       "1650    FCAS  20221001 00:00  settled  \n",
       "2232    FCAS  20221001 00:00  settled  \n",
       "2814    FCAS  20221001 00:00  settled  \n",
       "3396    FCAS  20221001 00:00  settled  \n",
       "3978    FCAS  20221001 00:00  settled  \n",
       "4560    FCAS  20221001 00:00  settled  \n",
       "1     Energy  20221001 00:00  settled  \n",
       "583     FCAS  20221001 00:00  settled  \n",
       "1165    FCAS  20221001 00:00  settled  \n",
       "1747    FCAS  20221001 00:00  settled  \n",
       "2329    FCAS  20221001 00:00  settled  \n",
       "2911    FCAS  20221001 00:00  settled  \n",
       "3493    FCAS  20221001 00:00  settled  \n",
       "4075    FCAS  20221001 00:00  settled  \n",
       "4657    FCAS  20221001 00:00  settled  \n",
       "98    Energy  20221001 00:00  settled  \n",
       "680     FCAS  20221001 00:00  settled  \n",
       "1262    FCAS  20221001 00:00  settled  \n",
       "1844    FCAS  20221001 00:00  settled  \n",
       "2426    FCAS  20221001 00:00  settled  \n",
       "3008    FCAS  20221001 00:00  settled  \n",
       "3590    FCAS  20221001 00:00  settled  \n",
       "4172    FCAS  20221001 00:00  settled  \n",
       "4754    FCAS  20221001 00:00  settled  \n",
       "195   Energy  20221001 00:00  settled  \n",
       "777     FCAS  20221001 00:00  settled  \n",
       "1359    FCAS  20221001 00:00  settled  \n",
       "1941    FCAS  20221001 00:00  settled  \n",
       "2523    FCAS  20221001 00:00  settled  \n",
       "3105    FCAS  20221001 00:00  settled  \n",
       "3687    FCAS  20221001 00:00  settled  \n",
       "4269    FCAS  20221001 00:00  settled  \n",
       "4851    FCAS  20221001 00:00  settled  \n",
       "292   Energy  20221001 00:00  settled  \n",
       "874     FCAS  20221001 00:00  settled  \n",
       "1456    FCAS  20221001 00:00  settled  \n",
       "2038    FCAS  20221001 00:00  settled  \n",
       "2620    FCAS  20221001 00:00  settled  \n",
       "3202    FCAS  20221001 00:00  settled  \n",
       "3784    FCAS  20221001 00:00  settled  \n",
       "4366    FCAS  20221001 00:00  settled  \n",
       "4948    FCAS  20221001 00:00  settled  \n",
       "389   Energy  20221001 00:00  settled  \n",
       "971     FCAS  20221001 00:00  settled  "
      ]
     },
     "execution_count": 7,
     "metadata": {},
     "output_type": "execute_result"
    }
   ],
   "source": [
    "predispatch_daily.crunch_archive_predispatch_file()"
   ]
  },
  {
   "cell_type": "code",
   "execution_count": null,
   "id": "6640a80c-deea-49bd-b2b7-f5ad7af9b0c6",
   "metadata": {},
   "outputs": [],
   "source": []
  }
 ],
 "metadata": {
  "kernelspec": {
   "display_name": "Python 3 (ipykernel)",
   "language": "python",
   "name": "python3"
  },
  "language_info": {
   "codemirror_mode": {
    "name": "ipython",
    "version": 3
   },
   "file_extension": ".py",
   "mimetype": "text/x-python",
   "name": "python",
   "nbconvert_exporter": "python",
   "pygments_lexer": "ipython3",
   "version": "3.8.13"
  },
  "toc": {
   "base_numbering": 1,
   "nav_menu": {},
   "number_sections": true,
   "sideBar": true,
   "skip_h1_title": false,
   "title_cell": "Table of Contents",
   "title_sidebar": "Contents",
   "toc_cell": false,
   "toc_position": {},
   "toc_section_display": true,
   "toc_window_display": false
  }
 },
 "nbformat": 4,
 "nbformat_minor": 5
}
